{
 "cells": [
  {
   "cell_type": "markdown",
   "metadata": {},
   "source": [
    "# 2 Data wrangling<a id='2_Data_wrangling'></a>"
   ]
  },
  {
   "cell_type": "markdown",
   "metadata": {},
   "source": [
    "## 2.1 Contents<a id='2.1_Contents'></a>\n",
    "* [2 Data wrangling](#2_Data_wrangling)\n",
    "  * [2.1 Contents](#2.1_Contents)\n",
    "  * [2.2 Introduction](#2.2_Introduction)\n",
    "    * [2.2.1 Recap Of Data Science Problem](#2.2.1_Recap_Of_Data_Science_Problem)\n",
    "    * [2.2.2 Introduction To Notebook](#2.2.2_Introduction_To_Notebook)\n",
    "  * [2.3 Imports](#2.3_Imports)\n",
    "  * [2.4 Objectives](#2.4_Objectives)\n",
    "  * [2.5 Load The Ski Resort Data](#2.5_Load_The_Ski_Resort_Data)\n",
    "  * [2.6 Explore The Data](#2.6_Explore_The_Data)\n",
    "    * [2.6.1 Find Your Resort Of Interest](#2.6.1_Find_Your_Resort_Of_Interest)\n",
    "    * [2.6.2 Number Of Missing Values By Column](#2.6.2_Number_Of_Missing_Values_By_Column)\n",
    "    * [2.6.3 Categorical Features](#2.6.3_Categorical_Features)\n",
    "      * [2.6.3.1 Unique Resort Names](#2.6.3.1_Unique_Resort_Names)\n",
    "      * [2.6.3.2 Region And State](#2.6.3.2_Region_And_State)\n",
    "      * [2.6.3.3 Number of distinct regions and states](#2.6.3.3_Number_of_distinct_regions_and_states)\n",
    "      * [2.6.3.4 Distribution Of Resorts By Region And State](#2.6.3.4_Distribution_Of_Resorts_By_Region_And_State)\n",
    "      * [2.6.3.5 Distribution Of Ticket Price By State](#2.6.3.5_Distribution_Of_Ticket_Price_By_State)\n",
    "        * [2.6.3.5.1 Average weekend and weekday price by state](#2.6.3.5.1_Average_weekend_and_weekday_price_by_state)\n",
    "        * [2.6.3.5.2 Distribution of weekday and weekend price by state](#2.6.3.5.2_Distribution_of_weekday_and_weekend_price_by_state)\n",
    "    * [2.6.4 Numeric Features](#2.6.4_Numeric_Features)\n",
    "      * [2.6.4.1 Numeric data summary](#2.6.4.1_Numeric_data_summary)\n",
    "      * [2.6.4.2 Distributions Of Feature Values](#2.6.4.2_Distributions_Of_Feature_Values)\n",
    "        * [2.6.4.2.1 SkiableTerrain_ac](#2.6.4.2.1_SkiableTerrain_ac)\n",
    "        * [2.6.4.2.2 Snow Making_ac](#2.6.4.2.2_Snow_Making_ac)\n",
    "        * [2.6.4.2.3 fastEight](#2.6.4.2.3_fastEight)\n",
    "        * [2.6.4.2.4 fastSixes and Trams](#2.6.4.2.4_fastSixes_and_Trams)\n",
    "  * [2.7 Derive State-wide Summary Statistics For Our Market Segment](#2.7_Derive_State-wide_Summary_Statistics_For_Our_Market_Segment)\n",
    "  * [2.8 Drop Rows With No Price Data](#2.8_Drop_Rows_With_No_Price_Data)\n",
    "  * [2.9 Review distributions](#2.9_Review_distributions)\n",
    "  * [2.10 Population data](#2.10_Population_data)\n",
    "  * [2.11 Target Feature](#2.11_Target_Feature)\n",
    "    * [2.11.1 Number Of Missing Values By Row - Resort](#2.11.1_Number_Of_Missing_Values_By_Row_-_Resort)\n",
    "  * [2.12 Save data](#2.12_Save_data)\n",
    "  * [2.13 Summary](#2.13_Summary)\n"
   ]
  },
  {
   "cell_type": "markdown",
   "metadata": {},
   "source": [
    "## 2.2 Introduction<a id='2.2_Introduction'></a>"
   ]
  },
  {
   "cell_type": "markdown",
   "metadata": {},
   "source": [
    "This step focuses on collecting your data, organizing it, and making sure it's well defined. Paying attention to these tasks will pay off greatly later on. Some data cleaning can be done at this stage, but it's important not to be overzealous in your cleaning before you've explored the data to better understand it."
   ]
  },
  {
   "cell_type": "markdown",
   "metadata": {},
   "source": [
    "### 2.2.1 Recap Of Data Science Problem<a id='2.2.1_Recap_Of_Data_Science_Problem'></a>"
   ]
  },
  {
   "cell_type": "markdown",
   "metadata": {},
   "source": [
    "The purpose of this data science project is to come up with a pricing model for ski resort tickets in our market segment. Big Mountain suspects it may not be maximizing its returns, relative to its position in the market. It also does not have a strong sense of what facilities matter most to visitors, particularly which ones they're most likely to pay more for. This project aims to build a predictive model for ticket price based on a number of facilities, or properties, boasted by resorts (*at the resorts).* \n",
    "This model will be used to provide guidance for Big Mountain's pricing and future facility investment plans."
   ]
  },
  {
   "cell_type": "markdown",
   "metadata": {},
   "source": [
    "### 2.2.2 Introduction To Notebook<a id='2.2.2_Introduction_To_Notebook'></a>"
   ]
  },
  {
   "cell_type": "markdown",
   "metadata": {},
   "source": [
    "Notebooks grow organically as we explore our data. If you used paper notebooks, you could discover a mistake and cross out or revise some earlier work. Later work may give you a reason to revisit earlier work and explore it further. The great thing about Jupyter notebooks is that you can edit, add, and move cells around without needing to cross out figures or scrawl in the margin. However, this means you can lose track of your changes easily. If you worked in a regulated environment, the company may have a a policy of always dating entries and clearly crossing out any mistakes, with your initials and the date.\n",
    "\n",
    "**Best practice here is to commit your changes using a version control system such as Git.** Try to get into the habit of adding and committing your files to the Git repository you're working in after you save them. You're are working in a Git repository, right? If you make a significant change, save the notebook and commit it to Git. In fact, if you're about to make a significant change, it's a good idea to commit before as well. Then if the change is a mess, you've got the previous version to go back to.\n",
    "\n",
    "**Another best practice with notebooks is to try to keep them organized with helpful headings and comments.** Not only can a good structure, but associated headings help you keep track of what you've done and your current focus. Anyone reading your notebook will have a much easier time following the flow of work. Remember, that 'anyone' will most likely be you. Be kind to future you!\n",
    "\n",
    "In this notebook, note how we try to use well structured, helpful headings that frequently are self-explanatory, and we make a brief note after any results to highlight key takeaways. This is an immense help to anyone reading your notebook and it will greatly help you when you come to summarise your findings. **Top tip: jot down key findings in a final summary at the end of the notebook as they arise. You can tidy this up later.** This is a great way to ensure important results don't get lost in the middle of your notebooks."
   ]
  },
  {
   "cell_type": "markdown",
   "metadata": {},
   "source": [
    "In this, and subsequent notebooks, there are coding tasks marked with `#Code task n#` with code to complete. The `___` will guide you to where you need to insert code."
   ]
  },
  {
   "cell_type": "markdown",
   "metadata": {},
   "source": [
    "## 2.3 Imports<a id='2.3_Imports'></a>"
   ]
  },
  {
   "cell_type": "markdown",
   "metadata": {},
   "source": [
    "Placing your imports all together at the start of your notebook means you only need to consult one place to check your notebook's dependencies. By all means import something 'in situ' later on when you're experimenting, but if the imported dependency ends up being kept, you should subsequently move the import statement here with the rest."
   ]
  },
  {
   "cell_type": "code",
   "execution_count": 1,
   "metadata": {},
   "outputs": [],
   "source": [
    "#Code task 1#\n",
    "#Import pandas, matplotlib.pyplot, and seaborn in the correct lines below\n",
    "import pandas as pd\n",
    "import matplotlib.pyplot as plt\n",
    "import seaborn as sns\n",
    "import os\n",
    "\n",
    "from library.sb_utils import save_file\n"
   ]
  },
  {
   "cell_type": "markdown",
   "metadata": {},
   "source": [
    "## 2.4 Objectives<a id='2.4_Objectives'></a>"
   ]
  },
  {
   "cell_type": "markdown",
   "metadata": {},
   "source": [
    "There are some fundamental questions to resolve in this notebook before you move on.\n",
    "\n",
    "* Do you think you may have the data you need to tackle the desired question?\n",
    "    * Have you identified the required target value?\n",
    "    * Do you have potentially useful features?\n",
    "* Do you have any fundamental issues with the data?"
   ]
  },
  {
   "cell_type": "markdown",
   "metadata": {},
   "source": [
    "## 2.5 Load The Ski Resort Data<a id='2.5_Load_The_Ski_Resort_Data'></a>"
   ]
  },
  {
   "cell_type": "code",
   "execution_count": 2,
   "metadata": {},
   "outputs": [],
   "source": [
    "# the supplied CSV data file is the raw_data directory\n",
    "ski_data = pd.read_csv('../raw_data/ski_resort_data.csv')"
   ]
  },
  {
   "cell_type": "markdown",
   "metadata": {},
   "source": [
    "Good first steps in auditing the data are the info method and displaying the first few records with head."
   ]
  },
  {
   "cell_type": "code",
   "execution_count": 3,
   "metadata": {},
   "outputs": [
    {
     "name": "stdout",
     "output_type": "stream",
     "text": [
      "<class 'pandas.core.frame.DataFrame'>\n",
      "RangeIndex: 330 entries, 0 to 329\n",
      "Data columns (total 27 columns):\n",
      " #   Column             Non-Null Count  Dtype  \n",
      "---  ------             --------------  -----  \n",
      " 0   Name               330 non-null    object \n",
      " 1   Region             330 non-null    object \n",
      " 2   state              330 non-null    object \n",
      " 3   summit_elev        330 non-null    int64  \n",
      " 4   vertical_drop      330 non-null    int64  \n",
      " 5   base_elev          330 non-null    int64  \n",
      " 6   trams              330 non-null    int64  \n",
      " 7   fastEight          164 non-null    float64\n",
      " 8   fastSixes          330 non-null    int64  \n",
      " 9   fastQuads          330 non-null    int64  \n",
      " 10  quad               330 non-null    int64  \n",
      " 11  triple             330 non-null    int64  \n",
      " 12  double             330 non-null    int64  \n",
      " 13  surface            330 non-null    int64  \n",
      " 14  total_chairs       330 non-null    int64  \n",
      " 15  Runs               326 non-null    float64\n",
      " 16  TerrainParks       279 non-null    float64\n",
      " 17  LongestRun_mi      325 non-null    float64\n",
      " 18  SkiableTerrain_ac  327 non-null    float64\n",
      " 19  Snow Making_ac     284 non-null    float64\n",
      " 20  daysOpenLastYear   279 non-null    float64\n",
      " 21  yearsOpen          329 non-null    float64\n",
      " 22  averageSnowfall    316 non-null    float64\n",
      " 23  AdultWeekday       276 non-null    float64\n",
      " 24  AdultWeekend       279 non-null    float64\n",
      " 25  projectedDaysOpen  283 non-null    float64\n",
      " 26  NightSkiing_ac     187 non-null    float64\n",
      "dtypes: float64(13), int64(11), object(3)\n",
      "memory usage: 69.7+ KB\n"
     ]
    }
   ],
   "source": [
    "#Code task 2#\n",
    "#Call the info method on ski_data to see a summary of the data\n",
    "ski_data.info()"
   ]
  },
  {
   "cell_type": "code",
   "execution_count": 4,
   "metadata": {
    "scrolled": true
   },
   "outputs": [
    {
     "data": {
      "text/html": [
       "<div>\n",
       "<style scoped>\n",
       "    .dataframe tbody tr th:only-of-type {\n",
       "        vertical-align: middle;\n",
       "    }\n",
       "\n",
       "    .dataframe tbody tr th {\n",
       "        vertical-align: top;\n",
       "    }\n",
       "\n",
       "    .dataframe thead th {\n",
       "        text-align: right;\n",
       "    }\n",
       "</style>\n",
       "<table border=\"1\" class=\"dataframe\">\n",
       "  <thead>\n",
       "    <tr style=\"text-align: right;\">\n",
       "      <th></th>\n",
       "      <th>summit_elev</th>\n",
       "      <th>vertical_drop</th>\n",
       "      <th>base_elev</th>\n",
       "      <th>trams</th>\n",
       "      <th>fastEight</th>\n",
       "      <th>fastSixes</th>\n",
       "      <th>fastQuads</th>\n",
       "      <th>quad</th>\n",
       "      <th>triple</th>\n",
       "      <th>double</th>\n",
       "      <th>...</th>\n",
       "      <th>LongestRun_mi</th>\n",
       "      <th>SkiableTerrain_ac</th>\n",
       "      <th>Snow Making_ac</th>\n",
       "      <th>daysOpenLastYear</th>\n",
       "      <th>yearsOpen</th>\n",
       "      <th>averageSnowfall</th>\n",
       "      <th>AdultWeekday</th>\n",
       "      <th>AdultWeekend</th>\n",
       "      <th>projectedDaysOpen</th>\n",
       "      <th>NightSkiing_ac</th>\n",
       "    </tr>\n",
       "  </thead>\n",
       "  <tbody>\n",
       "    <tr>\n",
       "      <th>count</th>\n",
       "      <td>330.000000</td>\n",
       "      <td>330.000000</td>\n",
       "      <td>330.000000</td>\n",
       "      <td>330.000000</td>\n",
       "      <td>164.000000</td>\n",
       "      <td>330.000000</td>\n",
       "      <td>330.000000</td>\n",
       "      <td>330.000000</td>\n",
       "      <td>330.00000</td>\n",
       "      <td>330.000000</td>\n",
       "      <td>...</td>\n",
       "      <td>325.000000</td>\n",
       "      <td>327.000000</td>\n",
       "      <td>284.000000</td>\n",
       "      <td>279.000000</td>\n",
       "      <td>329.000000</td>\n",
       "      <td>316.000000</td>\n",
       "      <td>276.000000</td>\n",
       "      <td>279.000000</td>\n",
       "      <td>283.000000</td>\n",
       "      <td>187.000000</td>\n",
       "    </tr>\n",
       "    <tr>\n",
       "      <th>mean</th>\n",
       "      <td>4591.818182</td>\n",
       "      <td>1215.427273</td>\n",
       "      <td>3374.000000</td>\n",
       "      <td>0.172727</td>\n",
       "      <td>0.006098</td>\n",
       "      <td>0.184848</td>\n",
       "      <td>1.018182</td>\n",
       "      <td>0.933333</td>\n",
       "      <td>1.50000</td>\n",
       "      <td>1.833333</td>\n",
       "      <td>...</td>\n",
       "      <td>1.433231</td>\n",
       "      <td>739.801223</td>\n",
       "      <td>174.873239</td>\n",
       "      <td>115.103943</td>\n",
       "      <td>63.656535</td>\n",
       "      <td>185.316456</td>\n",
       "      <td>57.916957</td>\n",
       "      <td>64.166810</td>\n",
       "      <td>120.053004</td>\n",
       "      <td>100.395722</td>\n",
       "    </tr>\n",
       "    <tr>\n",
       "      <th>std</th>\n",
       "      <td>3735.535934</td>\n",
       "      <td>947.864557</td>\n",
       "      <td>3117.121621</td>\n",
       "      <td>0.559946</td>\n",
       "      <td>0.078087</td>\n",
       "      <td>0.651685</td>\n",
       "      <td>2.198294</td>\n",
       "      <td>1.312245</td>\n",
       "      <td>1.61913</td>\n",
       "      <td>1.815028</td>\n",
       "      <td>...</td>\n",
       "      <td>1.156171</td>\n",
       "      <td>1816.167441</td>\n",
       "      <td>261.336125</td>\n",
       "      <td>35.063251</td>\n",
       "      <td>109.429928</td>\n",
       "      <td>136.356842</td>\n",
       "      <td>26.140126</td>\n",
       "      <td>24.554584</td>\n",
       "      <td>31.045963</td>\n",
       "      <td>105.169620</td>\n",
       "    </tr>\n",
       "    <tr>\n",
       "      <th>min</th>\n",
       "      <td>315.000000</td>\n",
       "      <td>60.000000</td>\n",
       "      <td>70.000000</td>\n",
       "      <td>0.000000</td>\n",
       "      <td>0.000000</td>\n",
       "      <td>0.000000</td>\n",
       "      <td>0.000000</td>\n",
       "      <td>0.000000</td>\n",
       "      <td>0.00000</td>\n",
       "      <td>0.000000</td>\n",
       "      <td>...</td>\n",
       "      <td>0.000000</td>\n",
       "      <td>8.000000</td>\n",
       "      <td>2.000000</td>\n",
       "      <td>3.000000</td>\n",
       "      <td>6.000000</td>\n",
       "      <td>18.000000</td>\n",
       "      <td>15.000000</td>\n",
       "      <td>17.000000</td>\n",
       "      <td>30.000000</td>\n",
       "      <td>2.000000</td>\n",
       "    </tr>\n",
       "    <tr>\n",
       "      <th>25%</th>\n",
       "      <td>1403.750000</td>\n",
       "      <td>461.250000</td>\n",
       "      <td>869.000000</td>\n",
       "      <td>0.000000</td>\n",
       "      <td>0.000000</td>\n",
       "      <td>0.000000</td>\n",
       "      <td>0.000000</td>\n",
       "      <td>0.000000</td>\n",
       "      <td>0.00000</td>\n",
       "      <td>1.000000</td>\n",
       "      <td>...</td>\n",
       "      <td>0.500000</td>\n",
       "      <td>85.000000</td>\n",
       "      <td>50.000000</td>\n",
       "      <td>97.000000</td>\n",
       "      <td>50.000000</td>\n",
       "      <td>69.000000</td>\n",
       "      <td>40.000000</td>\n",
       "      <td>47.000000</td>\n",
       "      <td>100.000000</td>\n",
       "      <td>40.000000</td>\n",
       "    </tr>\n",
       "    <tr>\n",
       "      <th>50%</th>\n",
       "      <td>3127.500000</td>\n",
       "      <td>964.500000</td>\n",
       "      <td>1561.500000</td>\n",
       "      <td>0.000000</td>\n",
       "      <td>0.000000</td>\n",
       "      <td>0.000000</td>\n",
       "      <td>0.000000</td>\n",
       "      <td>0.000000</td>\n",
       "      <td>1.00000</td>\n",
       "      <td>1.000000</td>\n",
       "      <td>...</td>\n",
       "      <td>1.000000</td>\n",
       "      <td>200.000000</td>\n",
       "      <td>100.000000</td>\n",
       "      <td>114.000000</td>\n",
       "      <td>58.000000</td>\n",
       "      <td>150.000000</td>\n",
       "      <td>50.000000</td>\n",
       "      <td>60.000000</td>\n",
       "      <td>120.000000</td>\n",
       "      <td>72.000000</td>\n",
       "    </tr>\n",
       "    <tr>\n",
       "      <th>75%</th>\n",
       "      <td>7806.000000</td>\n",
       "      <td>1800.000000</td>\n",
       "      <td>6325.250000</td>\n",
       "      <td>0.000000</td>\n",
       "      <td>0.000000</td>\n",
       "      <td>0.000000</td>\n",
       "      <td>1.000000</td>\n",
       "      <td>1.000000</td>\n",
       "      <td>2.00000</td>\n",
       "      <td>3.000000</td>\n",
       "      <td>...</td>\n",
       "      <td>2.000000</td>\n",
       "      <td>690.000000</td>\n",
       "      <td>200.500000</td>\n",
       "      <td>135.000000</td>\n",
       "      <td>69.000000</td>\n",
       "      <td>300.000000</td>\n",
       "      <td>71.000000</td>\n",
       "      <td>77.500000</td>\n",
       "      <td>139.500000</td>\n",
       "      <td>114.000000</td>\n",
       "    </tr>\n",
       "    <tr>\n",
       "      <th>max</th>\n",
       "      <td>13487.000000</td>\n",
       "      <td>4425.000000</td>\n",
       "      <td>10800.000000</td>\n",
       "      <td>4.000000</td>\n",
       "      <td>1.000000</td>\n",
       "      <td>6.000000</td>\n",
       "      <td>15.000000</td>\n",
       "      <td>8.000000</td>\n",
       "      <td>8.00000</td>\n",
       "      <td>14.000000</td>\n",
       "      <td>...</td>\n",
       "      <td>6.000000</td>\n",
       "      <td>26819.000000</td>\n",
       "      <td>3379.000000</td>\n",
       "      <td>305.000000</td>\n",
       "      <td>2019.000000</td>\n",
       "      <td>669.000000</td>\n",
       "      <td>179.000000</td>\n",
       "      <td>179.000000</td>\n",
       "      <td>305.000000</td>\n",
       "      <td>650.000000</td>\n",
       "    </tr>\n",
       "  </tbody>\n",
       "</table>\n",
       "<p>8 rows × 24 columns</p>\n",
       "</div>"
      ],
      "text/plain": [
       "        summit_elev  vertical_drop     base_elev       trams   fastEight  \\\n",
       "count    330.000000     330.000000    330.000000  330.000000  164.000000   \n",
       "mean    4591.818182    1215.427273   3374.000000    0.172727    0.006098   \n",
       "std     3735.535934     947.864557   3117.121621    0.559946    0.078087   \n",
       "min      315.000000      60.000000     70.000000    0.000000    0.000000   \n",
       "25%     1403.750000     461.250000    869.000000    0.000000    0.000000   \n",
       "50%     3127.500000     964.500000   1561.500000    0.000000    0.000000   \n",
       "75%     7806.000000    1800.000000   6325.250000    0.000000    0.000000   \n",
       "max    13487.000000    4425.000000  10800.000000    4.000000    1.000000   \n",
       "\n",
       "        fastSixes   fastQuads        quad     triple      double  ...  \\\n",
       "count  330.000000  330.000000  330.000000  330.00000  330.000000  ...   \n",
       "mean     0.184848    1.018182    0.933333    1.50000    1.833333  ...   \n",
       "std      0.651685    2.198294    1.312245    1.61913    1.815028  ...   \n",
       "min      0.000000    0.000000    0.000000    0.00000    0.000000  ...   \n",
       "25%      0.000000    0.000000    0.000000    0.00000    1.000000  ...   \n",
       "50%      0.000000    0.000000    0.000000    1.00000    1.000000  ...   \n",
       "75%      0.000000    1.000000    1.000000    2.00000    3.000000  ...   \n",
       "max      6.000000   15.000000    8.000000    8.00000   14.000000  ...   \n",
       "\n",
       "       LongestRun_mi  SkiableTerrain_ac  Snow Making_ac  daysOpenLastYear  \\\n",
       "count     325.000000         327.000000      284.000000        279.000000   \n",
       "mean        1.433231         739.801223      174.873239        115.103943   \n",
       "std         1.156171        1816.167441      261.336125         35.063251   \n",
       "min         0.000000           8.000000        2.000000          3.000000   \n",
       "25%         0.500000          85.000000       50.000000         97.000000   \n",
       "50%         1.000000         200.000000      100.000000        114.000000   \n",
       "75%         2.000000         690.000000      200.500000        135.000000   \n",
       "max         6.000000       26819.000000     3379.000000        305.000000   \n",
       "\n",
       "         yearsOpen  averageSnowfall  AdultWeekday  AdultWeekend  \\\n",
       "count   329.000000       316.000000    276.000000    279.000000   \n",
       "mean     63.656535       185.316456     57.916957     64.166810   \n",
       "std     109.429928       136.356842     26.140126     24.554584   \n",
       "min       6.000000        18.000000     15.000000     17.000000   \n",
       "25%      50.000000        69.000000     40.000000     47.000000   \n",
       "50%      58.000000       150.000000     50.000000     60.000000   \n",
       "75%      69.000000       300.000000     71.000000     77.500000   \n",
       "max    2019.000000       669.000000    179.000000    179.000000   \n",
       "\n",
       "       projectedDaysOpen  NightSkiing_ac  \n",
       "count         283.000000      187.000000  \n",
       "mean          120.053004      100.395722  \n",
       "std            31.045963      105.169620  \n",
       "min            30.000000        2.000000  \n",
       "25%           100.000000       40.000000  \n",
       "50%           120.000000       72.000000  \n",
       "75%           139.500000      114.000000  \n",
       "max           305.000000      650.000000  \n",
       "\n",
       "[8 rows x 24 columns]"
      ]
     },
     "execution_count": 4,
     "metadata": {},
     "output_type": "execute_result"
    }
   ],
   "source": [
    "ski_data.describe()"
   ]
  },
  {
   "cell_type": "markdown",
   "metadata": {},
   "source": [
    "`AdultWeekday` is the price of an adult weekday ticket. `AdultWeekend` is the price of an adult weekend ticket. The other columns are potential features."
   ]
  },
  {
   "cell_type": "markdown",
   "metadata": {},
   "source": [
    "This immediately raises the question of what quantity will you want to model? You know you want to model the ticket price, but you realise there are two kinds of ticket price!"
   ]
  },
  {
   "cell_type": "code",
   "execution_count": 5,
   "metadata": {
    "scrolled": true
   },
   "outputs": [
    {
     "data": {
      "text/html": [
       "<div>\n",
       "<style scoped>\n",
       "    .dataframe tbody tr th:only-of-type {\n",
       "        vertical-align: middle;\n",
       "    }\n",
       "\n",
       "    .dataframe tbody tr th {\n",
       "        vertical-align: top;\n",
       "    }\n",
       "\n",
       "    .dataframe thead th {\n",
       "        text-align: right;\n",
       "    }\n",
       "</style>\n",
       "<table border=\"1\" class=\"dataframe\">\n",
       "  <thead>\n",
       "    <tr style=\"text-align: right;\">\n",
       "      <th></th>\n",
       "      <th>Name</th>\n",
       "      <th>Region</th>\n",
       "      <th>state</th>\n",
       "      <th>summit_elev</th>\n",
       "      <th>vertical_drop</th>\n",
       "      <th>base_elev</th>\n",
       "      <th>trams</th>\n",
       "      <th>fastEight</th>\n",
       "      <th>fastSixes</th>\n",
       "      <th>fastQuads</th>\n",
       "      <th>...</th>\n",
       "      <th>LongestRun_mi</th>\n",
       "      <th>SkiableTerrain_ac</th>\n",
       "      <th>Snow Making_ac</th>\n",
       "      <th>daysOpenLastYear</th>\n",
       "      <th>yearsOpen</th>\n",
       "      <th>averageSnowfall</th>\n",
       "      <th>AdultWeekday</th>\n",
       "      <th>AdultWeekend</th>\n",
       "      <th>projectedDaysOpen</th>\n",
       "      <th>NightSkiing_ac</th>\n",
       "    </tr>\n",
       "  </thead>\n",
       "  <tbody>\n",
       "    <tr>\n",
       "      <th>0</th>\n",
       "      <td>Alyeska Resort</td>\n",
       "      <td>Alaska</td>\n",
       "      <td>Alaska</td>\n",
       "      <td>3939</td>\n",
       "      <td>2500</td>\n",
       "      <td>250</td>\n",
       "      <td>1</td>\n",
       "      <td>0.0</td>\n",
       "      <td>0</td>\n",
       "      <td>2</td>\n",
       "      <td>...</td>\n",
       "      <td>1.0</td>\n",
       "      <td>1610.0</td>\n",
       "      <td>113.0</td>\n",
       "      <td>150.0</td>\n",
       "      <td>60.0</td>\n",
       "      <td>669.0</td>\n",
       "      <td>65.0</td>\n",
       "      <td>85.0</td>\n",
       "      <td>150.0</td>\n",
       "      <td>550.0</td>\n",
       "    </tr>\n",
       "    <tr>\n",
       "      <th>1</th>\n",
       "      <td>Eaglecrest Ski Area</td>\n",
       "      <td>Alaska</td>\n",
       "      <td>Alaska</td>\n",
       "      <td>2600</td>\n",
       "      <td>1540</td>\n",
       "      <td>1200</td>\n",
       "      <td>0</td>\n",
       "      <td>0.0</td>\n",
       "      <td>0</td>\n",
       "      <td>0</td>\n",
       "      <td>...</td>\n",
       "      <td>2.0</td>\n",
       "      <td>640.0</td>\n",
       "      <td>60.0</td>\n",
       "      <td>45.0</td>\n",
       "      <td>44.0</td>\n",
       "      <td>350.0</td>\n",
       "      <td>47.0</td>\n",
       "      <td>53.0</td>\n",
       "      <td>90.0</td>\n",
       "      <td>NaN</td>\n",
       "    </tr>\n",
       "    <tr>\n",
       "      <th>2</th>\n",
       "      <td>Hilltop Ski Area</td>\n",
       "      <td>Alaska</td>\n",
       "      <td>Alaska</td>\n",
       "      <td>2090</td>\n",
       "      <td>294</td>\n",
       "      <td>1796</td>\n",
       "      <td>0</td>\n",
       "      <td>0.0</td>\n",
       "      <td>0</td>\n",
       "      <td>0</td>\n",
       "      <td>...</td>\n",
       "      <td>1.0</td>\n",
       "      <td>30.0</td>\n",
       "      <td>30.0</td>\n",
       "      <td>150.0</td>\n",
       "      <td>36.0</td>\n",
       "      <td>69.0</td>\n",
       "      <td>30.0</td>\n",
       "      <td>34.0</td>\n",
       "      <td>152.0</td>\n",
       "      <td>30.0</td>\n",
       "    </tr>\n",
       "    <tr>\n",
       "      <th>3</th>\n",
       "      <td>Arizona Snowbowl</td>\n",
       "      <td>Arizona</td>\n",
       "      <td>Arizona</td>\n",
       "      <td>11500</td>\n",
       "      <td>2300</td>\n",
       "      <td>9200</td>\n",
       "      <td>0</td>\n",
       "      <td>0.0</td>\n",
       "      <td>1</td>\n",
       "      <td>0</td>\n",
       "      <td>...</td>\n",
       "      <td>2.0</td>\n",
       "      <td>777.0</td>\n",
       "      <td>104.0</td>\n",
       "      <td>122.0</td>\n",
       "      <td>81.0</td>\n",
       "      <td>260.0</td>\n",
       "      <td>89.0</td>\n",
       "      <td>89.0</td>\n",
       "      <td>122.0</td>\n",
       "      <td>NaN</td>\n",
       "    </tr>\n",
       "    <tr>\n",
       "      <th>4</th>\n",
       "      <td>Sunrise Park Resort</td>\n",
       "      <td>Arizona</td>\n",
       "      <td>Arizona</td>\n",
       "      <td>11100</td>\n",
       "      <td>1800</td>\n",
       "      <td>9200</td>\n",
       "      <td>0</td>\n",
       "      <td>NaN</td>\n",
       "      <td>0</td>\n",
       "      <td>1</td>\n",
       "      <td>...</td>\n",
       "      <td>1.2</td>\n",
       "      <td>800.0</td>\n",
       "      <td>80.0</td>\n",
       "      <td>115.0</td>\n",
       "      <td>49.0</td>\n",
       "      <td>250.0</td>\n",
       "      <td>74.0</td>\n",
       "      <td>78.0</td>\n",
       "      <td>104.0</td>\n",
       "      <td>80.0</td>\n",
       "    </tr>\n",
       "    <tr>\n",
       "      <th>5</th>\n",
       "      <td>Yosemite Ski &amp; Snowboard Area</td>\n",
       "      <td>Northern California</td>\n",
       "      <td>California</td>\n",
       "      <td>7800</td>\n",
       "      <td>600</td>\n",
       "      <td>7200</td>\n",
       "      <td>0</td>\n",
       "      <td>0.0</td>\n",
       "      <td>0</td>\n",
       "      <td>0</td>\n",
       "      <td>...</td>\n",
       "      <td>0.4</td>\n",
       "      <td>88.0</td>\n",
       "      <td>NaN</td>\n",
       "      <td>110.0</td>\n",
       "      <td>84.0</td>\n",
       "      <td>300.0</td>\n",
       "      <td>47.0</td>\n",
       "      <td>47.0</td>\n",
       "      <td>107.0</td>\n",
       "      <td>NaN</td>\n",
       "    </tr>\n",
       "    <tr>\n",
       "      <th>6</th>\n",
       "      <td>Bear Mountain</td>\n",
       "      <td>Sierra Nevada</td>\n",
       "      <td>California</td>\n",
       "      <td>8805</td>\n",
       "      <td>1665</td>\n",
       "      <td>7140</td>\n",
       "      <td>0</td>\n",
       "      <td>0.0</td>\n",
       "      <td>0</td>\n",
       "      <td>2</td>\n",
       "      <td>...</td>\n",
       "      <td>1.5</td>\n",
       "      <td>198.0</td>\n",
       "      <td>198.0</td>\n",
       "      <td>122.0</td>\n",
       "      <td>76.0</td>\n",
       "      <td>100.0</td>\n",
       "      <td>NaN</td>\n",
       "      <td>NaN</td>\n",
       "      <td>130.0</td>\n",
       "      <td>NaN</td>\n",
       "    </tr>\n",
       "    <tr>\n",
       "      <th>7</th>\n",
       "      <td>Bear Valley</td>\n",
       "      <td>Sierra Nevada</td>\n",
       "      <td>California</td>\n",
       "      <td>8500</td>\n",
       "      <td>1900</td>\n",
       "      <td>6600</td>\n",
       "      <td>0</td>\n",
       "      <td>0.0</td>\n",
       "      <td>1</td>\n",
       "      <td>1</td>\n",
       "      <td>...</td>\n",
       "      <td>1.2</td>\n",
       "      <td>1680.0</td>\n",
       "      <td>100.0</td>\n",
       "      <td>165.0</td>\n",
       "      <td>52.0</td>\n",
       "      <td>359.0</td>\n",
       "      <td>NaN</td>\n",
       "      <td>NaN</td>\n",
       "      <td>151.0</td>\n",
       "      <td>NaN</td>\n",
       "    </tr>\n",
       "    <tr>\n",
       "      <th>8</th>\n",
       "      <td>Boreal Mountain Resort</td>\n",
       "      <td>Sierra Nevada</td>\n",
       "      <td>California</td>\n",
       "      <td>7700</td>\n",
       "      <td>500</td>\n",
       "      <td>7200</td>\n",
       "      <td>0</td>\n",
       "      <td>0.0</td>\n",
       "      <td>0</td>\n",
       "      <td>1</td>\n",
       "      <td>...</td>\n",
       "      <td>1.0</td>\n",
       "      <td>380.0</td>\n",
       "      <td>200.0</td>\n",
       "      <td>150.0</td>\n",
       "      <td>54.0</td>\n",
       "      <td>400.0</td>\n",
       "      <td>49.0</td>\n",
       "      <td>NaN</td>\n",
       "      <td>150.0</td>\n",
       "      <td>200.0</td>\n",
       "    </tr>\n",
       "    <tr>\n",
       "      <th>9</th>\n",
       "      <td>Dodge Ridge</td>\n",
       "      <td>Sierra Nevada</td>\n",
       "      <td>California</td>\n",
       "      <td>8200</td>\n",
       "      <td>1600</td>\n",
       "      <td>6600</td>\n",
       "      <td>0</td>\n",
       "      <td>0.0</td>\n",
       "      <td>0</td>\n",
       "      <td>0</td>\n",
       "      <td>...</td>\n",
       "      <td>2.0</td>\n",
       "      <td>862.0</td>\n",
       "      <td>NaN</td>\n",
       "      <td>NaN</td>\n",
       "      <td>69.0</td>\n",
       "      <td>350.0</td>\n",
       "      <td>78.0</td>\n",
       "      <td>78.0</td>\n",
       "      <td>140.0</td>\n",
       "      <td>NaN</td>\n",
       "    </tr>\n",
       "  </tbody>\n",
       "</table>\n",
       "<p>10 rows × 27 columns</p>\n",
       "</div>"
      ],
      "text/plain": [
       "                            Name               Region       state  \\\n",
       "0                 Alyeska Resort               Alaska      Alaska   \n",
       "1            Eaglecrest Ski Area               Alaska      Alaska   \n",
       "2               Hilltop Ski Area               Alaska      Alaska   \n",
       "3               Arizona Snowbowl              Arizona     Arizona   \n",
       "4            Sunrise Park Resort              Arizona     Arizona   \n",
       "5  Yosemite Ski & Snowboard Area  Northern California  California   \n",
       "6                  Bear Mountain        Sierra Nevada  California   \n",
       "7                    Bear Valley        Sierra Nevada  California   \n",
       "8         Boreal Mountain Resort        Sierra Nevada  California   \n",
       "9                    Dodge Ridge        Sierra Nevada  California   \n",
       "\n",
       "   summit_elev  vertical_drop  base_elev  trams  fastEight  fastSixes  \\\n",
       "0         3939           2500        250      1        0.0          0   \n",
       "1         2600           1540       1200      0        0.0          0   \n",
       "2         2090            294       1796      0        0.0          0   \n",
       "3        11500           2300       9200      0        0.0          1   \n",
       "4        11100           1800       9200      0        NaN          0   \n",
       "5         7800            600       7200      0        0.0          0   \n",
       "6         8805           1665       7140      0        0.0          0   \n",
       "7         8500           1900       6600      0        0.0          1   \n",
       "8         7700            500       7200      0        0.0          0   \n",
       "9         8200           1600       6600      0        0.0          0   \n",
       "\n",
       "   fastQuads  ...  LongestRun_mi  SkiableTerrain_ac  Snow Making_ac  \\\n",
       "0          2  ...            1.0             1610.0           113.0   \n",
       "1          0  ...            2.0              640.0            60.0   \n",
       "2          0  ...            1.0               30.0            30.0   \n",
       "3          0  ...            2.0              777.0           104.0   \n",
       "4          1  ...            1.2              800.0            80.0   \n",
       "5          0  ...            0.4               88.0             NaN   \n",
       "6          2  ...            1.5              198.0           198.0   \n",
       "7          1  ...            1.2             1680.0           100.0   \n",
       "8          1  ...            1.0              380.0           200.0   \n",
       "9          0  ...            2.0              862.0             NaN   \n",
       "\n",
       "   daysOpenLastYear  yearsOpen  averageSnowfall  AdultWeekday  AdultWeekend  \\\n",
       "0             150.0       60.0            669.0          65.0          85.0   \n",
       "1              45.0       44.0            350.0          47.0          53.0   \n",
       "2             150.0       36.0             69.0          30.0          34.0   \n",
       "3             122.0       81.0            260.0          89.0          89.0   \n",
       "4             115.0       49.0            250.0          74.0          78.0   \n",
       "5             110.0       84.0            300.0          47.0          47.0   \n",
       "6             122.0       76.0            100.0           NaN           NaN   \n",
       "7             165.0       52.0            359.0           NaN           NaN   \n",
       "8             150.0       54.0            400.0          49.0           NaN   \n",
       "9               NaN       69.0            350.0          78.0          78.0   \n",
       "\n",
       "   projectedDaysOpen  NightSkiing_ac  \n",
       "0              150.0           550.0  \n",
       "1               90.0             NaN  \n",
       "2              152.0            30.0  \n",
       "3              122.0             NaN  \n",
       "4              104.0            80.0  \n",
       "5              107.0             NaN  \n",
       "6              130.0             NaN  \n",
       "7              151.0             NaN  \n",
       "8              150.0           200.0  \n",
       "9              140.0             NaN  \n",
       "\n",
       "[10 rows x 27 columns]"
      ]
     },
     "execution_count": 5,
     "metadata": {},
     "output_type": "execute_result"
    }
   ],
   "source": [
    "#Code task 3#\n",
    "#Call the head method on ski_data to print the first several rows of the data\n",
    "ski_data.head(10)"
   ]
  },
  {
   "cell_type": "markdown",
   "metadata": {},
   "source": [
    "The output above suggests you've made a good start getting the ski resort data organized. You have plausible column headings. You can already see you have a missing value in the `fastEight` column"
   ]
  },
  {
   "cell_type": "markdown",
   "metadata": {},
   "source": [
    "## 2.6 Explore The Data<a id='2.6_Explore_The_Data'></a>"
   ]
  },
  {
   "cell_type": "markdown",
   "metadata": {},
   "source": [
    "### 2.6.1 Find Your Resort Of Interest<a id='2.6.1_Find_Your_Resort_Of_Interest'></a>"
   ]
  },
  {
   "cell_type": "markdown",
   "metadata": {},
   "source": [
    "Your resort of interest is called Big Mountain Resort. Check it's in the data:"
   ]
  },
  {
   "cell_type": "code",
   "execution_count": 6,
   "metadata": {},
   "outputs": [
    {
     "data": {
      "text/html": [
       "<div>\n",
       "<style scoped>\n",
       "    .dataframe tbody tr th:only-of-type {\n",
       "        vertical-align: middle;\n",
       "    }\n",
       "\n",
       "    .dataframe tbody tr th {\n",
       "        vertical-align: top;\n",
       "    }\n",
       "\n",
       "    .dataframe thead th {\n",
       "        text-align: right;\n",
       "    }\n",
       "</style>\n",
       "<table border=\"1\" class=\"dataframe\">\n",
       "  <thead>\n",
       "    <tr style=\"text-align: right;\">\n",
       "      <th></th>\n",
       "      <th>151</th>\n",
       "    </tr>\n",
       "  </thead>\n",
       "  <tbody>\n",
       "    <tr>\n",
       "      <th>Name</th>\n",
       "      <td>Big Mountain Resort</td>\n",
       "    </tr>\n",
       "    <tr>\n",
       "      <th>Region</th>\n",
       "      <td>Montana</td>\n",
       "    </tr>\n",
       "    <tr>\n",
       "      <th>state</th>\n",
       "      <td>Montana</td>\n",
       "    </tr>\n",
       "    <tr>\n",
       "      <th>summit_elev</th>\n",
       "      <td>6817</td>\n",
       "    </tr>\n",
       "    <tr>\n",
       "      <th>vertical_drop</th>\n",
       "      <td>2353</td>\n",
       "    </tr>\n",
       "    <tr>\n",
       "      <th>base_elev</th>\n",
       "      <td>4464</td>\n",
       "    </tr>\n",
       "    <tr>\n",
       "      <th>trams</th>\n",
       "      <td>0</td>\n",
       "    </tr>\n",
       "    <tr>\n",
       "      <th>fastEight</th>\n",
       "      <td>0.0</td>\n",
       "    </tr>\n",
       "    <tr>\n",
       "      <th>fastSixes</th>\n",
       "      <td>0</td>\n",
       "    </tr>\n",
       "    <tr>\n",
       "      <th>fastQuads</th>\n",
       "      <td>3</td>\n",
       "    </tr>\n",
       "    <tr>\n",
       "      <th>quad</th>\n",
       "      <td>2</td>\n",
       "    </tr>\n",
       "    <tr>\n",
       "      <th>triple</th>\n",
       "      <td>6</td>\n",
       "    </tr>\n",
       "    <tr>\n",
       "      <th>double</th>\n",
       "      <td>0</td>\n",
       "    </tr>\n",
       "    <tr>\n",
       "      <th>surface</th>\n",
       "      <td>3</td>\n",
       "    </tr>\n",
       "    <tr>\n",
       "      <th>total_chairs</th>\n",
       "      <td>14</td>\n",
       "    </tr>\n",
       "    <tr>\n",
       "      <th>Runs</th>\n",
       "      <td>105.0</td>\n",
       "    </tr>\n",
       "    <tr>\n",
       "      <th>TerrainParks</th>\n",
       "      <td>4.0</td>\n",
       "    </tr>\n",
       "    <tr>\n",
       "      <th>LongestRun_mi</th>\n",
       "      <td>3.3</td>\n",
       "    </tr>\n",
       "    <tr>\n",
       "      <th>SkiableTerrain_ac</th>\n",
       "      <td>3000.0</td>\n",
       "    </tr>\n",
       "    <tr>\n",
       "      <th>Snow Making_ac</th>\n",
       "      <td>600.0</td>\n",
       "    </tr>\n",
       "    <tr>\n",
       "      <th>daysOpenLastYear</th>\n",
       "      <td>123.0</td>\n",
       "    </tr>\n",
       "    <tr>\n",
       "      <th>yearsOpen</th>\n",
       "      <td>72.0</td>\n",
       "    </tr>\n",
       "    <tr>\n",
       "      <th>averageSnowfall</th>\n",
       "      <td>333.0</td>\n",
       "    </tr>\n",
       "    <tr>\n",
       "      <th>AdultWeekday</th>\n",
       "      <td>81.0</td>\n",
       "    </tr>\n",
       "    <tr>\n",
       "      <th>AdultWeekend</th>\n",
       "      <td>81.0</td>\n",
       "    </tr>\n",
       "    <tr>\n",
       "      <th>projectedDaysOpen</th>\n",
       "      <td>123.0</td>\n",
       "    </tr>\n",
       "    <tr>\n",
       "      <th>NightSkiing_ac</th>\n",
       "      <td>600.0</td>\n",
       "    </tr>\n",
       "  </tbody>\n",
       "</table>\n",
       "</div>"
      ],
      "text/plain": [
       "                                   151\n",
       "Name               Big Mountain Resort\n",
       "Region                         Montana\n",
       "state                          Montana\n",
       "summit_elev                       6817\n",
       "vertical_drop                     2353\n",
       "base_elev                         4464\n",
       "trams                                0\n",
       "fastEight                          0.0\n",
       "fastSixes                            0\n",
       "fastQuads                            3\n",
       "quad                                 2\n",
       "triple                               6\n",
       "double                               0\n",
       "surface                              3\n",
       "total_chairs                        14\n",
       "Runs                             105.0\n",
       "TerrainParks                       4.0\n",
       "LongestRun_mi                      3.3\n",
       "SkiableTerrain_ac               3000.0\n",
       "Snow Making_ac                   600.0\n",
       "daysOpenLastYear                 123.0\n",
       "yearsOpen                         72.0\n",
       "averageSnowfall                  333.0\n",
       "AdultWeekday                      81.0\n",
       "AdultWeekend                      81.0\n",
       "projectedDaysOpen                123.0\n",
       "NightSkiing_ac                   600.0"
      ]
     },
     "execution_count": 6,
     "metadata": {},
     "output_type": "execute_result"
    }
   ],
   "source": [
    "#Code task 4#\n",
    "#Filter the ski_data dataframe to display just the row for our resort with the name 'Big Mountain Resort'\n",
    "#Hint: you will find that the transpose of the row will give a nicer output. DataFrame's do have a\n",
    "#transpose method, but you can access this conveniently with the `T` property.\n",
    "ski_data[ski_data.Name == 'Big Mountain Resort'].T"
   ]
  },
  {
   "cell_type": "markdown",
   "metadata": {},
   "source": [
    "It's good that your resort doesn't appear to have any missing values."
   ]
  },
  {
   "cell_type": "markdown",
   "metadata": {},
   "source": [
    "### 2.6.2 Number Of Missing Values By Column<a id='2.6.2_Number_Of_Missing_Values_By_Column'></a>"
   ]
  },
  {
   "cell_type": "markdown",
   "metadata": {},
   "source": [
    "Count the number of missing values in each column and sort them."
   ]
  },
  {
   "cell_type": "code",
   "execution_count": 7,
   "metadata": {},
   "outputs": [
    {
     "data": {
      "text/html": [
       "<div>\n",
       "<style scoped>\n",
       "    .dataframe tbody tr th:only-of-type {\n",
       "        vertical-align: middle;\n",
       "    }\n",
       "\n",
       "    .dataframe tbody tr th {\n",
       "        vertical-align: top;\n",
       "    }\n",
       "\n",
       "    .dataframe thead th {\n",
       "        text-align: right;\n",
       "    }\n",
       "</style>\n",
       "<table border=\"1\" class=\"dataframe\">\n",
       "  <thead>\n",
       "    <tr style=\"text-align: right;\">\n",
       "      <th></th>\n",
       "      <th>count</th>\n",
       "      <th>%</th>\n",
       "    </tr>\n",
       "  </thead>\n",
       "  <tbody>\n",
       "    <tr>\n",
       "      <th>Name</th>\n",
       "      <td>0</td>\n",
       "      <td>0.000000</td>\n",
       "    </tr>\n",
       "    <tr>\n",
       "      <th>total_chairs</th>\n",
       "      <td>0</td>\n",
       "      <td>0.000000</td>\n",
       "    </tr>\n",
       "    <tr>\n",
       "      <th>double</th>\n",
       "      <td>0</td>\n",
       "      <td>0.000000</td>\n",
       "    </tr>\n",
       "    <tr>\n",
       "      <th>triple</th>\n",
       "      <td>0</td>\n",
       "      <td>0.000000</td>\n",
       "    </tr>\n",
       "    <tr>\n",
       "      <th>quad</th>\n",
       "      <td>0</td>\n",
       "      <td>0.000000</td>\n",
       "    </tr>\n",
       "    <tr>\n",
       "      <th>fastQuads</th>\n",
       "      <td>0</td>\n",
       "      <td>0.000000</td>\n",
       "    </tr>\n",
       "    <tr>\n",
       "      <th>fastSixes</th>\n",
       "      <td>0</td>\n",
       "      <td>0.000000</td>\n",
       "    </tr>\n",
       "    <tr>\n",
       "      <th>surface</th>\n",
       "      <td>0</td>\n",
       "      <td>0.000000</td>\n",
       "    </tr>\n",
       "    <tr>\n",
       "      <th>trams</th>\n",
       "      <td>0</td>\n",
       "      <td>0.000000</td>\n",
       "    </tr>\n",
       "    <tr>\n",
       "      <th>base_elev</th>\n",
       "      <td>0</td>\n",
       "      <td>0.000000</td>\n",
       "    </tr>\n",
       "    <tr>\n",
       "      <th>vertical_drop</th>\n",
       "      <td>0</td>\n",
       "      <td>0.000000</td>\n",
       "    </tr>\n",
       "    <tr>\n",
       "      <th>summit_elev</th>\n",
       "      <td>0</td>\n",
       "      <td>0.000000</td>\n",
       "    </tr>\n",
       "    <tr>\n",
       "      <th>state</th>\n",
       "      <td>0</td>\n",
       "      <td>0.000000</td>\n",
       "    </tr>\n",
       "    <tr>\n",
       "      <th>Region</th>\n",
       "      <td>0</td>\n",
       "      <td>0.000000</td>\n",
       "    </tr>\n",
       "    <tr>\n",
       "      <th>yearsOpen</th>\n",
       "      <td>1</td>\n",
       "      <td>0.303030</td>\n",
       "    </tr>\n",
       "    <tr>\n",
       "      <th>SkiableTerrain_ac</th>\n",
       "      <td>3</td>\n",
       "      <td>0.909091</td>\n",
       "    </tr>\n",
       "    <tr>\n",
       "      <th>Runs</th>\n",
       "      <td>4</td>\n",
       "      <td>1.212121</td>\n",
       "    </tr>\n",
       "    <tr>\n",
       "      <th>LongestRun_mi</th>\n",
       "      <td>5</td>\n",
       "      <td>1.515152</td>\n",
       "    </tr>\n",
       "    <tr>\n",
       "      <th>averageSnowfall</th>\n",
       "      <td>14</td>\n",
       "      <td>4.242424</td>\n",
       "    </tr>\n",
       "    <tr>\n",
       "      <th>Snow Making_ac</th>\n",
       "      <td>46</td>\n",
       "      <td>13.939394</td>\n",
       "    </tr>\n",
       "    <tr>\n",
       "      <th>projectedDaysOpen</th>\n",
       "      <td>47</td>\n",
       "      <td>14.242424</td>\n",
       "    </tr>\n",
       "    <tr>\n",
       "      <th>TerrainParks</th>\n",
       "      <td>51</td>\n",
       "      <td>15.454545</td>\n",
       "    </tr>\n",
       "    <tr>\n",
       "      <th>daysOpenLastYear</th>\n",
       "      <td>51</td>\n",
       "      <td>15.454545</td>\n",
       "    </tr>\n",
       "    <tr>\n",
       "      <th>AdultWeekend</th>\n",
       "      <td>51</td>\n",
       "      <td>15.454545</td>\n",
       "    </tr>\n",
       "    <tr>\n",
       "      <th>AdultWeekday</th>\n",
       "      <td>54</td>\n",
       "      <td>16.363636</td>\n",
       "    </tr>\n",
       "    <tr>\n",
       "      <th>NightSkiing_ac</th>\n",
       "      <td>143</td>\n",
       "      <td>43.333333</td>\n",
       "    </tr>\n",
       "    <tr>\n",
       "      <th>fastEight</th>\n",
       "      <td>166</td>\n",
       "      <td>50.303030</td>\n",
       "    </tr>\n",
       "  </tbody>\n",
       "</table>\n",
       "</div>"
      ],
      "text/plain": [
       "                   count          %\n",
       "Name                   0   0.000000\n",
       "total_chairs           0   0.000000\n",
       "double                 0   0.000000\n",
       "triple                 0   0.000000\n",
       "quad                   0   0.000000\n",
       "fastQuads              0   0.000000\n",
       "fastSixes              0   0.000000\n",
       "surface                0   0.000000\n",
       "trams                  0   0.000000\n",
       "base_elev              0   0.000000\n",
       "vertical_drop          0   0.000000\n",
       "summit_elev            0   0.000000\n",
       "state                  0   0.000000\n",
       "Region                 0   0.000000\n",
       "yearsOpen              1   0.303030\n",
       "SkiableTerrain_ac      3   0.909091\n",
       "Runs                   4   1.212121\n",
       "LongestRun_mi          5   1.515152\n",
       "averageSnowfall       14   4.242424\n",
       "Snow Making_ac        46  13.939394\n",
       "projectedDaysOpen     47  14.242424\n",
       "TerrainParks          51  15.454545\n",
       "daysOpenLastYear      51  15.454545\n",
       "AdultWeekend          51  15.454545\n",
       "AdultWeekday          54  16.363636\n",
       "NightSkiing_ac       143  43.333333\n",
       "fastEight            166  50.303030"
      ]
     },
     "execution_count": 7,
     "metadata": {},
     "output_type": "execute_result"
    }
   ],
   "source": [
    "#Code task 5#\n",
    "#Count (using `.sum()`) the number of missing values (`.isnull()`) in each column of \n",
    "#ski_data as well as the percentages (using `.mean()` instead of `.sum()`).\n",
    "#Order them (increasing or decreasing) using sort_values\n",
    "#Call `pd.concat` to present these in a single table (DataFrame) with the helpful column names 'count' and '%'\n",
    "missing = pd.concat([ski_data.isnull().sum(), 100 * ski_data.isnull().mean()], axis=1)\n",
    "missing.columns=['count', '%']\n",
    "missing.sort_values(by=['count'])"
   ]
  },
  {
   "cell_type": "markdown",
   "metadata": {},
   "source": [
    "`fastEight` has the most missing values, at just over 50%. Unfortunately, you see you're also missing quite a few of your desired target quantity, the ticket price, which is missing 15-16% of values. `AdultWeekday` is missing in a few more records than `AdultWeekend`. What overlap is there in these missing values? This is a question you'll want to investigate. You should also point out that `isnull()` is not the only indicator of missing data. Sometimes 'missingness' can be encoded, perhaps by a -1 or 999. Such values are typically chosen because they are \"obviously\" not genuine values. If you were capturing data on people's heights and weights but missing someone's height, you could certainly encode that as a 0 because no one has a height of zero (in any units). Yet such entries would not be revealed by `isnull()`. Here, you need a data dictionary and/or to spot such values as part of looking for outliers. Someone with a height of zero should definitely show up as an outlier!"
   ]
  },
  {
   "cell_type": "markdown",
   "metadata": {},
   "source": [
    "### 2.6.3 Categorical Features<a id='2.6.3_Categorical_Features'></a>"
   ]
  },
  {
   "cell_type": "markdown",
   "metadata": {},
   "source": [
    "So far you've examined only the numeric features. Now you inspect categorical ones such as resort name and state. These are discrete entities. 'Alaska' is a name. Although names can be sorted alphabetically, it makes no sense to take the average of 'Alaska' and 'Arizona'. Similarly, 'Alaska' is before 'Arizona' only lexicographically; it is neither 'less than' nor 'greater than' 'Arizona'. As such, they tend to require different handling than strictly numeric quantities. Note, a feature _can_ be numeric but also categorical. For example, instead of giving the number of `fastEight` lifts, a feature might be `has_fastEights` and have the value 0 or 1 to denote absence or presence of such a lift. In such a case it would not make sense to take an average of this or perform other mathematical calculations on it. Although you digress a little to make a point, month numbers are also, strictly speaking, categorical features. Yes, when a month is represented by its number (1 for January, 2 for Februrary etc.) it provides a convenient way to graph trends over a year. And, arguably, there is some logical interpretation of the average of 1 and 3 (January and March) being 2 (February). However, clearly December of one years precedes January of the next and yet 12 as a number is not less than 1. The numeric quantities in the section above are truly numeric; they are the number of feet in the drop, or acres or years open or the amount of snowfall etc."
   ]
  },
  {
   "cell_type": "code",
   "execution_count": 8,
   "metadata": {},
   "outputs": [
    {
     "data": {
      "text/html": [
       "<div>\n",
       "<style scoped>\n",
       "    .dataframe tbody tr th:only-of-type {\n",
       "        vertical-align: middle;\n",
       "    }\n",
       "\n",
       "    .dataframe tbody tr th {\n",
       "        vertical-align: top;\n",
       "    }\n",
       "\n",
       "    .dataframe thead th {\n",
       "        text-align: right;\n",
       "    }\n",
       "</style>\n",
       "<table border=\"1\" class=\"dataframe\">\n",
       "  <thead>\n",
       "    <tr style=\"text-align: right;\">\n",
       "      <th></th>\n",
       "      <th>Name</th>\n",
       "      <th>Region</th>\n",
       "      <th>state</th>\n",
       "    </tr>\n",
       "  </thead>\n",
       "  <tbody>\n",
       "    <tr>\n",
       "      <th>0</th>\n",
       "      <td>Alyeska Resort</td>\n",
       "      <td>Alaska</td>\n",
       "      <td>Alaska</td>\n",
       "    </tr>\n",
       "    <tr>\n",
       "      <th>1</th>\n",
       "      <td>Eaglecrest Ski Area</td>\n",
       "      <td>Alaska</td>\n",
       "      <td>Alaska</td>\n",
       "    </tr>\n",
       "    <tr>\n",
       "      <th>2</th>\n",
       "      <td>Hilltop Ski Area</td>\n",
       "      <td>Alaska</td>\n",
       "      <td>Alaska</td>\n",
       "    </tr>\n",
       "    <tr>\n",
       "      <th>3</th>\n",
       "      <td>Arizona Snowbowl</td>\n",
       "      <td>Arizona</td>\n",
       "      <td>Arizona</td>\n",
       "    </tr>\n",
       "    <tr>\n",
       "      <th>4</th>\n",
       "      <td>Sunrise Park Resort</td>\n",
       "      <td>Arizona</td>\n",
       "      <td>Arizona</td>\n",
       "    </tr>\n",
       "    <tr>\n",
       "      <th>...</th>\n",
       "      <td>...</td>\n",
       "      <td>...</td>\n",
       "      <td>...</td>\n",
       "    </tr>\n",
       "    <tr>\n",
       "      <th>325</th>\n",
       "      <td>Meadowlark Ski Lodge</td>\n",
       "      <td>Wyoming</td>\n",
       "      <td>Wyoming</td>\n",
       "    </tr>\n",
       "    <tr>\n",
       "      <th>326</th>\n",
       "      <td>Sleeping Giant Ski Resort</td>\n",
       "      <td>Wyoming</td>\n",
       "      <td>Wyoming</td>\n",
       "    </tr>\n",
       "    <tr>\n",
       "      <th>327</th>\n",
       "      <td>Snow King Resort</td>\n",
       "      <td>Wyoming</td>\n",
       "      <td>Wyoming</td>\n",
       "    </tr>\n",
       "    <tr>\n",
       "      <th>328</th>\n",
       "      <td>Snowy Range Ski &amp; Recreation Area</td>\n",
       "      <td>Wyoming</td>\n",
       "      <td>Wyoming</td>\n",
       "    </tr>\n",
       "    <tr>\n",
       "      <th>329</th>\n",
       "      <td>White Pine Ski Area</td>\n",
       "      <td>Wyoming</td>\n",
       "      <td>Wyoming</td>\n",
       "    </tr>\n",
       "  </tbody>\n",
       "</table>\n",
       "<p>330 rows × 3 columns</p>\n",
       "</div>"
      ],
      "text/plain": [
       "                                  Name   Region    state\n",
       "0                       Alyeska Resort   Alaska   Alaska\n",
       "1                  Eaglecrest Ski Area   Alaska   Alaska\n",
       "2                     Hilltop Ski Area   Alaska   Alaska\n",
       "3                     Arizona Snowbowl  Arizona  Arizona\n",
       "4                  Sunrise Park Resort  Arizona  Arizona\n",
       "..                                 ...      ...      ...\n",
       "325               Meadowlark Ski Lodge  Wyoming  Wyoming\n",
       "326          Sleeping Giant Ski Resort  Wyoming  Wyoming\n",
       "327                   Snow King Resort  Wyoming  Wyoming\n",
       "328  Snowy Range Ski & Recreation Area  Wyoming  Wyoming\n",
       "329                White Pine Ski Area  Wyoming  Wyoming\n",
       "\n",
       "[330 rows x 3 columns]"
      ]
     },
     "execution_count": 8,
     "metadata": {},
     "output_type": "execute_result"
    }
   ],
   "source": [
    "#Code task 6#\n",
    "#Use ski_data's `select_dtypes` method to select columns of dtype 'object'\n",
    "ski_data.select_dtypes('object')"
   ]
  },
  {
   "cell_type": "markdown",
   "metadata": {},
   "source": [
    "You saw earlier on that these three columns had no missing values. But are there any other issues with these columns? Sensible questions to ask here include:\n",
    "\n",
    "* Is `Name` (or at least a combination of Name/Region/State) unique?\n",
    "* Is `Region` always the same as `state`?"
   ]
  },
  {
   "cell_type": "code",
   "execution_count": 9,
   "metadata": {},
   "outputs": [
    {
     "name": "stdout",
     "output_type": "stream",
     "text": [
      "<class 'pandas.core.frame.DataFrame'>\n",
      "Int64Index: 33 entries, 5 to 270\n",
      "Data columns (total 27 columns):\n",
      " #   Column             Non-Null Count  Dtype  \n",
      "---  ------             --------------  -----  \n",
      " 0   Name               33 non-null     object \n",
      " 1   Region             33 non-null     object \n",
      " 2   state              33 non-null     object \n",
      " 3   summit_elev        33 non-null     int64  \n",
      " 4   vertical_drop      33 non-null     int64  \n",
      " 5   base_elev          33 non-null     int64  \n",
      " 6   trams              33 non-null     int64  \n",
      " 7   fastEight          21 non-null     float64\n",
      " 8   fastSixes          33 non-null     int64  \n",
      " 9   fastQuads          33 non-null     int64  \n",
      " 10  quad               33 non-null     int64  \n",
      " 11  triple             33 non-null     int64  \n",
      " 12  double             33 non-null     int64  \n",
      " 13  surface            33 non-null     int64  \n",
      " 14  total_chairs       33 non-null     int64  \n",
      " 15  Runs               33 non-null     float64\n",
      " 16  TerrainParks       27 non-null     float64\n",
      " 17  LongestRun_mi      33 non-null     float64\n",
      " 18  SkiableTerrain_ac  33 non-null     float64\n",
      " 19  Snow Making_ac     25 non-null     float64\n",
      " 20  daysOpenLastYear   29 non-null     float64\n",
      " 21  yearsOpen          33 non-null     float64\n",
      " 22  averageSnowfall    33 non-null     float64\n",
      " 23  AdultWeekday       23 non-null     float64\n",
      " 24  AdultWeekend       21 non-null     float64\n",
      " 25  projectedDaysOpen  31 non-null     float64\n",
      " 26  NightSkiing_ac     9 non-null      float64\n",
      "dtypes: float64(13), int64(11), object(3)\n",
      "memory usage: 7.2+ KB\n"
     ]
    }
   ],
   "source": [
    "RegDifSta = ski_data[ski_data['Region'] != ski_data['state']]\n",
    "RegDifSta.info()"
   ]
  },
  {
   "cell_type": "code",
   "execution_count": 10,
   "metadata": {},
   "outputs": [
    {
     "data": {
      "text/html": [
       "<div>\n",
       "<style scoped>\n",
       "    .dataframe tbody tr th:only-of-type {\n",
       "        vertical-align: middle;\n",
       "    }\n",
       "\n",
       "    .dataframe tbody tr th {\n",
       "        vertical-align: top;\n",
       "    }\n",
       "\n",
       "    .dataframe thead th {\n",
       "        text-align: right;\n",
       "    }\n",
       "</style>\n",
       "<table border=\"1\" class=\"dataframe\">\n",
       "  <thead>\n",
       "    <tr style=\"text-align: right;\">\n",
       "      <th></th>\n",
       "      <th>Name</th>\n",
       "      <th>Region</th>\n",
       "      <th>state</th>\n",
       "      <th>summit_elev</th>\n",
       "      <th>vertical_drop</th>\n",
       "      <th>base_elev</th>\n",
       "      <th>trams</th>\n",
       "      <th>fastEight</th>\n",
       "      <th>fastSixes</th>\n",
       "      <th>fastQuads</th>\n",
       "      <th>...</th>\n",
       "      <th>LongestRun_mi</th>\n",
       "      <th>SkiableTerrain_ac</th>\n",
       "      <th>Snow Making_ac</th>\n",
       "      <th>daysOpenLastYear</th>\n",
       "      <th>yearsOpen</th>\n",
       "      <th>averageSnowfall</th>\n",
       "      <th>AdultWeekday</th>\n",
       "      <th>AdultWeekend</th>\n",
       "      <th>projectedDaysOpen</th>\n",
       "      <th>NightSkiing_ac</th>\n",
       "    </tr>\n",
       "  </thead>\n",
       "  <tbody>\n",
       "    <tr>\n",
       "      <th>5</th>\n",
       "      <td>Yosemite Ski &amp; Snowboard Area</td>\n",
       "      <td>Northern California</td>\n",
       "      <td>California</td>\n",
       "      <td>7800</td>\n",
       "      <td>600</td>\n",
       "      <td>7200</td>\n",
       "      <td>0</td>\n",
       "      <td>0.0</td>\n",
       "      <td>0</td>\n",
       "      <td>0</td>\n",
       "      <td>...</td>\n",
       "      <td>0.4</td>\n",
       "      <td>88.0</td>\n",
       "      <td>NaN</td>\n",
       "      <td>110.0</td>\n",
       "      <td>84.0</td>\n",
       "      <td>300.0</td>\n",
       "      <td>47.0</td>\n",
       "      <td>47.0</td>\n",
       "      <td>107.0</td>\n",
       "      <td>NaN</td>\n",
       "    </tr>\n",
       "    <tr>\n",
       "      <th>6</th>\n",
       "      <td>Bear Mountain</td>\n",
       "      <td>Sierra Nevada</td>\n",
       "      <td>California</td>\n",
       "      <td>8805</td>\n",
       "      <td>1665</td>\n",
       "      <td>7140</td>\n",
       "      <td>0</td>\n",
       "      <td>0.0</td>\n",
       "      <td>0</td>\n",
       "      <td>2</td>\n",
       "      <td>...</td>\n",
       "      <td>1.5</td>\n",
       "      <td>198.0</td>\n",
       "      <td>198.0</td>\n",
       "      <td>122.0</td>\n",
       "      <td>76.0</td>\n",
       "      <td>100.0</td>\n",
       "      <td>NaN</td>\n",
       "      <td>NaN</td>\n",
       "      <td>130.0</td>\n",
       "      <td>NaN</td>\n",
       "    </tr>\n",
       "    <tr>\n",
       "      <th>7</th>\n",
       "      <td>Bear Valley</td>\n",
       "      <td>Sierra Nevada</td>\n",
       "      <td>California</td>\n",
       "      <td>8500</td>\n",
       "      <td>1900</td>\n",
       "      <td>6600</td>\n",
       "      <td>0</td>\n",
       "      <td>0.0</td>\n",
       "      <td>1</td>\n",
       "      <td>1</td>\n",
       "      <td>...</td>\n",
       "      <td>1.2</td>\n",
       "      <td>1680.0</td>\n",
       "      <td>100.0</td>\n",
       "      <td>165.0</td>\n",
       "      <td>52.0</td>\n",
       "      <td>359.0</td>\n",
       "      <td>NaN</td>\n",
       "      <td>NaN</td>\n",
       "      <td>151.0</td>\n",
       "      <td>NaN</td>\n",
       "    </tr>\n",
       "    <tr>\n",
       "      <th>8</th>\n",
       "      <td>Boreal Mountain Resort</td>\n",
       "      <td>Sierra Nevada</td>\n",
       "      <td>California</td>\n",
       "      <td>7700</td>\n",
       "      <td>500</td>\n",
       "      <td>7200</td>\n",
       "      <td>0</td>\n",
       "      <td>0.0</td>\n",
       "      <td>0</td>\n",
       "      <td>1</td>\n",
       "      <td>...</td>\n",
       "      <td>1.0</td>\n",
       "      <td>380.0</td>\n",
       "      <td>200.0</td>\n",
       "      <td>150.0</td>\n",
       "      <td>54.0</td>\n",
       "      <td>400.0</td>\n",
       "      <td>49.0</td>\n",
       "      <td>NaN</td>\n",
       "      <td>150.0</td>\n",
       "      <td>200.0</td>\n",
       "    </tr>\n",
       "    <tr>\n",
       "      <th>9</th>\n",
       "      <td>Dodge Ridge</td>\n",
       "      <td>Sierra Nevada</td>\n",
       "      <td>California</td>\n",
       "      <td>8200</td>\n",
       "      <td>1600</td>\n",
       "      <td>6600</td>\n",
       "      <td>0</td>\n",
       "      <td>0.0</td>\n",
       "      <td>0</td>\n",
       "      <td>0</td>\n",
       "      <td>...</td>\n",
       "      <td>2.0</td>\n",
       "      <td>862.0</td>\n",
       "      <td>NaN</td>\n",
       "      <td>NaN</td>\n",
       "      <td>69.0</td>\n",
       "      <td>350.0</td>\n",
       "      <td>78.0</td>\n",
       "      <td>78.0</td>\n",
       "      <td>140.0</td>\n",
       "      <td>NaN</td>\n",
       "    </tr>\n",
       "  </tbody>\n",
       "</table>\n",
       "<p>5 rows × 27 columns</p>\n",
       "</div>"
      ],
      "text/plain": [
       "                            Name               Region       state  \\\n",
       "5  Yosemite Ski & Snowboard Area  Northern California  California   \n",
       "6                  Bear Mountain        Sierra Nevada  California   \n",
       "7                    Bear Valley        Sierra Nevada  California   \n",
       "8         Boreal Mountain Resort        Sierra Nevada  California   \n",
       "9                    Dodge Ridge        Sierra Nevada  California   \n",
       "\n",
       "   summit_elev  vertical_drop  base_elev  trams  fastEight  fastSixes  \\\n",
       "5         7800            600       7200      0        0.0          0   \n",
       "6         8805           1665       7140      0        0.0          0   \n",
       "7         8500           1900       6600      0        0.0          1   \n",
       "8         7700            500       7200      0        0.0          0   \n",
       "9         8200           1600       6600      0        0.0          0   \n",
       "\n",
       "   fastQuads  ...  LongestRun_mi  SkiableTerrain_ac  Snow Making_ac  \\\n",
       "5          0  ...            0.4               88.0             NaN   \n",
       "6          2  ...            1.5              198.0           198.0   \n",
       "7          1  ...            1.2             1680.0           100.0   \n",
       "8          1  ...            1.0              380.0           200.0   \n",
       "9          0  ...            2.0              862.0             NaN   \n",
       "\n",
       "   daysOpenLastYear  yearsOpen  averageSnowfall  AdultWeekday  AdultWeekend  \\\n",
       "5             110.0       84.0            300.0          47.0          47.0   \n",
       "6             122.0       76.0            100.0           NaN           NaN   \n",
       "7             165.0       52.0            359.0           NaN           NaN   \n",
       "8             150.0       54.0            400.0          49.0           NaN   \n",
       "9               NaN       69.0            350.0          78.0          78.0   \n",
       "\n",
       "   projectedDaysOpen  NightSkiing_ac  \n",
       "5              107.0             NaN  \n",
       "6              130.0             NaN  \n",
       "7              151.0             NaN  \n",
       "8              150.0           200.0  \n",
       "9              140.0             NaN  \n",
       "\n",
       "[5 rows x 27 columns]"
      ]
     },
     "execution_count": 10,
     "metadata": {},
     "output_type": "execute_result"
    }
   ],
   "source": [
    "RegDifSta.head()"
   ]
  },
  {
   "cell_type": "markdown",
   "metadata": {},
   "source": [
    "#### 2.6.3.1 Unique Resort Names<a id='2.6.3.1_Unique_Resort_Names'></a>"
   ]
  },
  {
   "cell_type": "code",
   "execution_count": 11,
   "metadata": {},
   "outputs": [
    {
     "data": {
      "text/plain": [
       "Crystal Mountain    2\n",
       "Alyeska Resort      1\n",
       "Brandywine          1\n",
       "Boston Mills        1\n",
       "Alpine Valley       1\n",
       "Name: Name, dtype: int64"
      ]
     },
     "execution_count": 11,
     "metadata": {},
     "output_type": "execute_result"
    }
   ],
   "source": [
    "#Code task 7#\n",
    "#Use pandas' Series method `value_counts` to find any duplicated resort names\n",
    "ski_data['Name'].value_counts().head()"
   ]
  },
  {
   "cell_type": "markdown",
   "metadata": {},
   "source": [
    "You have a duplicated resort name: Crystal Mountain."
   ]
  },
  {
   "cell_type": "markdown",
   "metadata": {},
   "source": [
    "**Q: 1** Is this resort duplicated if you take into account Region and/or state as well?"
   ]
  },
  {
   "cell_type": "code",
   "execution_count": 12,
   "metadata": {},
   "outputs": [
    {
     "data": {
      "text/plain": [
       "Alyeska Resort, Alaska    1\n",
       "Snow Trails, Ohio         1\n",
       "Brandywine, Ohio          1\n",
       "Boston Mills, Ohio        1\n",
       "Alpine Valley, Ohio       1\n",
       "dtype: int64"
      ]
     },
     "execution_count": 12,
     "metadata": {},
     "output_type": "execute_result"
    }
   ],
   "source": [
    "#Code task 8#\n",
    "#Concatenate the string columns 'Name' and 'Region' and count the values again (as above)\n",
    "(ski_data['Name'] + ', ' + ski_data['Region']).value_counts().head()"
   ]
  },
  {
   "cell_type": "code",
   "execution_count": 13,
   "metadata": {},
   "outputs": [
    {
     "data": {
      "text/plain": [
       "Alyeska Resort, Alaska    1\n",
       "Snow Trails, Ohio         1\n",
       "Brandywine, Ohio          1\n",
       "Boston Mills, Ohio        1\n",
       "Alpine Valley, Ohio       1\n",
       "dtype: int64"
      ]
     },
     "execution_count": 13,
     "metadata": {},
     "output_type": "execute_result"
    }
   ],
   "source": [
    "#Code task 9#\n",
    "#Concatenate 'Name' and 'state' and count the values again (as above)\n",
    "(ski_data['Name'] + ', ' + ski_data['state']).value_counts().head()"
   ]
  },
  {
   "cell_type": "code",
   "execution_count": 14,
   "metadata": {},
   "outputs": [],
   "source": [
    "#**NB** because you know `value_counts()` sorts descending, you can use the `head()` method and know the rest of the counts must be 1."
   ]
  },
  {
   "cell_type": "markdown",
   "metadata": {},
   "source": [
    "**A: 1** Your answer here\n",
    "No. No resorts including Crystal Mountain is duplicated by pair with Region and/or state."
   ]
  },
  {
   "cell_type": "code",
<<<<<<< HEAD
   "execution_count": null,
   "metadata": {},
   "outputs": [],
   "source": [
    " #"
   ]
  },
  {
   "cell_type": "code",
=======
>>>>>>> ba43fb82e0ac7821fcf70292cfa5d87ac7f15ac4
   "execution_count": 15,
   "metadata": {},
   "outputs": [
    {
     "data": {
      "text/html": [
       "<div>\n",
       "<style scoped>\n",
       "    .dataframe tbody tr th:only-of-type {\n",
       "        vertical-align: middle;\n",
       "    }\n",
       "\n",
       "    .dataframe tbody tr th {\n",
       "        vertical-align: top;\n",
       "    }\n",
       "\n",
       "    .dataframe thead th {\n",
       "        text-align: right;\n",
       "    }\n",
       "</style>\n",
       "<table border=\"1\" class=\"dataframe\">\n",
       "  <thead>\n",
       "    <tr style=\"text-align: right;\">\n",
       "      <th></th>\n",
       "      <th>Name</th>\n",
       "      <th>Region</th>\n",
       "      <th>state</th>\n",
       "      <th>summit_elev</th>\n",
       "      <th>vertical_drop</th>\n",
       "      <th>base_elev</th>\n",
       "      <th>trams</th>\n",
       "      <th>fastEight</th>\n",
       "      <th>fastSixes</th>\n",
       "      <th>fastQuads</th>\n",
       "      <th>...</th>\n",
       "      <th>LongestRun_mi</th>\n",
       "      <th>SkiableTerrain_ac</th>\n",
       "      <th>Snow Making_ac</th>\n",
       "      <th>daysOpenLastYear</th>\n",
       "      <th>yearsOpen</th>\n",
       "      <th>averageSnowfall</th>\n",
       "      <th>AdultWeekday</th>\n",
       "      <th>AdultWeekend</th>\n",
       "      <th>projectedDaysOpen</th>\n",
       "      <th>NightSkiing_ac</th>\n",
       "    </tr>\n",
       "  </thead>\n",
       "  <tbody>\n",
       "    <tr>\n",
       "      <th>104</th>\n",
       "      <td>Crystal Mountain</td>\n",
       "      <td>Michigan</td>\n",
       "      <td>Michigan</td>\n",
       "      <td>1132</td>\n",
       "      <td>375</td>\n",
       "      <td>757</td>\n",
       "      <td>0</td>\n",
       "      <td>0.0</td>\n",
       "      <td>0</td>\n",
       "      <td>1</td>\n",
       "      <td>...</td>\n",
       "      <td>0.3</td>\n",
       "      <td>102.0</td>\n",
       "      <td>96.0</td>\n",
       "      <td>120.0</td>\n",
       "      <td>63.0</td>\n",
       "      <td>132.0</td>\n",
       "      <td>54.0</td>\n",
       "      <td>64.0</td>\n",
       "      <td>135.0</td>\n",
       "      <td>56.0</td>\n",
       "    </tr>\n",
       "    <tr>\n",
       "      <th>295</th>\n",
       "      <td>Crystal Mountain</td>\n",
       "      <td>Washington</td>\n",
       "      <td>Washington</td>\n",
       "      <td>7012</td>\n",
       "      <td>3100</td>\n",
       "      <td>4400</td>\n",
       "      <td>1</td>\n",
       "      <td>NaN</td>\n",
       "      <td>2</td>\n",
       "      <td>2</td>\n",
       "      <td>...</td>\n",
       "      <td>2.5</td>\n",
       "      <td>2600.0</td>\n",
       "      <td>10.0</td>\n",
       "      <td>NaN</td>\n",
       "      <td>57.0</td>\n",
       "      <td>486.0</td>\n",
       "      <td>99.0</td>\n",
       "      <td>99.0</td>\n",
       "      <td>NaN</td>\n",
       "      <td>NaN</td>\n",
       "    </tr>\n",
       "  </tbody>\n",
       "</table>\n",
       "<p>2 rows × 27 columns</p>\n",
       "</div>"
      ],
      "text/plain": [
       "                 Name      Region       state  summit_elev  vertical_drop  \\\n",
       "104  Crystal Mountain    Michigan    Michigan         1132            375   \n",
       "295  Crystal Mountain  Washington  Washington         7012           3100   \n",
       "\n",
       "     base_elev  trams  fastEight  fastSixes  fastQuads  ...  LongestRun_mi  \\\n",
       "104        757      0        0.0          0          1  ...            0.3   \n",
       "295       4400      1        NaN          2          2  ...            2.5   \n",
       "\n",
       "     SkiableTerrain_ac  Snow Making_ac  daysOpenLastYear  yearsOpen  \\\n",
       "104              102.0            96.0             120.0       63.0   \n",
       "295             2600.0            10.0               NaN       57.0   \n",
       "\n",
       "     averageSnowfall  AdultWeekday  AdultWeekend  projectedDaysOpen  \\\n",
       "104            132.0          54.0          64.0              135.0   \n",
       "295            486.0          99.0          99.0                NaN   \n",
       "\n",
       "     NightSkiing_ac  \n",
       "104            56.0  \n",
       "295             NaN  \n",
       "\n",
       "[2 rows x 27 columns]"
      ]
     },
     "execution_count": 15,
     "metadata": {},
     "output_type": "execute_result"
    }
   ],
   "source": [
    "ski_data[ski_data['Name'] == 'Crystal Mountain']"
   ]
  },
  {
   "cell_type": "markdown",
   "metadata": {},
   "source": [
    "So there are two Crystal Mountain resorts, but they are clearly two different resorts in two different states. This is a powerful signal that you have unique records on each row."
   ]
  },
  {
   "cell_type": "markdown",
   "metadata": {},
   "source": [
    "#### 2.6.3.2 Region And State<a id='2.6.3.2_Region_And_State'></a>"
   ]
  },
  {
   "cell_type": "markdown",
   "metadata": {},
   "source": [
    "What's the relationship between region and state?"
   ]
  },
  {
   "cell_type": "markdown",
   "metadata": {},
   "source": [
    "You know they are the same in many cases (e.g. both the Region and the state are given as 'Michigan'). In how many cases do they differ?"
   ]
  },
  {
   "cell_type": "code",
   "execution_count": 16,
   "metadata": {},
   "outputs": [
    {
     "data": {
      "text/plain": [
       "330"
      ]
     },
     "execution_count": 16,
     "metadata": {},
     "output_type": "execute_result"
    }
   ],
   "source": [
    "#Code task 10#\n",
    "#Calculate the number of times Region does not equal state\n",
    "(ski_data.Region != ski_data.state).count()"
   ]
  },
  {
   "cell_type": "markdown",
   "metadata": {},
   "source": [
    "You know what a state is. What is a region? You can tabulate the distinct values along with their respective frequencies using `value_counts()`."
   ]
  },
  {
   "cell_type": "code",
   "execution_count": 17,
   "metadata": {},
   "outputs": [
    {
     "data": {
      "text/plain": [
       "New York               33\n",
       "Michigan               29\n",
       "Sierra Nevada          22\n",
       "Colorado               22\n",
       "Pennsylvania           19\n",
       "Wisconsin              16\n",
       "New Hampshire          16\n",
       "Vermont                15\n",
       "Minnesota              14\n",
       "Idaho                  12\n",
       "Montana                12\n",
       "Massachusetts          11\n",
       "Washington             10\n",
       "New Mexico              9\n",
       "Maine                   9\n",
       "Wyoming                 8\n",
       "Utah                    7\n",
       "Salt Lake City          6\n",
       "North Carolina          6\n",
       "Oregon                  6\n",
       "Connecticut             5\n",
       "Ohio                    5\n",
       "Virginia                4\n",
       "West Virginia           4\n",
       "Illinois                4\n",
       "Mt. Hood                4\n",
       "Alaska                  3\n",
       "Iowa                    3\n",
       "South Dakota            2\n",
       "Arizona                 2\n",
       "Nevada                  2\n",
       "Missouri                2\n",
       "Indiana                 2\n",
       "New Jersey              2\n",
       "Rhode Island            1\n",
       "Tennessee               1\n",
       "Maryland                1\n",
       "Northern California     1\n",
       "Name: Region, dtype: int64"
      ]
     },
     "execution_count": 17,
     "metadata": {},
     "output_type": "execute_result"
    }
   ],
   "source": [
    "ski_data['Region'].value_counts()"
   ]
  },
  {
   "cell_type": "markdown",
   "metadata": {},
   "source": [
    "A casual inspection by eye reveals some non-state names such as Sierra Nevada, Salt Lake City, and Northern California. Tabulate the differences between Region and state. On a note regarding scaling to larger data sets, you might wonder how you could spot such cases when presented with millions of rows. This is an interesting point. Imagine you have access to a database with a Region and state column in a table and there are millions of rows. You wouldn't eyeball all the rows looking for differences! Bear in mind that our first interest lies in establishing the answer to the question \"Are they always the same?\" One approach might be to ask the database to return records where they differ, but limit the output to 10 rows. If there were differences, you'd only get up to 10 results, and so you wouldn't know whether you'd located all differences, but you'd know that there were 'a nonzero number' of differences. If you got an empty result set back, then you would know that the two columns always had the same value. At the risk of digressing, some values in one column only might be NULL (missing) and different databases treat NULL differently, so be aware that on many an occasion a seamingly 'simple' question gets very interesting to answer very quickly!"
   ]
  },
  {
   "cell_type": "code",
   "execution_count": 18,
   "metadata": {},
   "outputs": [
    {
     "data": {
      "text/plain": [
       "state       Region             \n",
       "California  Sierra Nevada          20\n",
       "            Northern California     1\n",
       "Nevada      Sierra Nevada           2\n",
       "Oregon      Mt. Hood                4\n",
       "Utah        Salt Lake City          6\n",
       "Name: Region, dtype: int64"
      ]
     },
     "execution_count": 18,
     "metadata": {},
     "output_type": "execute_result"
    }
   ],
   "source": [
    "#Code task 11#\n",
    "#Filter the ski_data dataframe for rows where 'Region' and 'state' are different,\n",
    "#group that by 'state' and perform `value_counts` on the 'Region'\n",
    "(ski_data[ski_data.Region != ski_data.state]\n",
    " .groupby('state')['Region']\n",
    " .value_counts())"
   ]
  },
  {
   "cell_type": "markdown",
   "metadata": {},
   "source": [
    "The vast majority of the differences are in California, with most Regions being called Sierra Nevada and just one referred to as Northern California."
   ]
  },
  {
   "cell_type": "markdown",
   "metadata": {},
   "source": [
    "#### 2.6.3.3 Number of distinct regions and states<a id='2.6.3.3_Number_of_distinct_regions_and_states'></a>"
   ]
  },
  {
   "cell_type": "code",
   "execution_count": 19,
   "metadata": {},
   "outputs": [
    {
     "data": {
      "text/plain": [
       "<bound method DataFrame.nunique of       Region    state\n",
       "0     Alaska   Alaska\n",
       "1     Alaska   Alaska\n",
       "2     Alaska   Alaska\n",
       "3    Arizona  Arizona\n",
       "4    Arizona  Arizona\n",
       "..       ...      ...\n",
       "325  Wyoming  Wyoming\n",
       "326  Wyoming  Wyoming\n",
       "327  Wyoming  Wyoming\n",
       "328  Wyoming  Wyoming\n",
       "329  Wyoming  Wyoming\n",
       "\n",
       "[330 rows x 2 columns]>"
      ]
     },
     "execution_count": 19,
     "metadata": {},
     "output_type": "execute_result"
    }
   ],
   "source": [
    "#Code task 12#\n",
    "#Select the 'Region' and 'state' columns from ski_data and use the `nunique` method to calculate\n",
    "#the number of unique values in each\n",
    "ski_data[['Region', 'state']].nunique"
   ]
  },
  {
   "cell_type": "markdown",
   "metadata": {},
   "source": [
    "Because a few states are split across multiple named regions, there are slightly more unique regions than states."
   ]
  },
  {
   "cell_type": "markdown",
   "metadata": {},
   "source": [
    "#### 2.6.3.4 Distribution Of Resorts By Region And State<a id='2.6.3.4_Distribution_Of_Resorts_By_Region_And_State'></a>"
   ]
  },
  {
   "cell_type": "markdown",
   "metadata": {},
   "source": [
    "If this is your first time using [matplotlib](https://matplotlib.org/3.2.2/index.html)'s [subplots](https://matplotlib.org/3.2.2/api/_as_gen/matplotlib.pyplot.subplots.html), you may find the online documentation useful."
   ]
  },
  {
   "cell_type": "code",
   "execution_count": 20,
   "metadata": {},
   "outputs": [
    {
     "data": {
      "image/png": "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\n",
      "text/plain": [
       "<Figure size 1440x576 with 2 Axes>"
      ]
     },
     "metadata": {
      "needs_background": "light"
     },
     "output_type": "display_data"
    }
   ],
   "source": [
    "#Code task 13#\n",
    "#Create two subplots on 1 row and 2 columns with a figsize of (12, 8)\n",
    "fig, ax = plt.subplots(1, 2, figsize=(20,8))\n",
    "#Specify a horizontal barplot ('barh') as kind of plot (kind=)\n",
    "ski_data.Region.value_counts().plot(kind='bar', ax=ax[0])\n",
    "#Give the plot a helpful title of 'Region'\n",
    "ax[0].set_title('Region')\n",
    "#Label the xaxis 'Count'\n",
    "ax[0].set_xlabel('Count')\n",
    "#Specify a horizontal barplot ('barh') as kind of plot (kind=)\n",
    "ski_data.state.value_counts().plot(kind='barh', ax=ax[1])\n",
    "#Give the plot a helpful title of 'state'\n",
    "ax[1].set_title('state')\n",
    "#Label the xaxis 'Count'\n",
    "ax[1].set_xlabel('Count')\n",
    "#Give the subplots a little \"breathing room\" with a wspace of 0.5\n",
    "plt.subplots_adjust(wspace=0.5);\n",
    "#You're encouraged to explore a few different figure sizes, orientations, and spacing here\n",
    "# as the importance of easy-to-read and informative figures is frequently understated\n",
    "# and you will find the ability to tweak figures invaluable later on"
   ]
  },
  {
   "cell_type": "markdown",
   "metadata": {},
   "source": [
    "How's your geography? Looking at the distribution of States, you see New York accounting for the majority of resorts. Our target resort is in Montana, which comes in at 13th place. You should think carefully about how, or whether, you use this information. Does New York command a premium because of its proximity to population? Even if a resort's State were a useful predictor of ticket price, your main interest lies in Montana. Would you want a model that is skewed for accuracy by New York? Should you just filter for Montana and create a Montana-specific model? This would slash your available data volume. Your problem task includes the contextual insight that the data are for resorts all belonging to the same market share. This suggests one might expect prices to be similar amongst them. You can look into this. A boxplot grouped by State is an ideal way to quickly compare prices. Another side note worth bringing up here is that, in reality, the best approach here definitely would include consulting with the client or other domain expert. They might know of good reasons for treating states equivalently or differently. The data scientist is rarely the final arbiter of such a decision. But here, you'll see if we can find any supporting evidence for treating states the same or differently."
   ]
  },
  {
   "cell_type": "markdown",
   "metadata": {},
   "source": [
    "#### 2.6.3.5 Distribution Of Ticket Price By State<a id='2.6.3.5_Distribution_Of_Ticket_Price_By_State'></a>"
   ]
  },
  {
   "cell_type": "markdown",
   "metadata": {},
   "source": [
    "Our primary focus is our Big Mountain resort, in Montana. Does the state give you any clues to help decide what your primary target response feature should be (weekend or weekday ticket prices)?"
   ]
  },
  {
   "cell_type": "markdown",
   "metadata": {},
   "source": [
    "##### 2.6.3.5.1 Average weekend and weekday price by state<a id='2.6.3.5.1_Average_weekend_and_weekday_price_by_state'></a>"
   ]
  },
  {
   "cell_type": "code",
   "execution_count": 21,
   "metadata": {},
   "outputs": [
    {
     "data": {
      "text/html": [
       "<div>\n",
       "<style scoped>\n",
       "    .dataframe tbody tr th:only-of-type {\n",
       "        vertical-align: middle;\n",
       "    }\n",
       "\n",
       "    .dataframe tbody tr th {\n",
       "        vertical-align: top;\n",
       "    }\n",
       "\n",
       "    .dataframe thead th {\n",
       "        text-align: right;\n",
       "    }\n",
       "</style>\n",
       "<table border=\"1\" class=\"dataframe\">\n",
       "  <thead>\n",
       "    <tr style=\"text-align: right;\">\n",
       "      <th></th>\n",
       "      <th>AdultWeekday</th>\n",
       "      <th>AdultWeekend</th>\n",
       "    </tr>\n",
       "    <tr>\n",
       "      <th>state</th>\n",
       "      <th></th>\n",
       "      <th></th>\n",
       "    </tr>\n",
       "  </thead>\n",
       "  <tbody>\n",
       "    <tr>\n",
       "      <th>Alaska</th>\n",
       "      <td>47.333333</td>\n",
       "      <td>57.333333</td>\n",
       "    </tr>\n",
       "    <tr>\n",
       "      <th>Arizona</th>\n",
       "      <td>81.500000</td>\n",
       "      <td>83.500000</td>\n",
       "    </tr>\n",
       "    <tr>\n",
       "      <th>California</th>\n",
       "      <td>78.214286</td>\n",
       "      <td>81.416667</td>\n",
       "    </tr>\n",
       "    <tr>\n",
       "      <th>Colorado</th>\n",
       "      <td>90.714286</td>\n",
       "      <td>90.714286</td>\n",
       "    </tr>\n",
       "    <tr>\n",
       "      <th>Connecticut</th>\n",
       "      <td>47.800000</td>\n",
       "      <td>56.800000</td>\n",
       "    </tr>\n",
       "  </tbody>\n",
       "</table>\n",
       "</div>"
      ],
      "text/plain": [
       "             AdultWeekday  AdultWeekend\n",
       "state                                  \n",
       "Alaska          47.333333     57.333333\n",
       "Arizona         81.500000     83.500000\n",
       "California      78.214286     81.416667\n",
       "Colorado        90.714286     90.714286\n",
       "Connecticut     47.800000     56.800000"
      ]
     },
     "execution_count": 21,
     "metadata": {},
     "output_type": "execute_result"
    }
   ],
   "source": [
    "#Code task 14#\n",
    "# Calculate average weekday and weekend price by state and sort by the average of the two\n",
    "# Hint: use the pattern dataframe.groupby(<grouping variable>)[<list of columns>].mean()\n",
    "state_price_means = ski_data.groupby('state')[['AdultWeekday', 'AdultWeekend']].mean()\n",
    "state_price_means.head()"
   ]
  },
  {
   "cell_type": "code",
   "execution_count": 22,
   "metadata": {},
   "outputs": [
    {
     "data": {
      "image/png": "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\n",
      "text/plain": [
       "<Figure size 720x720 with 1 Axes>"
      ]
     },
     "metadata": {
      "needs_background": "light"
     },
     "output_type": "display_data"
    }
   ],
   "source": [
    "# The next bit simply reorders the index by increasing average of weekday and weekend prices\n",
    "# Compare the index order you get from\n",
    "# state_price_means.index\n",
    "# with\n",
    "# state_price_means.mean(axis=1).sort_values(ascending=False).index\n",
    "# See how this expression simply sits within the reindex()\n",
    "(state_price_means.reindex(index=state_price_means.mean(axis=1)\n",
    "    .sort_values(ascending=False)\n",
    "    .index)\n",
    "    .plot(kind='barh', figsize=(10, 10), title='Average ticket price by State'))\n",
    "plt.xlabel('Price ($)');"
   ]
  },
  {
   "cell_type": "code",
   "execution_count": 23,
   "metadata": {},
   "outputs": [],
   "source": [
    "#The figure above represents a dataframe with two columns, one for the average prices of each kind of ticket. This tells you how the average ticket price varies from state to state. But can you get more insight into the difference in the distributions between states?"
   ]
  },
  {
   "cell_type": "markdown",
   "metadata": {},
   "source": [
    "##### 2.6.3.5.2 Distribution of weekday and weekend price by state<a id='2.6.3.5.2_Distribution_of_weekday_and_weekend_price_by_state'></a>"
   ]
  },
  {
   "cell_type": "markdown",
   "metadata": {},
   "source": [
    "Next, you can transform the data into a single column for price with a new categorical column that represents the ticket type."
   ]
  },
  {
   "cell_type": "code",
   "execution_count": 24,
   "metadata": {},
   "outputs": [],
   "source": [
    "#Code task 15#\n",
    "#Use the pd.melt function, pass in the ski_data columns 'state', 'AdultWeekday', and 'Adultweekend' only,\n",
    "#specify 'state' for `id_vars`\n",
    "#gather the ticket prices from the 'Adultweekday' and 'AdultWeekend' columns using the `value_vars` argument,\n",
    "#call the resultant price column 'Price' via the `value_name` argument,\n",
    "#name the weekday/weekend indicator column 'Ticket' via the `var_name` argument\n",
    "ticket_prices = pd.melt(ski_data[['state', 'AdultWeekday', 'AdultWeekend']], \n",
    "                        id_vars='state', \n",
    "                        var_name='Ticket', \n",
    "                        value_vars=['AdultWeekday', 'AdultWeekend'], \n",
    "                        value_name='Price')"
   ]
  },
  {
   "cell_type": "code",
   "execution_count": 25,
   "metadata": {},
   "outputs": [
    {
     "data": {
      "text/html": [
       "<div>\n",
       "<style scoped>\n",
       "    .dataframe tbody tr th:only-of-type {\n",
       "        vertical-align: middle;\n",
       "    }\n",
       "\n",
       "    .dataframe tbody tr th {\n",
       "        vertical-align: top;\n",
       "    }\n",
       "\n",
       "    .dataframe thead th {\n",
       "        text-align: right;\n",
       "    }\n",
       "</style>\n",
       "<table border=\"1\" class=\"dataframe\">\n",
       "  <thead>\n",
       "    <tr style=\"text-align: right;\">\n",
       "      <th></th>\n",
       "      <th>state</th>\n",
       "      <th>Ticket</th>\n",
       "      <th>Price</th>\n",
       "    </tr>\n",
       "  </thead>\n",
       "  <tbody>\n",
       "    <tr>\n",
       "      <th>0</th>\n",
       "      <td>Alaska</td>\n",
       "      <td>AdultWeekday</td>\n",
       "      <td>65.0</td>\n",
       "    </tr>\n",
       "    <tr>\n",
       "      <th>1</th>\n",
       "      <td>Alaska</td>\n",
       "      <td>AdultWeekday</td>\n",
       "      <td>47.0</td>\n",
       "    </tr>\n",
       "    <tr>\n",
       "      <th>2</th>\n",
       "      <td>Alaska</td>\n",
       "      <td>AdultWeekday</td>\n",
       "      <td>30.0</td>\n",
       "    </tr>\n",
       "    <tr>\n",
       "      <th>3</th>\n",
       "      <td>Arizona</td>\n",
       "      <td>AdultWeekday</td>\n",
       "      <td>89.0</td>\n",
       "    </tr>\n",
       "    <tr>\n",
       "      <th>4</th>\n",
       "      <td>Arizona</td>\n",
       "      <td>AdultWeekday</td>\n",
       "      <td>74.0</td>\n",
       "    </tr>\n",
       "  </tbody>\n",
       "</table>\n",
       "</div>"
      ],
      "text/plain": [
       "     state        Ticket  Price\n",
       "0   Alaska  AdultWeekday   65.0\n",
       "1   Alaska  AdultWeekday   47.0\n",
       "2   Alaska  AdultWeekday   30.0\n",
       "3  Arizona  AdultWeekday   89.0\n",
       "4  Arizona  AdultWeekday   74.0"
      ]
     },
     "execution_count": 25,
     "metadata": {},
     "output_type": "execute_result"
    }
   ],
   "source": [
    "ticket_prices.head()"
   ]
  },
  {
   "cell_type": "markdown",
   "metadata": {},
   "source": [
    "This is now in a format we can pass to [seaborn](https://seaborn.pydata.org/)'s [boxplot](https://seaborn.pydata.org/generated/seaborn.boxplot.html) function to create boxplots of the ticket price distributions for each ticket type for each state."
   ]
  },
  {
   "cell_type": "code",
   "execution_count": 26,
   "metadata": {},
   "outputs": [
    {
     "data": {
      "image/png": "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\n",
      "text/plain": [
       "<Figure size 1440x576 with 1 Axes>"
      ]
     },
     "metadata": {
      "needs_background": "light"
     },
     "output_type": "display_data"
    }
   ],
   "source": [
    "#Code task 16#\n",
    "#Create a seaborn boxplot of the ticket price dataframe we created above,\n",
    "#with 'state' on the x-axis, 'Price' as the y-value, and a hue that indicates 'Ticket'\n",
    "#This will use boxplot's x, y, hue, and data arguments.\n",
    "plt.subplots(figsize=(20, 8))\n",
    "sns.boxplot(x='state', y='Price', hue='Ticket', data=ticket_prices)\n",
    "plt.xticks(rotation='vertical')\n",
    "plt.ylabel('Price ($)')\n",
    "plt.xlabel('State');"
   ]
  },
  {
   "cell_type": "markdown",
   "metadata": {},
   "source": [
    "Aside from some relatively expensive ticket prices in California, Colorado, and Utah, most prices appear to lie in a broad band from around 25 to over 100 dollars. Some States show more variability than others. Montana and South Dakota, for example, both show fairly small variability as well as matching weekend and weekday ticket prices. Nevada and Utah, on the other hand, show the most range in prices. Some States, notably North Carolina and Virginia, have weekend prices far higher than weekday prices. You could be inspired from this exploration to consider a few potential groupings of resorts, those with low spread, those with lower averages, and those that charge a premium for weekend tickets. However, you're told that you are taking all resorts to be part of the same market share, you  could argue against further segment the resorts. Nevertheless, ways to consider using the State information in your modelling include:\n",
    "\n",
    "* disregard State completely\n",
    "* retain all State information\n",
    "* retain State in the form of Montana vs not Montana, as our target resort is in Montana\n",
    "\n",
    "You've also noted another effect above: some States show a marked difference between weekday and weekend ticket prices. It may make sense to allow a model to take into account not just State but also weekend vs weekday."
   ]
  },
  {
   "cell_type": "markdown",
   "metadata": {},
   "source": [
    "Thus we currently have two main questions you want to resolve:\n",
    "\n",
    "* What do you do about the two types of ticket price?\n",
    "* What do you do about the state information?"
   ]
  },
  {
   "cell_type": "markdown",
   "metadata": {},
   "source": [
    "### 2.6.4 Numeric Features<a id='2.6.4_Numeric_Features'></a>"
   ]
  },
  {
   "cell_type": "code",
   "execution_count": 27,
   "metadata": {},
   "outputs": [],
   "source": [
    "#Having decided to reserve judgement on how exactly you utilize the State, turn your attention to cleaning the numeric features."
   ]
  },
  {
   "cell_type": "markdown",
   "metadata": {},
   "source": [
    "#### 2.6.4.1 Numeric data summary<a id='2.6.4.1_Numeric_data_summary'></a>"
   ]
  },
  {
   "cell_type": "code",
   "execution_count": 28,
   "metadata": {},
   "outputs": [
    {
     "data": {
      "text/html": [
       "<div>\n",
       "<style scoped>\n",
       "    .dataframe tbody tr th:only-of-type {\n",
       "        vertical-align: middle;\n",
       "    }\n",
       "\n",
       "    .dataframe tbody tr th {\n",
       "        vertical-align: top;\n",
       "    }\n",
       "\n",
       "    .dataframe thead th {\n",
       "        text-align: right;\n",
       "    }\n",
       "</style>\n",
       "<table border=\"1\" class=\"dataframe\">\n",
       "  <thead>\n",
       "    <tr style=\"text-align: right;\">\n",
       "      <th></th>\n",
       "      <th>count</th>\n",
       "      <th>mean</th>\n",
       "      <th>std</th>\n",
       "      <th>min</th>\n",
       "      <th>25%</th>\n",
       "      <th>50%</th>\n",
       "      <th>75%</th>\n",
       "      <th>max</th>\n",
       "    </tr>\n",
       "  </thead>\n",
       "  <tbody>\n",
       "    <tr>\n",
       "      <th>summit_elev</th>\n",
       "      <td>330.0</td>\n",
       "      <td>4591.818182</td>\n",
       "      <td>3735.535934</td>\n",
       "      <td>315.0</td>\n",
       "      <td>1403.75</td>\n",
       "      <td>3127.5</td>\n",
       "      <td>7806.00</td>\n",
       "      <td>13487.0</td>\n",
       "    </tr>\n",
       "    <tr>\n",
       "      <th>vertical_drop</th>\n",
       "      <td>330.0</td>\n",
       "      <td>1215.427273</td>\n",
       "      <td>947.864557</td>\n",
       "      <td>60.0</td>\n",
       "      <td>461.25</td>\n",
       "      <td>964.5</td>\n",
       "      <td>1800.00</td>\n",
       "      <td>4425.0</td>\n",
       "    </tr>\n",
       "    <tr>\n",
       "      <th>base_elev</th>\n",
       "      <td>330.0</td>\n",
       "      <td>3374.000000</td>\n",
       "      <td>3117.121621</td>\n",
       "      <td>70.0</td>\n",
       "      <td>869.00</td>\n",
       "      <td>1561.5</td>\n",
       "      <td>6325.25</td>\n",
       "      <td>10800.0</td>\n",
       "    </tr>\n",
       "    <tr>\n",
       "      <th>trams</th>\n",
       "      <td>330.0</td>\n",
       "      <td>0.172727</td>\n",
       "      <td>0.559946</td>\n",
       "      <td>0.0</td>\n",
       "      <td>0.00</td>\n",
       "      <td>0.0</td>\n",
       "      <td>0.00</td>\n",
       "      <td>4.0</td>\n",
       "    </tr>\n",
       "    <tr>\n",
       "      <th>fastEight</th>\n",
       "      <td>164.0</td>\n",
       "      <td>0.006098</td>\n",
       "      <td>0.078087</td>\n",
       "      <td>0.0</td>\n",
       "      <td>0.00</td>\n",
       "      <td>0.0</td>\n",
       "      <td>0.00</td>\n",
       "      <td>1.0</td>\n",
       "    </tr>\n",
       "    <tr>\n",
       "      <th>fastSixes</th>\n",
       "      <td>330.0</td>\n",
       "      <td>0.184848</td>\n",
       "      <td>0.651685</td>\n",
       "      <td>0.0</td>\n",
       "      <td>0.00</td>\n",
       "      <td>0.0</td>\n",
       "      <td>0.00</td>\n",
       "      <td>6.0</td>\n",
       "    </tr>\n",
       "    <tr>\n",
       "      <th>fastQuads</th>\n",
       "      <td>330.0</td>\n",
       "      <td>1.018182</td>\n",
       "      <td>2.198294</td>\n",
       "      <td>0.0</td>\n",
       "      <td>0.00</td>\n",
       "      <td>0.0</td>\n",
       "      <td>1.00</td>\n",
       "      <td>15.0</td>\n",
       "    </tr>\n",
       "    <tr>\n",
       "      <th>quad</th>\n",
       "      <td>330.0</td>\n",
       "      <td>0.933333</td>\n",
       "      <td>1.312245</td>\n",
       "      <td>0.0</td>\n",
       "      <td>0.00</td>\n",
       "      <td>0.0</td>\n",
       "      <td>1.00</td>\n",
       "      <td>8.0</td>\n",
       "    </tr>\n",
       "    <tr>\n",
       "      <th>triple</th>\n",
       "      <td>330.0</td>\n",
       "      <td>1.500000</td>\n",
       "      <td>1.619130</td>\n",
       "      <td>0.0</td>\n",
       "      <td>0.00</td>\n",
       "      <td>1.0</td>\n",
       "      <td>2.00</td>\n",
       "      <td>8.0</td>\n",
       "    </tr>\n",
       "    <tr>\n",
       "      <th>double</th>\n",
       "      <td>330.0</td>\n",
       "      <td>1.833333</td>\n",
       "      <td>1.815028</td>\n",
       "      <td>0.0</td>\n",
       "      <td>1.00</td>\n",
       "      <td>1.0</td>\n",
       "      <td>3.00</td>\n",
       "      <td>14.0</td>\n",
       "    </tr>\n",
       "    <tr>\n",
       "      <th>surface</th>\n",
       "      <td>330.0</td>\n",
       "      <td>2.621212</td>\n",
       "      <td>2.059636</td>\n",
       "      <td>0.0</td>\n",
       "      <td>1.00</td>\n",
       "      <td>2.0</td>\n",
       "      <td>3.00</td>\n",
       "      <td>15.0</td>\n",
       "    </tr>\n",
       "    <tr>\n",
       "      <th>total_chairs</th>\n",
       "      <td>330.0</td>\n",
       "      <td>8.266667</td>\n",
       "      <td>5.798683</td>\n",
       "      <td>0.0</td>\n",
       "      <td>5.00</td>\n",
       "      <td>7.0</td>\n",
       "      <td>10.00</td>\n",
       "      <td>41.0</td>\n",
       "    </tr>\n",
       "    <tr>\n",
       "      <th>Runs</th>\n",
       "      <td>326.0</td>\n",
       "      <td>48.214724</td>\n",
       "      <td>46.364077</td>\n",
       "      <td>3.0</td>\n",
       "      <td>19.00</td>\n",
       "      <td>33.0</td>\n",
       "      <td>60.00</td>\n",
       "      <td>341.0</td>\n",
       "    </tr>\n",
       "    <tr>\n",
       "      <th>TerrainParks</th>\n",
       "      <td>279.0</td>\n",
       "      <td>2.820789</td>\n",
       "      <td>2.008113</td>\n",
       "      <td>1.0</td>\n",
       "      <td>1.00</td>\n",
       "      <td>2.0</td>\n",
       "      <td>4.00</td>\n",
       "      <td>14.0</td>\n",
       "    </tr>\n",
       "    <tr>\n",
       "      <th>LongestRun_mi</th>\n",
       "      <td>325.0</td>\n",
       "      <td>1.433231</td>\n",
       "      <td>1.156171</td>\n",
       "      <td>0.0</td>\n",
       "      <td>0.50</td>\n",
       "      <td>1.0</td>\n",
       "      <td>2.00</td>\n",
       "      <td>6.0</td>\n",
       "    </tr>\n",
       "    <tr>\n",
       "      <th>SkiableTerrain_ac</th>\n",
       "      <td>327.0</td>\n",
       "      <td>739.801223</td>\n",
       "      <td>1816.167441</td>\n",
       "      <td>8.0</td>\n",
       "      <td>85.00</td>\n",
       "      <td>200.0</td>\n",
       "      <td>690.00</td>\n",
       "      <td>26819.0</td>\n",
       "    </tr>\n",
       "    <tr>\n",
       "      <th>Snow Making_ac</th>\n",
       "      <td>284.0</td>\n",
       "      <td>174.873239</td>\n",
       "      <td>261.336125</td>\n",
       "      <td>2.0</td>\n",
       "      <td>50.00</td>\n",
       "      <td>100.0</td>\n",
       "      <td>200.50</td>\n",
       "      <td>3379.0</td>\n",
       "    </tr>\n",
       "    <tr>\n",
       "      <th>daysOpenLastYear</th>\n",
       "      <td>279.0</td>\n",
       "      <td>115.103943</td>\n",
       "      <td>35.063251</td>\n",
       "      <td>3.0</td>\n",
       "      <td>97.00</td>\n",
       "      <td>114.0</td>\n",
       "      <td>135.00</td>\n",
       "      <td>305.0</td>\n",
       "    </tr>\n",
       "    <tr>\n",
       "      <th>yearsOpen</th>\n",
       "      <td>329.0</td>\n",
       "      <td>63.656535</td>\n",
       "      <td>109.429928</td>\n",
       "      <td>6.0</td>\n",
       "      <td>50.00</td>\n",
       "      <td>58.0</td>\n",
       "      <td>69.00</td>\n",
       "      <td>2019.0</td>\n",
       "    </tr>\n",
       "    <tr>\n",
       "      <th>averageSnowfall</th>\n",
       "      <td>316.0</td>\n",
       "      <td>185.316456</td>\n",
       "      <td>136.356842</td>\n",
       "      <td>18.0</td>\n",
       "      <td>69.00</td>\n",
       "      <td>150.0</td>\n",
       "      <td>300.00</td>\n",
       "      <td>669.0</td>\n",
       "    </tr>\n",
       "    <tr>\n",
       "      <th>AdultWeekday</th>\n",
       "      <td>276.0</td>\n",
       "      <td>57.916957</td>\n",
       "      <td>26.140126</td>\n",
       "      <td>15.0</td>\n",
       "      <td>40.00</td>\n",
       "      <td>50.0</td>\n",
       "      <td>71.00</td>\n",
       "      <td>179.0</td>\n",
       "    </tr>\n",
       "    <tr>\n",
       "      <th>AdultWeekend</th>\n",
       "      <td>279.0</td>\n",
       "      <td>64.166810</td>\n",
       "      <td>24.554584</td>\n",
       "      <td>17.0</td>\n",
       "      <td>47.00</td>\n",
       "      <td>60.0</td>\n",
       "      <td>77.50</td>\n",
       "      <td>179.0</td>\n",
       "    </tr>\n",
       "    <tr>\n",
       "      <th>projectedDaysOpen</th>\n",
       "      <td>283.0</td>\n",
       "      <td>120.053004</td>\n",
       "      <td>31.045963</td>\n",
       "      <td>30.0</td>\n",
       "      <td>100.00</td>\n",
       "      <td>120.0</td>\n",
       "      <td>139.50</td>\n",
       "      <td>305.0</td>\n",
       "    </tr>\n",
       "    <tr>\n",
       "      <th>NightSkiing_ac</th>\n",
       "      <td>187.0</td>\n",
       "      <td>100.395722</td>\n",
       "      <td>105.169620</td>\n",
       "      <td>2.0</td>\n",
       "      <td>40.00</td>\n",
       "      <td>72.0</td>\n",
       "      <td>114.00</td>\n",
       "      <td>650.0</td>\n",
       "    </tr>\n",
       "  </tbody>\n",
       "</table>\n",
       "</div>"
      ],
      "text/plain": [
       "                   count         mean          std    min      25%     50%  \\\n",
       "summit_elev        330.0  4591.818182  3735.535934  315.0  1403.75  3127.5   \n",
       "vertical_drop      330.0  1215.427273   947.864557   60.0   461.25   964.5   \n",
       "base_elev          330.0  3374.000000  3117.121621   70.0   869.00  1561.5   \n",
       "trams              330.0     0.172727     0.559946    0.0     0.00     0.0   \n",
       "fastEight          164.0     0.006098     0.078087    0.0     0.00     0.0   \n",
       "fastSixes          330.0     0.184848     0.651685    0.0     0.00     0.0   \n",
       "fastQuads          330.0     1.018182     2.198294    0.0     0.00     0.0   \n",
       "quad               330.0     0.933333     1.312245    0.0     0.00     0.0   \n",
       "triple             330.0     1.500000     1.619130    0.0     0.00     1.0   \n",
       "double             330.0     1.833333     1.815028    0.0     1.00     1.0   \n",
       "surface            330.0     2.621212     2.059636    0.0     1.00     2.0   \n",
       "total_chairs       330.0     8.266667     5.798683    0.0     5.00     7.0   \n",
       "Runs               326.0    48.214724    46.364077    3.0    19.00    33.0   \n",
       "TerrainParks       279.0     2.820789     2.008113    1.0     1.00     2.0   \n",
       "LongestRun_mi      325.0     1.433231     1.156171    0.0     0.50     1.0   \n",
       "SkiableTerrain_ac  327.0   739.801223  1816.167441    8.0    85.00   200.0   \n",
       "Snow Making_ac     284.0   174.873239   261.336125    2.0    50.00   100.0   \n",
       "daysOpenLastYear   279.0   115.103943    35.063251    3.0    97.00   114.0   \n",
       "yearsOpen          329.0    63.656535   109.429928    6.0    50.00    58.0   \n",
       "averageSnowfall    316.0   185.316456   136.356842   18.0    69.00   150.0   \n",
       "AdultWeekday       276.0    57.916957    26.140126   15.0    40.00    50.0   \n",
       "AdultWeekend       279.0    64.166810    24.554584   17.0    47.00    60.0   \n",
       "projectedDaysOpen  283.0   120.053004    31.045963   30.0   100.00   120.0   \n",
       "NightSkiing_ac     187.0   100.395722   105.169620    2.0    40.00    72.0   \n",
       "\n",
       "                       75%      max  \n",
       "summit_elev        7806.00  13487.0  \n",
       "vertical_drop      1800.00   4425.0  \n",
       "base_elev          6325.25  10800.0  \n",
       "trams                 0.00      4.0  \n",
       "fastEight             0.00      1.0  \n",
       "fastSixes             0.00      6.0  \n",
       "fastQuads             1.00     15.0  \n",
       "quad                  1.00      8.0  \n",
       "triple                2.00      8.0  \n",
       "double                3.00     14.0  \n",
       "surface               3.00     15.0  \n",
       "total_chairs         10.00     41.0  \n",
       "Runs                 60.00    341.0  \n",
       "TerrainParks          4.00     14.0  \n",
       "LongestRun_mi         2.00      6.0  \n",
       "SkiableTerrain_ac   690.00  26819.0  \n",
       "Snow Making_ac      200.50   3379.0  \n",
       "daysOpenLastYear    135.00    305.0  \n",
       "yearsOpen            69.00   2019.0  \n",
       "averageSnowfall     300.00    669.0  \n",
       "AdultWeekday         71.00    179.0  \n",
       "AdultWeekend         77.50    179.0  \n",
       "projectedDaysOpen   139.50    305.0  \n",
       "NightSkiing_ac      114.00    650.0  "
      ]
     },
     "execution_count": 28,
     "metadata": {},
     "output_type": "execute_result"
    }
   ],
   "source": [
    "#Code task 17#\n",
    "#Call ski_data's `describe` method for a statistical summary of the numerical columns\n",
    "#Hint: there are fewer summary stat columns than features, so displaying the transpose\n",
    "#will be useful again\n",
    "ski_data.describe().T"
   ]
  },
  {
   "cell_type": "markdown",
   "metadata": {},
   "source": [
    "Recall you're missing the ticket prices for some 16% of resorts. This is a fundamental problem that means you simply lack the required data for those resorts and will have to drop those records. But you may have a weekend price and not a weekday price, or vice versa. You want to keep any price you have."
   ]
  },
  {
   "cell_type": "code",
   "execution_count": 29,
   "metadata": {},
   "outputs": [
    {
     "data": {
      "text/plain": [
       "0    82.424242\n",
       "2    14.242424\n",
       "1     3.333333\n",
       "dtype: float64"
      ]
     },
     "execution_count": 29,
     "metadata": {},
     "output_type": "execute_result"
    }
   ],
   "source": [
    "missing_price = ski_data[['AdultWeekend', 'AdultWeekday']].isnull().sum(axis=1)\n",
    "missing_price.value_counts()/len(missing_price) * 100"
   ]
  },
  {
   "cell_type": "markdown",
   "metadata": {},
   "source": [
    "Just over 82% of resorts have no missing ticket price, 3% are missing one value, and 14% are missing both. You will definitely want to drop the records for which you have no price information, however you will not do so just yet. There may still be useful information about the distributions of other features in that 14% of the data."
   ]
  },
  {
   "cell_type": "markdown",
   "metadata": {},
   "source": [
    "#### 2.6.4.2 Distributions Of Feature Values<a id='2.6.4.2_Distributions_Of_Feature_Values'></a>"
   ]
  },
  {
   "cell_type": "markdown",
   "metadata": {},
   "source": [
    "Note that, although we are still in the 'data wrangling and cleaning' phase rather than exploratory data analysis, looking at distributions of features is immensely useful in getting a feel for whether the values look sensible and whether there are any obvious outliers to investigate. Some exploratory data analysis belongs here, and data wrangling will inevitably occur later on. It's more a matter of emphasis. Here, we're interesting in focusing on whether distributions look plausible or wrong. Later on, we're more interested in relationships and patterns."
   ]
  },
  {
   "cell_type": "code",
   "execution_count": 30,
   "metadata": {},
   "outputs": [
    {
     "data": {
      "image/png": "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\n",
      "text/plain": [
       "<Figure size 1080x720 with 25 Axes>"
      ]
     },
     "metadata": {
      "needs_background": "light"
     },
     "output_type": "display_data"
    }
   ],
   "source": [
    "#Code task 18#\n",
    "#Call ski_data's `hist` method to plot histograms of each of the numeric features\n",
    "#Try passing it an argument figsize=(15,10)\n",
    "#Try calling plt.subplots_adjust() with an argument hspace=0.5 to adjust the spacing\n",
    "#It's important you create legible and easy-to-read plots\n",
    "ski_data.hist(figsize=(15,10))\n",
    "plt.subplots_adjust(hspace=0.5);\n",
    "#Hint: notice how the terminating ';' \"swallows\" some messy output and leads to a tidier notebook"
   ]
  },
  {
   "cell_type": "markdown",
   "metadata": {},
   "source": [
    "What features do we have possible cause for concern about and why?\n",
    "\n",
    "* SkiableTerrain_ac because values are clustered down the low end,\n",
    "* Snow Making_ac for the same reason,\n",
    "* fastEight because all but one value is 0 so it has very little variance, and half the values are missing,\n",
    "* fastSixes raises an amber flag; it has more variability, but still mostly 0,\n",
    "* trams also may get an amber flag for the same reason,\n",
    "* yearsOpen because most values are low but it has a maximum of 2019, which strongly suggests someone recorded calendar year rather than number of years."
   ]
  },
  {
   "cell_type": "markdown",
   "metadata": {},
   "source": [
    "##### 2.6.4.2.1 SkiableTerrain_ac<a id='2.6.4.2.1_SkiableTerrain_ac'></a>"
   ]
  },
  {
   "cell_type": "code",
   "execution_count": 31,
   "metadata": {},
   "outputs": [
    {
     "data": {
      "text/html": [
       "<div>\n",
       "<style scoped>\n",
       "    .dataframe tbody tr th:only-of-type {\n",
       "        vertical-align: middle;\n",
       "    }\n",
       "\n",
       "    .dataframe tbody tr th {\n",
       "        vertical-align: top;\n",
       "    }\n",
       "\n",
       "    .dataframe thead th {\n",
       "        text-align: right;\n",
       "    }\n",
       "</style>\n",
       "<table border=\"1\" class=\"dataframe\">\n",
       "  <thead>\n",
       "    <tr style=\"text-align: right;\">\n",
       "      <th></th>\n",
       "      <th>Name</th>\n",
       "      <th>Region</th>\n",
       "      <th>state</th>\n",
       "      <th>summit_elev</th>\n",
       "      <th>vertical_drop</th>\n",
       "      <th>base_elev</th>\n",
       "      <th>trams</th>\n",
       "      <th>fastEight</th>\n",
       "      <th>fastSixes</th>\n",
       "      <th>fastQuads</th>\n",
       "      <th>...</th>\n",
       "      <th>LongestRun_mi</th>\n",
       "      <th>SkiableTerrain_ac</th>\n",
       "      <th>Snow Making_ac</th>\n",
       "      <th>daysOpenLastYear</th>\n",
       "      <th>yearsOpen</th>\n",
       "      <th>averageSnowfall</th>\n",
       "      <th>AdultWeekday</th>\n",
       "      <th>AdultWeekend</th>\n",
       "      <th>projectedDaysOpen</th>\n",
       "      <th>NightSkiing_ac</th>\n",
       "    </tr>\n",
       "  </thead>\n",
       "  <tbody>\n",
       "    <tr>\n",
       "      <th>39</th>\n",
       "      <td>Silverton Mountain</td>\n",
       "      <td>Colorado</td>\n",
       "      <td>Colorado</td>\n",
       "      <td>13487</td>\n",
       "      <td>3087</td>\n",
       "      <td>10400</td>\n",
       "      <td>0</td>\n",
       "      <td>0.0</td>\n",
       "      <td>0</td>\n",
       "      <td>0</td>\n",
       "      <td>...</td>\n",
       "      <td>1.5</td>\n",
       "      <td>26819.0</td>\n",
       "      <td>NaN</td>\n",
       "      <td>175.0</td>\n",
       "      <td>17.0</td>\n",
       "      <td>400.0</td>\n",
       "      <td>79.0</td>\n",
       "      <td>79.0</td>\n",
       "      <td>181.0</td>\n",
       "      <td>NaN</td>\n",
       "    </tr>\n",
       "  </tbody>\n",
       "</table>\n",
       "<p>1 rows × 27 columns</p>\n",
       "</div>"
      ],
      "text/plain": [
       "                  Name    Region     state  summit_elev  vertical_drop  \\\n",
       "39  Silverton Mountain  Colorado  Colorado        13487           3087   \n",
       "\n",
       "    base_elev  trams  fastEight  fastSixes  fastQuads  ...  LongestRun_mi  \\\n",
       "39      10400      0        0.0          0          0  ...            1.5   \n",
       "\n",
       "    SkiableTerrain_ac  Snow Making_ac  daysOpenLastYear  yearsOpen  \\\n",
       "39            26819.0             NaN             175.0       17.0   \n",
       "\n",
       "    averageSnowfall  AdultWeekday  AdultWeekend  projectedDaysOpen  \\\n",
       "39            400.0          79.0          79.0              181.0   \n",
       "\n",
       "    NightSkiing_ac  \n",
       "39             NaN  \n",
       "\n",
       "[1 rows x 27 columns]"
      ]
     },
     "execution_count": 31,
     "metadata": {},
     "output_type": "execute_result"
    }
   ],
   "source": [
    "#Code task 19#\n",
    "#Filter the 'SkiableTerrain_ac' column to print the values greater than 10000\n",
    "ski_data.loc[ski_data.SkiableTerrain_ac > 10000]"
   ]
  },
  {
   "cell_type": "markdown",
   "metadata": {},
   "source": [
    "**Q: 2** One resort has an incredibly large skiable terrain area! Which is it?"
   ]
  },
  {
   "cell_type": "code",
   "execution_count": 32,
   "metadata": {},
   "outputs": [
    {
     "data": {
      "text/html": [
       "<div>\n",
       "<style scoped>\n",
       "    .dataframe tbody tr th:only-of-type {\n",
       "        vertical-align: middle;\n",
       "    }\n",
       "\n",
       "    .dataframe tbody tr th {\n",
       "        vertical-align: top;\n",
       "    }\n",
       "\n",
       "    .dataframe thead th {\n",
       "        text-align: right;\n",
       "    }\n",
       "</style>\n",
       "<table border=\"1\" class=\"dataframe\">\n",
       "  <thead>\n",
       "    <tr style=\"text-align: right;\">\n",
       "      <th></th>\n",
       "      <th>39</th>\n",
       "    </tr>\n",
       "  </thead>\n",
       "  <tbody>\n",
       "    <tr>\n",
       "      <th>Name</th>\n",
       "      <td>Silverton Mountain</td>\n",
       "    </tr>\n",
       "    <tr>\n",
       "      <th>Region</th>\n",
       "      <td>Colorado</td>\n",
       "    </tr>\n",
       "    <tr>\n",
       "      <th>state</th>\n",
       "      <td>Colorado</td>\n",
       "    </tr>\n",
       "    <tr>\n",
       "      <th>summit_elev</th>\n",
       "      <td>13487</td>\n",
       "    </tr>\n",
       "    <tr>\n",
       "      <th>vertical_drop</th>\n",
       "      <td>3087</td>\n",
       "    </tr>\n",
       "    <tr>\n",
       "      <th>base_elev</th>\n",
       "      <td>10400</td>\n",
       "    </tr>\n",
       "    <tr>\n",
       "      <th>trams</th>\n",
       "      <td>0</td>\n",
       "    </tr>\n",
       "    <tr>\n",
       "      <th>fastEight</th>\n",
       "      <td>0.0</td>\n",
       "    </tr>\n",
       "    <tr>\n",
       "      <th>fastSixes</th>\n",
       "      <td>0</td>\n",
       "    </tr>\n",
       "    <tr>\n",
       "      <th>fastQuads</th>\n",
       "      <td>0</td>\n",
       "    </tr>\n",
       "    <tr>\n",
       "      <th>quad</th>\n",
       "      <td>0</td>\n",
       "    </tr>\n",
       "    <tr>\n",
       "      <th>triple</th>\n",
       "      <td>0</td>\n",
       "    </tr>\n",
       "    <tr>\n",
       "      <th>double</th>\n",
       "      <td>1</td>\n",
       "    </tr>\n",
       "    <tr>\n",
       "      <th>surface</th>\n",
       "      <td>0</td>\n",
       "    </tr>\n",
       "    <tr>\n",
       "      <th>total_chairs</th>\n",
       "      <td>1</td>\n",
       "    </tr>\n",
       "    <tr>\n",
       "      <th>Runs</th>\n",
       "      <td>NaN</td>\n",
       "    </tr>\n",
       "    <tr>\n",
       "      <th>TerrainParks</th>\n",
       "      <td>NaN</td>\n",
       "    </tr>\n",
       "    <tr>\n",
       "      <th>LongestRun_mi</th>\n",
       "      <td>1.5</td>\n",
       "    </tr>\n",
       "    <tr>\n",
       "      <th>SkiableTerrain_ac</th>\n",
       "      <td>26819.0</td>\n",
       "    </tr>\n",
       "    <tr>\n",
       "      <th>Snow Making_ac</th>\n",
       "      <td>NaN</td>\n",
       "    </tr>\n",
       "    <tr>\n",
       "      <th>daysOpenLastYear</th>\n",
       "      <td>175.0</td>\n",
       "    </tr>\n",
       "    <tr>\n",
       "      <th>yearsOpen</th>\n",
       "      <td>17.0</td>\n",
       "    </tr>\n",
       "    <tr>\n",
       "      <th>averageSnowfall</th>\n",
       "      <td>400.0</td>\n",
       "    </tr>\n",
       "    <tr>\n",
       "      <th>AdultWeekday</th>\n",
       "      <td>79.0</td>\n",
       "    </tr>\n",
       "    <tr>\n",
       "      <th>AdultWeekend</th>\n",
       "      <td>79.0</td>\n",
       "    </tr>\n",
       "    <tr>\n",
       "      <th>projectedDaysOpen</th>\n",
       "      <td>181.0</td>\n",
       "    </tr>\n",
       "    <tr>\n",
       "      <th>NightSkiing_ac</th>\n",
       "      <td>NaN</td>\n",
       "    </tr>\n",
       "  </tbody>\n",
       "</table>\n",
       "</div>"
      ],
      "text/plain": [
       "                                   39\n",
       "Name               Silverton Mountain\n",
       "Region                       Colorado\n",
       "state                        Colorado\n",
       "summit_elev                     13487\n",
       "vertical_drop                    3087\n",
       "base_elev                       10400\n",
       "trams                               0\n",
       "fastEight                         0.0\n",
       "fastSixes                           0\n",
       "fastQuads                           0\n",
       "quad                                0\n",
       "triple                              0\n",
       "double                              1\n",
       "surface                             0\n",
       "total_chairs                        1\n",
       "Runs                              NaN\n",
       "TerrainParks                      NaN\n",
       "LongestRun_mi                     1.5\n",
       "SkiableTerrain_ac             26819.0\n",
       "Snow Making_ac                    NaN\n",
       "daysOpenLastYear                175.0\n",
       "yearsOpen                        17.0\n",
       "averageSnowfall                 400.0\n",
       "AdultWeekday                     79.0\n",
       "AdultWeekend                     79.0\n",
       "projectedDaysOpen               181.0\n",
       "NightSkiing_ac                    NaN"
      ]
     },
     "execution_count": 32,
     "metadata": {},
     "output_type": "execute_result"
    }
   ],
   "source": [
    "#Code task 20#\n",
    "#Now you know there's only one, print the whole row to investigate all values, including seeing the resort name\n",
    "#Hint: don't forget the transpose will be helpful here\n",
    "ski_data[ski_data.SkiableTerrain_ac > 10000].T"
   ]
  },
  {
   "cell_type": "markdown",
   "metadata": {},
   "source": [
    "**A: 2** Your answer here\n",
    "Silverton Mountain from Colorado state according to dataset provided."
   ]
  },
  {
   "cell_type": "markdown",
   "metadata": {},
   "source": [
    "But what can you do when you have one record that seems highly suspicious?"
   ]
  },
  {
   "cell_type": "markdown",
   "metadata": {},
   "source": [
    "You can see if your data are correct. Search for \"silverton mountain skiable area\". If you do this, you get some [useful information](https://www.google.com/search?q=silverton+mountain+skiable+area)."
   ]
  },
  {
   "cell_type": "markdown",
   "metadata": {},
   "source": [
    "![Silverton Mountain information](images/silverton_mountain_info.png)"
   ]
  },
  {
   "cell_type": "markdown",
   "metadata": {},
   "source": [
    "You can spot check data. You see your top and base elevation values agree, but the skiable area is very different. Your suspect value is 26819, but the value you've just looked up is 1819. The last three digits agree. This sort of error could have occured in transmission or some editing or transcription stage. You could plausibly replace the suspect value with the one you've just obtained. Another cautionary note to make here is that although you're doing this in order to progress with your analysis, this is most definitely an issue that should have been raised and fed back to the client or data originator as a query. You should view this \"data correction\" step as a means to continue (documenting it carefully as you do in this notebook) rather than an ultimate decision as to what is correct."
   ]
  },
  {
   "cell_type": "code",
   "execution_count": 33,
   "metadata": {},
   "outputs": [
    {
     "data": {
      "text/plain": [
       "26819.0"
      ]
     },
     "execution_count": 33,
     "metadata": {},
     "output_type": "execute_result"
    }
   ],
   "source": [
    "#Code task 21#\n",
    "#Use the .loc accessor to print the 'SkiableTerrain_ac' value only for this resort\n",
    "ski_data.loc[39, 'SkiableTerrain_ac']"
   ]
  },
  {
   "cell_type": "code",
   "execution_count": 34,
   "metadata": {},
   "outputs": [],
   "source": [
    "#Code task 22#\n",
    "#Use the .loc accessor again to modify this value with the correct value of 1819\n",
    "ski_data.loc[39, 'SkiableTerrain_ac'] = 1819"
   ]
  },
  {
   "cell_type": "code",
   "execution_count": 35,
   "metadata": {},
   "outputs": [
    {
     "data": {
      "text/plain": [
       "1819.0"
      ]
     },
     "execution_count": 35,
     "metadata": {},
     "output_type": "execute_result"
    }
   ],
   "source": [
    "#Code task 23#\n",
    "#Use the .loc accessor a final time to verify that the value has been modified\n",
    "ski_data.loc[39, 'SkiableTerrain_ac']"
   ]
  },
  {
   "cell_type": "markdown",
   "metadata": {},
   "source": [
    "**NB whilst you may become suspicious about your data quality, and you know you have missing values, you will not here dive down the rabbit hole of checking all values or web scraping to replace missing values.**"
   ]
  },
  {
   "cell_type": "markdown",
   "metadata": {},
   "source": [
    "What does the distribution of skiable area look like now?"
   ]
  },
  {
   "cell_type": "code",
   "execution_count": 36,
   "metadata": {},
   "outputs": [
    {
     "data": {
      "image/png": "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\n",
      "text/plain": [
       "<Figure size 432x288 with 1 Axes>"
      ]
     },
     "metadata": {
      "needs_background": "light"
     },
     "output_type": "display_data"
    }
   ],
   "source": [
    "ski_data.SkiableTerrain_ac.hist(bins=30)\n",
    "plt.xlabel('SkiableTerrain_ac')\n",
    "plt.ylabel('Count')\n",
    "plt.title('Distribution of skiable area (acres) after replacing erroneous value');"
   ]
  },
  {
   "cell_type": "markdown",
   "metadata": {},
   "source": [
    "You now see a rather long tailed distribution. You may wonder about the now most extreme value that is above 8000, but similarly you may also wonder about the value around 7000. If you wanted to spend more time manually checking values you could, but leave this for now. The above distribution is plausible."
   ]
  },
  {
   "cell_type": "markdown",
   "metadata": {},
   "source": [
    "##### 2.6.4.2.2 Snow Making_ac<a id='2.6.4.2.2_Snow_Making_ac'></a>"
   ]
  },
  {
   "cell_type": "code",
   "execution_count": 37,
   "metadata": {},
   "outputs": [
    {
     "data": {
      "text/plain": [
       "11    3379.0\n",
       "18    1500.0\n",
       "Name: Snow Making_ac, dtype: float64"
      ]
     },
     "execution_count": 37,
     "metadata": {},
     "output_type": "execute_result"
    }
   ],
   "source": [
    "ski_data['Snow Making_ac'][ski_data['Snow Making_ac'] > 1000]"
   ]
  },
  {
   "cell_type": "code",
   "execution_count": 38,
   "metadata": {},
   "outputs": [
    {
     "data": {
      "text/html": [
       "<div>\n",
       "<style scoped>\n",
       "    .dataframe tbody tr th:only-of-type {\n",
       "        vertical-align: middle;\n",
       "    }\n",
       "\n",
       "    .dataframe tbody tr th {\n",
       "        vertical-align: top;\n",
       "    }\n",
       "\n",
       "    .dataframe thead th {\n",
       "        text-align: right;\n",
       "    }\n",
       "</style>\n",
       "<table border=\"1\" class=\"dataframe\">\n",
       "  <thead>\n",
       "    <tr style=\"text-align: right;\">\n",
       "      <th></th>\n",
       "      <th>11</th>\n",
       "    </tr>\n",
       "  </thead>\n",
       "  <tbody>\n",
       "    <tr>\n",
       "      <th>Name</th>\n",
       "      <td>Heavenly Mountain Resort</td>\n",
       "    </tr>\n",
       "    <tr>\n",
       "      <th>Region</th>\n",
       "      <td>Sierra Nevada</td>\n",
       "    </tr>\n",
       "    <tr>\n",
       "      <th>state</th>\n",
       "      <td>California</td>\n",
       "    </tr>\n",
       "    <tr>\n",
       "      <th>summit_elev</th>\n",
       "      <td>10067</td>\n",
       "    </tr>\n",
       "    <tr>\n",
       "      <th>vertical_drop</th>\n",
       "      <td>3500</td>\n",
       "    </tr>\n",
       "    <tr>\n",
       "      <th>base_elev</th>\n",
       "      <td>7170</td>\n",
       "    </tr>\n",
       "    <tr>\n",
       "      <th>trams</th>\n",
       "      <td>2</td>\n",
       "    </tr>\n",
       "    <tr>\n",
       "      <th>fastEight</th>\n",
       "      <td>0.0</td>\n",
       "    </tr>\n",
       "    <tr>\n",
       "      <th>fastSixes</th>\n",
       "      <td>2</td>\n",
       "    </tr>\n",
       "    <tr>\n",
       "      <th>fastQuads</th>\n",
       "      <td>7</td>\n",
       "    </tr>\n",
       "    <tr>\n",
       "      <th>quad</th>\n",
       "      <td>1</td>\n",
       "    </tr>\n",
       "    <tr>\n",
       "      <th>triple</th>\n",
       "      <td>5</td>\n",
       "    </tr>\n",
       "    <tr>\n",
       "      <th>double</th>\n",
       "      <td>3</td>\n",
       "    </tr>\n",
       "    <tr>\n",
       "      <th>surface</th>\n",
       "      <td>8</td>\n",
       "    </tr>\n",
       "    <tr>\n",
       "      <th>total_chairs</th>\n",
       "      <td>28</td>\n",
       "    </tr>\n",
       "    <tr>\n",
       "      <th>Runs</th>\n",
       "      <td>97.0</td>\n",
       "    </tr>\n",
       "    <tr>\n",
       "      <th>TerrainParks</th>\n",
       "      <td>3.0</td>\n",
       "    </tr>\n",
       "    <tr>\n",
       "      <th>LongestRun_mi</th>\n",
       "      <td>5.5</td>\n",
       "    </tr>\n",
       "    <tr>\n",
       "      <th>SkiableTerrain_ac</th>\n",
       "      <td>4800.0</td>\n",
       "    </tr>\n",
       "    <tr>\n",
       "      <th>Snow Making_ac</th>\n",
       "      <td>3379.0</td>\n",
       "    </tr>\n",
       "    <tr>\n",
       "      <th>daysOpenLastYear</th>\n",
       "      <td>155.0</td>\n",
       "    </tr>\n",
       "    <tr>\n",
       "      <th>yearsOpen</th>\n",
       "      <td>64.0</td>\n",
       "    </tr>\n",
       "    <tr>\n",
       "      <th>averageSnowfall</th>\n",
       "      <td>360.0</td>\n",
       "    </tr>\n",
       "    <tr>\n",
       "      <th>AdultWeekday</th>\n",
       "      <td>NaN</td>\n",
       "    </tr>\n",
       "    <tr>\n",
       "      <th>AdultWeekend</th>\n",
       "      <td>NaN</td>\n",
       "    </tr>\n",
       "    <tr>\n",
       "      <th>projectedDaysOpen</th>\n",
       "      <td>157.0</td>\n",
       "    </tr>\n",
       "    <tr>\n",
       "      <th>NightSkiing_ac</th>\n",
       "      <td>NaN</td>\n",
       "    </tr>\n",
       "  </tbody>\n",
       "</table>\n",
       "</div>"
      ],
      "text/plain": [
       "                                         11\n",
       "Name               Heavenly Mountain Resort\n",
       "Region                        Sierra Nevada\n",
       "state                            California\n",
       "summit_elev                           10067\n",
       "vertical_drop                          3500\n",
       "base_elev                              7170\n",
       "trams                                     2\n",
       "fastEight                               0.0\n",
       "fastSixes                                 2\n",
       "fastQuads                                 7\n",
       "quad                                      1\n",
       "triple                                    5\n",
       "double                                    3\n",
       "surface                                   8\n",
       "total_chairs                             28\n",
       "Runs                                   97.0\n",
       "TerrainParks                            3.0\n",
       "LongestRun_mi                           5.5\n",
       "SkiableTerrain_ac                    4800.0\n",
       "Snow Making_ac                       3379.0\n",
       "daysOpenLastYear                      155.0\n",
       "yearsOpen                              64.0\n",
       "averageSnowfall                       360.0\n",
       "AdultWeekday                            NaN\n",
       "AdultWeekend                            NaN\n",
       "projectedDaysOpen                     157.0\n",
       "NightSkiing_ac                          NaN"
      ]
     },
     "execution_count": 38,
     "metadata": {},
     "output_type": "execute_result"
    }
   ],
   "source": [
    "ski_data[ski_data['Snow Making_ac'] > 3000].T"
   ]
  },
  {
   "cell_type": "markdown",
   "metadata": {},
   "source": [
    "You can adopt a similar approach as for the suspect skiable area value and do some spot checking. To save time, here is a link to the website for [Heavenly Mountain Resort](https://www.skiheavenly.com/the-mountain/about-the-mountain/mountain-info.aspx). From this you can glean that you have values for skiable terrain that agree. Furthermore, you can read that snowmaking covers 60% of the trails."
   ]
  },
  {
   "cell_type": "markdown",
   "metadata": {},
   "source": [
    "What, then, is your rough guess for the area covered by snowmaking?"
   ]
  },
  {
   "cell_type": "code",
   "execution_count": 39,
   "metadata": {},
   "outputs": [
    {
     "data": {
      "text/plain": [
       "2880.0"
      ]
     },
     "execution_count": 39,
     "metadata": {},
     "output_type": "execute_result"
    }
   ],
   "source": [
    ".6 * 4800"
   ]
  },
  {
   "cell_type": "markdown",
   "metadata": {},
   "source": [
    "This is less than the value of 3379 in your data so you may have a judgement call to make. However, notice something else. You have no ticket pricing information at all for this resort. Any further effort spent worrying about values for this resort will be wasted. You'll simply be dropping the entire row!"
   ]
  },
  {
   "cell_type": "markdown",
   "metadata": {},
   "source": [
    "##### 2.6.4.2.3 fastEight<a id='2.6.4.2.3_fastEight'></a>"
   ]
  },
  {
   "cell_type": "markdown",
   "metadata": {},
   "source": [
    "Look at the different fastEight values more closely:"
   ]
  },
  {
   "cell_type": "code",
   "execution_count": 40,
   "metadata": {},
   "outputs": [
    {
     "data": {
      "text/plain": [
       "0.0    163\n",
       "1.0      1\n",
       "Name: fastEight, dtype: int64"
      ]
     },
     "execution_count": 40,
     "metadata": {},
     "output_type": "execute_result"
    }
   ],
   "source": [
    "ski_data.fastEight.value_counts()"
   ]
  },
  {
   "cell_type": "markdown",
   "metadata": {},
   "source": [
    "Drop the fastEight column in its entirety; half the values are missing and all but the others are the value zero. There is essentially no information in this column."
   ]
  },
  {
   "cell_type": "code",
   "execution_count": 41,
   "metadata": {},
   "outputs": [],
   "source": [
    "#Code task 24#\n",
    "#Drop the 'fastEight' column from ski_data. Use inplace=True\n",
    "ski_data.drop(columns='fastEight', inplace=True)"
   ]
  },
  {
   "cell_type": "markdown",
   "metadata": {},
   "source": [
    "What about yearsOpen? How many resorts have purportedly been open for more than 100 years?"
   ]
  },
  {
   "cell_type": "code",
   "execution_count": 42,
   "metadata": {},
   "outputs": [
    {
     "data": {
      "text/html": [
       "<div>\n",
       "<style scoped>\n",
       "    .dataframe tbody tr th:only-of-type {\n",
       "        vertical-align: middle;\n",
       "    }\n",
       "\n",
       "    .dataframe tbody tr th {\n",
       "        vertical-align: top;\n",
       "    }\n",
       "\n",
       "    .dataframe thead th {\n",
       "        text-align: right;\n",
       "    }\n",
       "</style>\n",
       "<table border=\"1\" class=\"dataframe\">\n",
       "  <thead>\n",
       "    <tr style=\"text-align: right;\">\n",
       "      <th></th>\n",
       "      <th>Name</th>\n",
       "      <th>Region</th>\n",
       "      <th>state</th>\n",
       "      <th>summit_elev</th>\n",
       "      <th>vertical_drop</th>\n",
       "      <th>base_elev</th>\n",
       "      <th>trams</th>\n",
       "      <th>fastSixes</th>\n",
       "      <th>fastQuads</th>\n",
       "      <th>quad</th>\n",
       "      <th>...</th>\n",
       "      <th>LongestRun_mi</th>\n",
       "      <th>SkiableTerrain_ac</th>\n",
       "      <th>Snow Making_ac</th>\n",
       "      <th>daysOpenLastYear</th>\n",
       "      <th>yearsOpen</th>\n",
       "      <th>averageSnowfall</th>\n",
       "      <th>AdultWeekday</th>\n",
       "      <th>AdultWeekend</th>\n",
       "      <th>projectedDaysOpen</th>\n",
       "      <th>NightSkiing_ac</th>\n",
       "    </tr>\n",
       "  </thead>\n",
       "  <tbody>\n",
       "    <tr>\n",
       "      <th>34</th>\n",
       "      <td>Howelsen Hill</td>\n",
       "      <td>Colorado</td>\n",
       "      <td>Colorado</td>\n",
       "      <td>7136</td>\n",
       "      <td>440</td>\n",
       "      <td>6696</td>\n",
       "      <td>0</td>\n",
       "      <td>0</td>\n",
       "      <td>0</td>\n",
       "      <td>0</td>\n",
       "      <td>...</td>\n",
       "      <td>6.0</td>\n",
       "      <td>50.0</td>\n",
       "      <td>25.0</td>\n",
       "      <td>100.0</td>\n",
       "      <td>104.0</td>\n",
       "      <td>150.0</td>\n",
       "      <td>25.0</td>\n",
       "      <td>25.0</td>\n",
       "      <td>100.0</td>\n",
       "      <td>10.0</td>\n",
       "    </tr>\n",
       "    <tr>\n",
       "      <th>115</th>\n",
       "      <td>Pine Knob Ski Resort</td>\n",
       "      <td>Michigan</td>\n",
       "      <td>Michigan</td>\n",
       "      <td>1308</td>\n",
       "      <td>300</td>\n",
       "      <td>1009</td>\n",
       "      <td>0</td>\n",
       "      <td>0</td>\n",
       "      <td>0</td>\n",
       "      <td>0</td>\n",
       "      <td>...</td>\n",
       "      <td>1.0</td>\n",
       "      <td>80.0</td>\n",
       "      <td>80.0</td>\n",
       "      <td>NaN</td>\n",
       "      <td>2019.0</td>\n",
       "      <td>NaN</td>\n",
       "      <td>49.0</td>\n",
       "      <td>57.0</td>\n",
       "      <td>NaN</td>\n",
       "      <td>NaN</td>\n",
       "    </tr>\n",
       "  </tbody>\n",
       "</table>\n",
       "<p>2 rows × 26 columns</p>\n",
       "</div>"
      ],
      "text/plain": [
       "                     Name    Region     state  summit_elev  vertical_drop  \\\n",
       "34          Howelsen Hill  Colorado  Colorado         7136            440   \n",
       "115  Pine Knob Ski Resort  Michigan  Michigan         1308            300   \n",
       "\n",
       "     base_elev  trams  fastSixes  fastQuads  quad  ...  LongestRun_mi  \\\n",
       "34        6696      0          0          0     0  ...            6.0   \n",
       "115       1009      0          0          0     0  ...            1.0   \n",
       "\n",
       "     SkiableTerrain_ac  Snow Making_ac  daysOpenLastYear  yearsOpen  \\\n",
       "34                50.0            25.0             100.0      104.0   \n",
       "115               80.0            80.0               NaN     2019.0   \n",
       "\n",
       "     averageSnowfall  AdultWeekday  AdultWeekend  projectedDaysOpen  \\\n",
       "34             150.0          25.0          25.0              100.0   \n",
       "115              NaN          49.0          57.0                NaN   \n",
       "\n",
       "     NightSkiing_ac  \n",
       "34             10.0  \n",
       "115             NaN  \n",
       "\n",
       "[2 rows x 26 columns]"
      ]
     },
     "execution_count": 42,
     "metadata": {},
     "output_type": "execute_result"
    }
   ],
   "source": [
    "#Code task 25#\n",
    "#Filter the 'yearsOpen' column for values greater than 100\n",
    "ski_data.loc[ski_data.yearsOpen > 100]"
   ]
  },
  {
   "cell_type": "markdown",
   "metadata": {},
   "source": [
    "Okay, one seems to have been open for 104 years. But beyond that, one is down as having been open for 2019 years. This is wrong! What shall you do about this?"
   ]
  },
  {
   "cell_type": "markdown",
   "metadata": {},
   "source": [
    "What does the distribution of yearsOpen look like if you exclude just the obviously wrong one?"
   ]
  },
  {
   "cell_type": "code",
   "execution_count": 43,
   "metadata": {},
   "outputs": [
    {
     "data": {
      "image/png": "iVBORw0KGgoAAAANSUhEUgAAA20AAANeCAYAAACBHObJAAAAOXRFWHRTb2Z0d2FyZQBNYXRwbG90bGliIHZlcnNpb24zLjQuMywgaHR0cHM6Ly9tYXRwbG90bGliLm9yZy/MnkTPAAAACXBIWXMAAAsTAAALEwEAmpwYAADKI0lEQVR4nOzde7xcVX338c/XcL+DkSMkkaAiClJRI2q19iiiCDyGtoJYRKIo2kqVNq0E7FPRSpv6FEXxioJE5SqKpOAFRI6UqqAgGCBSQAIkBMIdgogGf88fax2yz5yZc+acue09832/XvM6M/s2vz1nzZp122srIjAzMzMzM7NyelqvAzAzMzMzM7PGXGkzMzMzMzMrMVfazMzMzMzMSsyVNjMzMzMzsxJzpc3MzMzMzKzEXGkzMzMzMzMrMVfazGwcSV+U9H9bPMawpJXT2O90SR9v5b3NzMysNZJ2lfRLSY9K+kCX3vM4SV/pxntVjSttJSPpUEkXd+C4KyS9vt3HteqTtEDSFcVlEfG+iPjXXsVkVoU8yw0M1i5VSO82kD4EjETElhHxmekcQNKIpHfXLJsv6VpJj0i6T9KlkuYCRMS/RcS76x5swLnSVjIRcUZEvGH0taSQ9NxexmT9S9IGvY5hKqoWr5lZq5zvWQ/tBNzQzgPmMu3XgIXA1sDOwOeBP7bzffqRK21mFSRpkaTzapZ9WtJnJG0t6VRJqyWtkvRxSTPyNgsk/Y+kT0l6ADgH+CLwSklrJT2UtxvTg1DTKnarpH3z8ndKWp6HTvxG0nuncS4vlnRNPsY5wCaFdcOSVko6RtLdwFclbSzpJEl35cdJkjau2f643Hq3QtKhU43JzKxbJH0deBbwXzkf/lBusD1C0h3Aj/J235R0t6SHJV0uaffCMU6X9HlJ38vH+B9Jz8z544OSfi3pxYXtj8m/D49KuknS3l0/cSs1ST8CXgt8NqepD+ahko9IulPS8YVtN5H0DUn3S3pI0s8lDUk6AfizwjE+C+wJ3BYRl0byaER8KyLuyMc6XtI38vO35rLFVvn1m/J34Bn59btyGeRBST+QtFNerlzOWZO/L7+S9MLufXqdMfCVtnoZV50C65hrc3JB8J9yIngsF5CHcmb5qKQfSto2bzs3Z77vzIn8QUnvk/SyvP9DORGPHvupoWqSLs+Lr8uJ/a2TnMsBSgXrhyT9RNKfNNjuaUqF/lvzF+xcSdvldd+XdFTN9tdJ+sspfrTWWWcB+xUyshnAwcCZwBJgHfBc4MXAG4DiUIOXA78BtgfeDrwP+GlEbBER29S+kaS9SK1i/wRsA7wGWJFXrwEOALYC3gl8StJLmj0JSRsB3wG+DmwHfBP4q5rNnpnX7QQcCXwYeAUp438RsBfwzzXbzwRmAYcDp0jatdmYrFReJunGnG9+NRcMtpV0oaR78/ILJc0e3SHnob/JefFtKlTaG/3AT0TS8yVdIumB/Btx8ATb1s2DNUEjy/Q+FusnEXEYcAfwfyJiC+DcvOrPgRcAb8yvvwfsQsq7rwHOqDnUwaS8cCbwBPDTvN1M4Dzgk5CuUwKOAl4WEVvm46/owKlZhUXE64D/Bo7K6fI64B2kcsD+wN9IOjBvfjip12wO8HRSueLxiPhw8RgRcRQpTT4/V6peK2mLCWI4h5SOPyPp6cCpwLsj4t783scBfwk8I7/PWXnXN5DKKs/L8b4VuL/Vz6TXBrrS1mLG9VfAPqQE8X9ImelxpMzxaUDtBZsvJ2W2bwVOIhU8Xw/sDhws6c9r3yAiXpOfvign9nMmOJeXAKcB7yV9Yb4ELFXugajxAeBA0g/CjsCDwOfyujOBtxWOuxupsHxRo/e27ouI20kZ34F50euA3wK3AW8Cjo6IxyJiDfAp4JDC7ndFxMkRsS4iHm/i7Y4ATouISyLijxGxKiJ+neO4KCJuza1lPwYuJrWqNesVwIbASRHxh4g4D/h5zTZ/BD4SEU/keA8FPhYRayLiXuCjwGE1+/zfvP2PSWm3YUHbSu1QUr78HFJe+8+k/PWrpHzpWcDjwGcBJG0OfAZ4U87T/xS4Nq87kMY/8HXl411Cyhe3J+WNn1ehh6Ow7UR58ESNLGaNHJ/z8ccBIuK03CvxBHA88CJJWxe2Pz8iro6I3wHnA7+LiK9FxJOkURWjPW1PAhsDu0naMCJWRMStXTsrq6SIGImIZbkc8CtSvjZadv0DKd97bkQ8mdPhIw2O8xtgmNSwei5wX+4saVR5ez+pjDMC/FdEXJiXvxf494hYHhHrgH8D9syNcX8AtgSeDyhvs7qlD6AEBrrSRmsZ18kRcU9ErCL9+F8ZEb/Mmen5rM8cR/1rRPwuIi4GHgPOyoXO0f1rt5+q9wBfiogr8xdmCaml7RV1tn0v8OGIWFnI/N+iNG7+fNYnekiFpm/n7axcihXsv86vdyJVglbn1v6HSIXH7Qv73TnF95kD1P1eKA1V+FnuhXgI2I/UcNGsHYFVERGFZbfXbHNvLoQU97m9ZvsdC68fjIjHJlhv1fHZiLgzIh4ATgDeFhH356E0v42IR/PyYqPXH4EXSto0IlZHxOj1GBP9wDdyALAiIr6aGzmuAb4FvKXOtg3z4EaNLBHxs2l8JjY4nsqrJc2QtDiPkHmE9Q3Mxfz2nsLzx+u83gIgIm4Bjib99q+RdLYk55E2IUkvl3RZHuXwMKk3bTT9fR34AXC20mULn5C0YaNjRcTPIuLgiHgGqaH3NaTOjHrbPkQahfNC4MTCqp2ATxfKOg8AAmZFxI9IjXmfA+6RdMpoo1mVDXSlrcWMq6nMsYXtp2onYOFo4s0JeA71C6s7AecXtltOqsAO5ULQRazvmTmE8UMwrBy+CQznoWF/Qaq03UkqKM6MiG3yY6uIKPYMRM1xal/XupPU0zFG7kH4FvCfpLSzDfBdUqbZrNXALEnFfZ41SXx3kdJwcfu7Cq+3zT0kjdZbdRQbGG4HdpS0maQvSbo9F14vB7aRNCNX1t9KKkyslnSRpOfn/Rv+wE/w/jsBL6/JVw8lDcGtt+1EeXC9RhazUfXy4eKyvwbmk0bobA3Mzcunkt+uP3DEmRHxalK6DeA/pnMcGyhnAkuBORGxNel6eAHkkTIfjYjdSCMcDiANpYRJyhgR8XPg26RK2TiS9gTeRerZKw4pvxN4b6Gss01EbBoRP8nH/UxEvJQ0ou15pEs8Km2gK23QMON6DNissFm9H+iyuRM4oSbxbhYR9Yb/3EkaPlTcdpPc6wfpi/E2Sa8ENgUu69I52BTkoYEjpKFitxW6/y8GTpS0ldL1i8+pN/y24B5gttL1ZfWcCrxT6XrPp0malQvCG5F6qu8F1kl6E2kc+VT8lHT93QckbaB07eRek+xzFvDPkp4haSbwL8A3arb5qKSNJP0Z6cfjm1OMy8phTuH5aOV7IbAr8PKI2IrUQgvrCw8/iIh9gB2AXwNfzusn/IFv4E7gxzX7bBERf9Ng24ny4HqNLGaj7gGePcH6LUkNcveTyif/Nt03Urr31utyw9vvSA3HT073eDYwtgQeiIjfKV3r/tejK/K1aXvkod+PkIYnjqapMWlb0qslvUfS9vn184E3A+NGHkjahPT7fhzpuvlZkv42r/4icOzocHWlSdgOys9flnsGNySV6X9HH6Txga60TZBxXUu6/mA7Sc8k9cb1ymQZ+agvA+/LiVSSNpe0v6Qt62z7ReAErZ9l5xmS5hfWf5dUif0YcE5EeBrW8jqT1PJaLAC+g1ShupF0veJ5pAJsIz8iTel7t6T7aldGxFXkSUaAh4EfAzvlXtkPkMakP0jKwJdOJfiI+D3pGqMF+RhvJbW4TeTjwC+AXwHLSMPOivfKujsf6y5SL/H7Il+DZ5XzfkmzlSZKOo50Xc6WpLz6obz8I6MbK00I9ebc0/oEsJb1P9QNf+AncCHwPEmHSdowP14m6QV1tp0wD67XyDKtT8T61b+TGqMeov7w26+ReptXkfL2VobWbgwsBu4j5Zfbk75fZhP5W+Bjkh4lNZaeW1j3TFJZ4xHS6K0fs74x9dOkS3AeVJp86SFSJW2ZpLXA90mX5nyiznv+O7AyIr6QL9N5O/BxSbtExPmkjpaz86iL60nX9EOaHO3LpLLA7aTGjv9s/SPosYgY2AfwJ8BVwKOkoTIXkoaybEIqHDxCKhj+PSnRjO63Anh94fU3SBcMj75+N/DD/HwuqQdvg8L6lcBwzf7/nJ8vAK4orHsfaQjZQ8DBk5zPvqRJHB7K+3wT2LI2ZlJl/R+Am/K53wr8W82xTs1xv6zX/yc//Gj2Qbq4eWWv4/CjLf/LFcCxpALqQ6RZUTfLefQIqUL2v6Rr1QLYgNQ48WNS48JDebvdCsc8jFTRf4TUM3ZaE3HsShoyfi/ph/9HwJ553enAxwvbNsyDC+8fwD/1+vP1ww8//PCjWg9FTHY5i5lZNUgaBr4REbMn2dTMzMysMjbodQBm1t8kPYvUW1LPbpFvqGlmZmZm9bmnrUIkHUf9cef/HRFvqrPczMwmkCer+V69dZFuKGtmZtZzrrSZmZmZmZmVWCmGR86cOTPmzp371OvHHnuMzTffvPEOJVXVuKG8sV999dX3Rbr5Ymn1S/qdin4/x3adX9nTb23aHdXv/1/wOU6mlbSbp+m+nDRL4QbAeRHxkTzb5zmkCbpWkCbXejDvcyxwBGm2zw9ExA8me59BTr+1BvGcofF5lz39VjntOsb2mFba7fVMKBHBS1/60ii67LLLooqqGndEeWMHfhElSKMTPfol/U5Fv59ju86v7Om3Nu22+/zLzOc4sVbSLumeeVvk5xsCVwKvIE3pvSgvXwT8R36+G3AdqZC8M2lG4xmTvc8gp99ag3jOEY3Pu+zpt8pp1zG2x3TS7kDfp83MzMzaK5c91uaXG+ZHAPNJt24g/z0wP58PnB0RT0TEbcAtwF7di9hsPadfK6tSDI80M7PmSVpBusfik8C6iJg30dAds26TNAO4Gngu8LmIuFLSUESsBoiI1ZK2z5vPYuzNolfmZfWOeyRwJMDQ0BAjIyPjtlm7dm3d5f1sEM8ZOnfenUi//ZJ2HWN7TCdGV9rMzKrptRFxX+H1IuDSiFgsaVF+fUxvQrNBFxFPAntK2gY4X9ILJ9hc9Q7R4LinAKcAzJs3L4aHh8dtMzIyQr3l/WwQzxk6d96dSL/9knYdY3tMJ0YPjzQz6w+Nhu6Y9UxEPASMAPsC90jaASD/XZM3WwnMKew2G7ire1Ga1ef0a2XiSpuZWfUEcLGkq/OQG4AxQ3eA7RvubdZBkp6ReyiQtCnweuDXwFLg8LzZ4cAF+flS4BBJG0vaGdgFuKqrQZtlTr9WVi0Pj8zjfn8BrIqIAzp9XcXcRReNeb1i8f7tOrRZRzntWhu9KiLuytdUXCLp183u2K7rKpatenjM6z1mbd1sCKVQhWseWtXDc9wBWJLLB08Dzo2ICyX9FDhX0hHAHcBBABFxg6RzgRuBdcD78/C0aVm26mEWFPJb57U2RT1Lv7VpF5x+bb12XNP2QWA5sFV+7esqrBI8mYNVVUTclf+ukXQ+aaayeyTtkC+QLw7dqd23LddVjCtYHDrx9mVThWseWtWrc4yIXwEvrrP8fmDvBvucAJzQ4dDMJuX0a2XV0vBISbOB/YGvFBb7ugqrktdGxJ4RMS+/Hm102AW4NL82Kw1Jm0vacvQ58AbgehoP3TEzM7OKa7Wn7STgQ8CWhWWNpkQdY6IhOhMN6Vi4x7oxr08+Y2y5pJdDdKo83KbKsbfZfGA4P19CugDZPcVWJkOk2cwg5eFnRsT3Jf2cOkN3zMzMrPqmXWmTdACwJiKuljQ81f0nGqIz0ZCO2iE5tXo5RKfKw22qHHsLRidzCOBLOU12rNGhtsGhypXkfq/kl/n8IuI3wIvqLG84dMfMzMyqrZWetlcBb5a0H7AJsJWkb9DkdRVmJTDtyRym0+hQ9WuAivq9kt/v52dmZmbVMu1r2iLi2IiYHRFzgUOAH0XE2/F1FVYRxckcgDGTOcC4+7CYmZmZmfVEO2aPrLUYX1dhJZcncHhaRDxamMzhY6xvdFiMGx3MnlJ7ywozMzPrnrZU2iJihDRhg6+rsKrwZA5mZmZmVgmd6GkzKz1P5mBmZmZmVeFKm5mZtax2+OSKxfv3KBIzM7P+09LNtc3MzMzMzKyz+q6nza29ZmZmZmbWT9zTZmZmZmZmVmKutJmZmZmZmZWYK21mZmZmZmYl5kqbmZmZmZlZibnSZmZmZmZmVmKutJmZmZmZmZWYK21mZmZmZmYl5kqbmZmZmZlZibnSZmZmZmZmVmKutJmZVZCkGZJ+KenC/Ho7SZdIujn/3bbXMZqZmVl7uNJmZlZNHwSWF14vAi6NiF2AS/NrMzMz6wOutJmZVYyk2cD+wFcKi+cDS/LzJcCBXQ7LzMzMOmSDXgdg1kuSZgC/AFZFxAGStgPOAeYCK4CDI+LB3kVoVtdJwIeALQvLhiJiNUBErJa0fb0dJR0JHAkwNDTEyMjIuG3Wrl07bvnCPdZNKcB6xy2TeufYbwbhHM3MBoUrbTboRoeYbZVfjw4xWyxpUX59TK+CM6sl6QBgTURcLWl4qvtHxCnAKQDz5s2L4eHxhxgZGaF2+YJFF03pfVYcOuXQuqreOfabQThHM7NB4eGRNrA8xMwq6lXAmyWtAM4GXifpG8A9knYAyH/X9C5EMzMzaydX2myQnUQaYvbHwrIxQ8yAukPMzHolIo6NiNkRMRc4BPhRRLwdWAocnjc7HLigRyGamZlZm3l4pA2kVoeYTXRdUKPrSGqvCarytSb9fq1MRc9vMXCupCOAO4CDehyPmZmZtcm0K22SNgEuBzbOxzkvIj7iiRysIkaHmO0HbAJsVRxilidyaDjEbKLrghpdR1J7TVDZr/mZSL9fK1OV84uIEWAkP78f2LuX8ZiZmVlntDI88gngdRHxImBPYF9Jr8D3CrIK8BAzMzMzM6uKaVfaIlmbX26YH4EncrBqWwzsI+lmYJ/82szMzMysZ1q6pi3f4+pq4LnA5yLiSkkt3ytooutJynyvoIpeBwNUO/ZWeYiZmZmZmZVZS5W2iHgS2FPSNsD5kl44hX2nfE0QlPteQVW5DqaeKsduZmZmZtbP2jLlf0Q8ROqp2BffK8jMzMzMzKxtpl1pk/SM3MOGpE2B1wO/xhM5mJmZDSxJcyRdJmm5pBskfTAv307SJZJuzn+3LexzrKRbJN0k6Y29i94GndOvlVUrPW07AJdJ+hXwc+CSiLgQT+RgZmY2yNYBCyPiBcArgPdL2o0Gs0vndYcAu5NG7Hw+XzNv1gtOv1ZK076mLSJ+Bby4znJP5GA2DXNr7+O2eP8eRWJmNn15MrLRCckelbQcmEWaXXo4b7aEdFnFMXn52RHxBHCbpFuAvYCfdjdyM6dfK6+WJiIxMzMza0TSXFID75VAo9mlZwE/K+y2Mi+rd7yGM0+PGtp07EzTgzAz8qDOAN3p825n+p1O2oXypd8qpLV+jdGVNjMzM2s7SVsA3wKOjohHJDXctM6yqLfhRDNPjzr5jAs4cdn64k03Z5HulUGdAbqT593u9DudtAvlS79VSGv9GmNbZo80MzMzGyVpQ1KB94yI+HZe3Gh26ZXAnMLus4G7uhWrWS2nXysjV9rMzMysbZS6JE4FlkfEJwurGs0uvRQ4RNLGknYGdgGu6la8ZkVOv1ZWHh5pZmZm7fQq4DBgmaRr87LjSLNJnyvpCOAO4CCAiLhB0rnAjaSZ+94fEU92PWqzxOnXSsmVNjMzM2ubiLiC+tf5QIPZpSPiBOCEjgVl1iSnXysrD480MzMzMzMrMVfazMzMzMzMSsyVNjOzCpG0iaSrJF0n6QZJH83Lt5N0iaSb899tex2rmZmZtYcrbWZm1fIE8LqIeBGwJ7CvpFcAi4BLI2IX4NL82szMzPqAK202kNxbYVUVydr8csP8CGA+sCQvXwIc2P3ozMzMrBM8e6QNqtHeirX5JppXSPoe8Jek3orFkhaReiuO6WWgZrUkzQCuBp4LfC4irpQ0FBGrASJitaTtG+x7JHAkwNDQECMjI+O2Wbt27bjlC/dYN6UY6x23TOqdY78ZhHM0MxsUrrTZQIqIABr1Vgzn5UuAEVxps5LJ9wDaU9I2wPmSXjiFfU8BTgGYN29eDA8Pj9tmZGSE2uULFl00pRhXHDr+uGVS7xz7zSCco5nZoPDwSBtYkmbkG2euAS6JiCuBMb0VQN3eCrMyiIiHSA0L+wL3SNoBIP9d07vIzMzMrJ3c02YDq5XeiomGmDUaklQ7vGyy4WdlHtbU78Ouynx+kp4B/CEiHpK0KfB64D+ApcDhwOL894LeRWlmZmbt5EqbDbxc+B2h0FuRrwlq2Fsx0RCzRkOSaoeX1Q4fm2x9mfT7sKuSn98OwJJ8XdvTgHMj4kJJPwXOlXQEcAdwUC+DNDMzs/Zxpc0GknsrrKoi4lfAi+ssvx/Yu/sRmZmZWae50maDyr0VZmZmZlYJrrTZQHJvhZmZmZlVhWePNDMzMzMzKzFX2szMzMzMzErMwyPNemTuJDcrrl2/YvH+nQzHzMzMzEpq2j1tkuZIukzSckk3SPpgXr6dpEsk3Zz/btu+cM3MzMzMzAZLKz1t64CFEXGNpC2BqyVdAiwALo2IxZIWAYuAY1oP1cxquTfOzMzMrP9Nu6ctIlZHxDX5+aPAcmAWMB9YkjdbAhzYYoxmZmZmZmYDqy3XtEmaS5o+/UpgKCJWQ6rYSdq+wT5HAkcCDA0NMTIy8tS6tWvXjnldtHCPdVOKrdFxOmGiuMuuyrGbmZmZmfWzlittkrYAvgUcHRGPSGpqv4g4BTgFYN68eTE8PPzUupGREYqvixZMMnlDrRWH1j9OJ0wUd9lVOXYzMzMzs37W0pT/kjYkVdjOiIhv58X3SNohr98BWNNaiGZmZmZmZoOrldkjBZwKLI+ITxZWLQUOz88PBy6YfnhmZmZmZmaDrZXhka8CDgOWSbo2LzsOWAycK+kI4A7goJYiNDMzMzMzG2DTrrRFxBVAowvY9p7ucc3MzMzMzGy9tswe2Sm196AyMzMzMzMbNC1NRGJmZmZmZmad5UqbmVmFSJoj6TJJyyXdIOmDefl2ki6RdHP+u22vYzUzM7P2cKXNzKxa1gELI+IFwCuA90vaDVgEXBoRuwCX5tdmZmbWB1xps4Hk3gqrqohYHRHX5OePAsuBWcB8YEnebAlwYE8CNDMzs7Yr9UQkZh002ltxjaQtgaslXQIsIPVWLJa0iNRbcUwP4zRrSNJc4MXAlcBQRKyGVLGTtH2DfY4EjgQYGhpiZGRk3DZr164dt3zhHuumFFu945ZJvXPsN4NwjmZmg6LvK221M1CuWLx/jyKxMsmF29EC7qOSir0Vw3mzJcAIrrRZCUnaAvgWcHREPCI1ugPLWBFxCnAKwLx582J4eHjcNiMjI9QuXzDF2XxXHDr+uGVS7xz7zSCco5nZoOj7SpvZZNrdW9GodXuqPRW1mjlmt1rV+70Fv+znJ2lDUoXtjIj4dl58j6QdcrrdAVgz3eMvW/XwlCtpZmZm1jmutNlA60RvRaPW7VYLwfV6LmqP2a3ejX5vwS/z+Skl0lOB5RHxycKqpcDhwOL894IehGdmZmYdMPCVNg+fHFyd7q3oBafngfAq4DBgmaRr87LjSJW1cyUdAdwBHNSb8MxA0mnAAcCaiHhhXrYdcA4wF1gBHBwRD+Z1xwJHAE8CH4iIH/QgbDOnXSstzx5pA6mJ3gpwb4WVUERcERGKiD+JiD3z47sRcX9E7B0Ru+S/D/Q6VhtopwP71iyre1uKfMuKQ4Dd8z6flzSje6GajXE6TrtWQq602aAa7a14naRr82M/Um/FPpJuBvbJr83MbAoi4nKgtuGg0W0p5gNnR8QTEXEbcAuwVzfiNKvltGtlNfDDIyfj4Wb9KSKuABpdwLZ3N2MxMxsQjSZ6mgX8rLDdyrxsnGZuWTG06dhJmso8qVC7lH3ypE7p4nn3JO1C+dJvFdJav8boSpuZmZn1Ur0GtKi3YTO3rDj5jAs4cdn64k3Zbz/RDmWePKmTSnDeHU27UL70W4LPfFL9GqOHR5qZmVk33JMneKJmoqeVwJzCdrOBu7ocm9lEnHat51xpMzMzs25oNNHTUuAQSRtL2hnYBbiqB/GZNeK0az3n4ZFmA8TXaJpZN0g6CxgGZkpaCXyEBreliIgbJJ0L3AisA94fEU/2JHAbeE67VlautJmZmVlbRcTbGqyqO9FTRJwAnNC5iMya47RrZeVKWwW5t8TMzMzMbHD4mjYzMzMzM7MSc6XNzMzMzMysxFoaHinpNOAAYE1EvDAv2w44B5gLrAAOjogHWwvTzLrBQ2/NzMzMyqfVa9pOBz4LfK2wbBFwaUQslrQovz6mxfcxM7MKGYQGgEE4RzMzK4eWhkdGxOXAAzWL5wNL8vMlwIGtvIeZmZmZmdkg68TskUMRsRogIlZL2r7eRpKOBI4EGBoaYmRk5Kl1a9euZWRkhIV7rGt7cMX3Aca9x8lnXFCzfuL9i0bj7rTJYt5j1tZTPma3Yrdyqe0pMDMzM7Py6dmU/xFxCnAKwLx582J4ePipdSMjIwwPD7OgAwXKFYcOj3k91feo3b9oNO5OmyzmiWJspFuxm5lV1WSNHB4uaWZmndKJ2SPvkbQDQP67pgPvYWY9MHfRRcxddBHLVj3sXjozMzOzLulET9tS4HBgcf57wcSbW60yFIbdYmxWXlWcudd5ipmZ2fS11NMm6Szgp8CuklZKOoJUWdtH0s3APvm1WalIOk3SGknXF5ZtJ+kSSTfnv9v2MsYqGO15G31Y15wO7FuzbHTm3l2AS/NrMzMz6wOtzh75tojYISI2jIjZEXFqRNwfEXtHxC75b+3skmZlcDou9FpFeeZeMzOzwdKziUhsvU73UHhY0ngRcbmkuTWL5wPD+fkSYATfY9Cqo+WZe5860KbjZ6ltt27MVrts1cNjXhdn1p3OjLlT/UwmO35tfDC92X8b8azAZmb9w5U2s/WaKvRCc7esqNVqIbj21g7pmBPvM9ktLibTaP9Ghfp+KSD2c2F3opl7R518xgWcuKyzPw/TmeV2qmpn2i2+53RmzG3nbMONjtfOz8WzApuZ9Q9X2symoZlbVtTqxC0sJtPuW1yM7r9wj3V1C/XdKIh3Q0ULu/dI2iE3OHjmXjMzsz7iSpvZei70tshDcXvKM/eamZn1KVfaBtB0CtYDUhh3odcqIc/cOwzMlLQS+Agp3Z6bZ/G9AziodxGamZlZO7nSZgPJhV6rsoh4W4NVe3c1kD7n21iYmVlZuNJmA8mFXjMzMzOrioGrtPWi5bTbQwuneo5zF13Ewj3W9WSiDDOzsihjz9pkMfXpUHUzM6sxcJU2s24pYwGwDKbaiDEg11OamZmZNfS0XgdgZmZmZmZmjbmnrc0GpXfFQ3asGYPyfbCpc4+rmZlZ89zTZmZmZmZmVmLuaTMzMyuJ6UwkVeQeSDOz/uRK2xT5B7I5/pysW5zWzMzMrN95eKSZmZmZmVmJuafNzBrqxkQi7imzelodJlgGVYjJ37f28OdqZp3mSluLihn1wj3W0cxHWsYf8m7zD5yZmZlZZ7m81T9caTMzs8qZTuNXbSPbcBvjKSs3EpqZ9QdX2sz6WD8W2CY7p260Krrl0szMzLrJlTbrin6sPJiZmZmZdYMrbWbW19wrVg29aNhxY5KZ2dQsW/UwCwp5p39Tu8dT/puZmZmZmZVYxyptkvaVdJOkWyQt6tT7mLWb065VmdPvYJu76KKnHstWPdzrcKbEaXf6lq16eMz/3rrP6dc6rSPDIyXNAD4H7AOsBH4uaWlE3NiJ9zNrF6fd3itjgaOMMdXj9GtV5bRbPR56vp7Tr3VDp65p2wu4JSJ+AyDpbGA+4MRrZee0a1Xm9GtV5bRrk6qtKJ6+7+Y9imQcp98WtLsBoBPX3bUaYzvSriJiyjtNelDpLcC+EfHu/Pow4OURcVRhmyOBI/PLXYGbCoeYCdzX9sA6r6pxQ3lj3ykintGtN2sm7ebl/Zh+p6Lfz7Fd51e69DtJ2h3V7/9f8DlOpnRpNy93+q1vEM8ZGp936dJvH6Vdx9geU067neppU51lY2qHEXEKcErdnaVfRMS8TgTWSVWNG6ode5tNmnahP9PvVPT7OVb4/FrKe586SHXPv2k+x9JpOe996kDVOu+2GMRzhlKd98DkvY6xPaYTY6cmIlkJzCm8ng3c1aH3Mmsnp12rMqdfqyqnXasyp1/ruE5V2n4O7CJpZ0kbAYcASzv0Xmbt5LRrVeb0a1XltGtV5vRrHdeR4ZERsU7SUcAPgBnAaRFxwxQOMWH3cYlVNW6oduxt04a0C4PxWfb7OVby/NqUfqGi5z9FPscSaWPahQqddxsN4jlDSc57wPJex9geU46xIxORmJmZmZmZWXt07ObaZmZmZmZm1jpX2szMzMzMzEqsVJU2SftKuknSLZIW9ToeAEkrJC2TdK2kX+Rl20m6RNLN+e+2he2PzfHfJOmNheUvzce5RdJnJNWbHrbVWE+TtEbS9YVlbYtV0saSzsnLr5Q0t93nUHVlTMPNkDRH0mWSlku6QdIH8/JSpvXpkDRD0i8lXZhf9825tUtV0++oKuXXzXK+3ryqp9/paJR3D4LaPL3qyp5+q5TWyp42JG0j6TxJv86f5yub2jEiSvEgXbh5K/BsYCPgOmC3EsS1AphZs+wTwKL8fBHwH/n5bjnujYGd8/nMyOuuAl5JupfH94A3dSDW1wAvAa7vRKzA3wJfzM8PAc7p9f+nTI+ypuEmY98BeEl+viXwvzmNlDKtT/Mc/wE4E7gwv+6bc2vT51PZ9Fs4h8rk11M4J+frzX1OlU+/0zzvunl3r+Pq0rmPydOr/KhC+q1SWit72gCWAO/OzzcCtmlmvzL1tO0F3BIRv4mI3wNnA/N7HFMj80kfOPnvgYXlZ0fEExFxG3ALsJekHYCtIuKnkf5DXyvs0zYRcTnwQAdjLR7rPGDvfutpaFGV0vAYEbE6Iq7Jzx8FlgOzKGlanypJs4H9ga8UFvfFubVRZdPvJCr9f3a+3rR+Tb8TmiDv7msN8vQqK336rUpaK3vakLQVqTHuVICI+H1EPNTMvmWqtM0C7iy8Xkk5EkMAF0u6WtKRedlQRKyGlIiB7fPyRucwKz+vXd4N7Yz1qX0iYh3wMPD0jkVePWVNw1OSh0e9GLiSaqX1iZwEfAj4Y2FZv5xbu/RD+q16ft0s5+vj9UP6bUlN3t3vTmJ8nl5llUq/JU9rJ1HutPFs4F7gq3kI51ckbd7MjmWqtNVr2SvD/QheFREvAd4EvF/SaybYttE5lPHcphNrGc+jTCr/+UjaAvgWcHREPDLRpnWWlTKtSzoAWBMRVze7S51lpTy3NuuH8+vX/LpZg5yv98t5TMsU8u7Km0aeXgWVSb9lTmsVSRsbkIa8fyEiXgw8RhrmPqkyVdpWAnMKr2cDd/UolqdExF357xrgfFIX9j15uAn575q8eaNzWJmf1y7vhnbG+tQ+kjYAtmb8sJ1BVso03CxJG5Iy4jMi4tt5cZXSeiOvAt4saQVpyMnrJH2D/ji3dqp0+oW+yK+b5Xx9vMqn3+lqkHf3s0Z5epVVIv1WIK1VIW2sBFZGxGgv5XmkStykylRp+zmwi6SdJW1EuiB6aS8DkrS5pC1HnwNvAK7PcR2eNzscuCA/Xwockmfj2hnYBbgqD195VNIr8rUC7yjs02ntjLV4rLcAP8rXR1hSujTcrPy/PhVYHhGfLKyqUlqvKyKOjYjZETGX9D/5UUS8nT44tzarbPqFvsmvm+V8fbxKp9/pmiDv7lsT5OlVVvr0W4W0VoW0ERF3A3dK2jUv2hu4sdmdS/MA9iPNRnMr8OESxPNs0gw+1wE3jMZEGu9/KXBz/rtdYZ8P5/hvojDjGDCPVIC4FfgsoA7EexawGvgDqSZ/RDtjBTYBvkm6uP0q4Nm9/h+V7VG2NDyFuF9NGorxK+Da/NivrGm9hfMcZv3skX11bm36fCqZfnPslcqvp3Bezteb/6wqm35bOOe6eXev4+ri+T+Vp1f9Ufb0W7W0Vua0AewJ/CJ/lt8Btm1mv9FM28zMzMzMzEqoTMMjzczMzMzMrIYrbWZmZmZmZiXmSpuZmZmZmVmJudJmZmZmZmZWYq60mZmZmZmZlZgrbWZmZmZmZiXmSpuZmZmZmVmJudJmZj0laYWk1/c6DhsMkp4laa2kGU1sO1dSSNqgG7GZSTpd0sdbPMYCSVdMsH5E0rtbeQ+zVknaVdIvJT0q6QO9jqcKXGmbQL8kKEnDklb2Og4zs06brBEgIu6IiC0i4sluxmVmZmN8CBiJiC0j4jO9DqYKXGmbWMsJql6LlpJ/knSzpMcl3SHp3yRt1JaozcxsHPeYmZn1ViEf3gm4oZexVI0rbRPrVIL6DHAk8A5gS+BNwOuBszvwXmbTIunFkq7JPc3nSDpb0sfrDb3JQ8iem5/vn3uoH5F0p6Tja7Y9TNLtku6X9OEunpL1OUlfB54F/FceAvmhnDaPkHQH8KPaIY+5Ye3fJV0l6WFJF0jarsHxt5Z0qqTVklbl78OkwyzNGqnNZ4FNCuveI+kWSQ9IWippx7x83LDdOg3EknRyTtO/lrT3BDG8S9JySQ9K+oGknTpxrtYfJB2T879HJd0kae/aYb21I7zyCIhjJP0KeEzSj4DXAp/NefXzmig7vFrSTyQ9lNcvyMs3lvSfuQPkHklflLRpVz6MLnOlrYE6CeqDjRKTpE0kfSMXQh+S9HNJQ5JOAP6scIzPStoF+Fvg0Ij4aUSsi4gbgL8C9pf05/mYYzLg2oKypE/nOB6RdLWkPyus2zR/gR6UdCPwsppzG/eF68RnaNWl1Ov7HeDrwHbAN0lptBmPkRoktgH2B/5G0oH5uLsBXwAOA3YEng7Mbl/kNsgi4jDgDuD/RMQWwLl51Z8DLwDe2GDXdwDvIqXJdaSGtXqW5PXPBV4MvAHwtUE2LRPls5JeB/w7cDCwA3A7U2vYfTnwG2Am8BHg2/UaI3LefBzwl8AzgP8GzprO+Vj/k7QrcBTwsojYkpSnrmhy97eRygTbRMTrSGntqDxc/X+ZuOzwLOB7wMmkdLoncG0+7n8Az8vLngvMAv5l2idZYq60NVCboIDraJCYgMOBrYE5pELo+4DHI+LDjE2URwF7Aysj4qqa97sT+BmpENCMn5MS6HbAmcA3JY220H0EeE5+vDHHB7T8hbPB8QpgQ+CkiPhDRJxHSnOTioiRiFgWEX+MiF+RCgB/nle/BbgwIi6PiCeA/wv8sQPxmxUdHxGPRcTjDdZ/PSKuj4jHSGny4NoeNElDpFERR+djrQE+BRzS0citn02Uzx4KnBYR1+S88ljglZLmNnnsNYXjngPcRCq71Hov8O8RsTwi1gH/Buzp3jZr4ElgY2A3SRtGxIqIuLXJfT8TEXc2yocnKTscCvwwIs7Kafr+iLhWkoD3AH8fEQ9ExKOkNNyX+bIrbU2aJDH9gVRZe25EPBkRV0fEIw0ONRNY3WDdalILQjPxfCMn2nURcSLpS7RrXn0wcEJOwHcyttW4lS+cDY4dgVUREYVltzezo6SXS7pM0r2SHiY1YswsHPfO0W1zIfn+NsVs1sidU1h/O6kgPbNmm53y8tV5RMVDwJeA7dsVpA2cifLZHQvPiYi1pLxyVpPHrnfcHetstxPw6UKafgDQFN7HBkhE3AIcDRwPrFG6bKJeuqpnwnx4krLDHKBeWfUZwGbA1YU0/H2aLEtXjSttTZokMX0d+AFwtqS7JH1C0oYNDnUfaahDPTsA9zYZz8I8Bv3hnEi3pkHBmLEZfytfOBscq4FZuRVr1LPy38dImSQAkp5Zs++ZwFJgTkRsDXyRVAgYPe6cwr6bkRo8zNolmlxWNKfw/Fmkhrj7ara5E3gCmBkR2+THVhGx+/RDtQE3UT57F6lCBYCkzUl55SpSHgyFfBiozYfrHfeuOjHcCby3kKa3iYhNI+InUz8dGwQRcWZEvJqUPoM0PHFMuYDx6REmz4cnKjvcSRo9Vus+4HFg90L63TqPkOs7rrQ1r2Fiyl21H42I3YA/BQ4gDaWE8Yn0R8AcSXsVF0qaQxoq8eO8qOEXIF+/dgypR23biNgGeJgGBWPW/wiQ4633hTMr+inp2p0PSNpA0l8Co2n2OmB3SXvmIbnH1+y7JfBARPwup/O/Lqw7DzggX1C8EfAxnA9Ze90DPHuK+7xd0m65EeFjwHm1twSIiNXAxcCJkraS9DRJzxm9DtlsGibKZ88E3pnz2Y1JQ76uzKNj7iVV3t4uaYakdzG+QLt9Pu6Gkg4iXdP53ToxfBE4VtLu8NRkOwe1+0StPyjdCut1OU3+jlRhepJ0fdl+krbLDblHT+PwE5UdzgBeL+ng/F15uqQ9I+KPwJeBT0naPsc4S1Kj65crzYWl5jVMTJJeK2mPfA3EI6RW2tEf/DEFiHyx5ReBMyS9Ime4uwPfAn4C/DBvei3wl5I2U5qV74iaWNaReuU2kPQvwFaF9eeSMuFtJc0G/q4Qa6MvnNlTIuL3pAvTFwAPAm8Fvp3X/S+pYPtD4Gag9iaufwt8TNKjpIuBRyeDIE+6835SgWR1PrbvIWjt9O/AP+cRCG9pcp+vA6cDd5Nm72t0X853ABsBN5LS7nk0HjlhNqFJ8tlLSddXfouUVz6HsdfpvAf4J9KQyd1J5YeiK4FdSD0RJwBviYhxQ9Ej4nxSw+3Zkh4Briddu2lWz8bAYlK6upvUOHAcKQ+9jjRHwsXAOdM49kRlhzuA/YCFpCG81wIvyquPAW4BfpbT8A9Zf7lQX9HYIc9WJGkE+EZEfEXSW4ATSRN//JiUMLeJiLdLehupt2E2sJaUWP8hItZJeiVpxrFnkC52/4Ckp5Ey2/eQesQ2Iv34vzsiHs7vPZNUsH0l8CvgEuD1EfHqXDk8BTiI1CP3KVJif3dE/DC3Fn8ReDNpOMRXgQ9GxGxJfwJ8hdTq9gdSRn9kRNQbNmH2FEmnkybR+edex2LWLsV8vtexmJmZNeJKWwlI+hhwIPCaiHiot9GY1edKm/UjV9rMzKwKNph8E+u0iPgXSWtI17R9v9fxmJmZmZlZebinzczMzMzMrMQ8EYmZmZmZmVmJlWJ45MyZM2Pu3Lnjlj/22GNsvvnm3Q9oChxjezSK8eqrr74vIkp9k8Sqpd+yxgXljW26cZU9/VYt7UJ5YytrXDC92MqedqGa6bcex9t+ZU+/VU67jrE9plXujYieP1760pdGPZdddlnd5WXiGNujUYzAL6IEaXSiR9XSb1njiihvbNONq+zpt2ppN6K8sZU1rojpxVb2tBsVTb/1ON72ayX9AqcBa4DrC8u2I83ifXP+u21h3bGkKedvAt7YzHtUOe06xvaYTrnXwyPNzMzMzJLTgX1rli0CLo2IXYBL82sk7Ua6f97ueZ/P59symbWdK21mZmZmZkBEXE66gXPRfNI9d8l/DywsPzsinoiI20g9bnt1I04bPKW4ps3MzMzMrKSGImI1QESslrR9Xj4L+Flhu5V52TiSjgSOBBgaGmJkZGTcNmvXrq27vEwcY3tMJ0ZX2szMzMzMpk51ltW9l1ZEnAKcAjBv3rwYHh4et83IyAj1lpeJY2yP6cTo4ZFmZmZmZo3dI2kHgPx3TV6+EphT2G42cFeXY7MBUeqetmWrHmbBoovGLFuxeP8eRWM2NbXp12nXqsJ5r/WzuU7bNnVLgcOBxfnvBYXlZ0r6JLAjsAtwVU8izJy++5d72szMSkjSaZLWSLq+sGw7SZdIujn/3baw7lhJt0i6SdIbexO1mVm1SToL+Cmwq6SVko4gVdb2kXQzsE9+TUTcAJwL3Ah8H3h/RDzZm8it35W6p83MbICdDnwW+Fph2ei004slLcqvj6mZdnpH4IeSnufCg5nZ1ETE2xqs2rvB9icAJ3QuIrPEPW1mZiXkaafNzMxslHvazMyqoyvTTg9tCgv3WDdmWVmmTy7rVM5ljQvKHZuZmTXHlTYzs+pr67TTJ59xAScuG/vzsOLQ8dv1Qlmnci5rXFDu2MzMrDmutJmZVcc9knbIvWylmnbaM5aZmZl1jq9pMzOrjtFpp2H8tNOHSNpY0s6UYNppMzMza59JK22S5ki6TNJySTdI+mBe7qmnzcw6xNNOm5mZ2ahmhkeuAxZGxDWStgSulnQJsABPPW1m1hGedtr6laS/B95Nuu5yGfBOYDPgHGAusAI4OCIe7FGIZmalM2lPW0Ssjohr8vNHgeWkWck89bSZmZk1TdIs4APAvIh4ITCD1NA7eg/CXYBL82szM8umNBGJpLnAi4EraXHq6apPOz2qClMpD3KMkk4DDgDW5AICko4H3gPcmzc7LiK+m9cdCxwBPAl8ICJ+0PagzMwG2wbAppL+QOphuws4FhjO65cAI8Ax0zn4slUPs6AwMY4nxTGzftB0pU3SFsC3gKMj4hGp3gzTadM6y8ZNPV31aadHVWEq5QGP8XTgs8DXapZ/KiL+s7jAQ3vNzDorIlZJ+k/gDuBx4OKIuFhSo4bgMabT4Fu7Tdkag6vQsFpUtXjN+kVTlTZJG5IqbGdExLfz4tJOPW02KiIuzz3EzXhqaC9wm6TRob0/7VR8ZmaDJE9aNh/YGXgI+Kaktze7/3QafGsbexfU3p6ix43BVWhYLapavGb9YtJKm1KX2qnA8oj4ZGHV6NTTixk/9fSZkj5J6q3w1NNWRkdJegfwC9JEOw/S5NBeaE9rb6+UuZW0rLGVNS6zCno9cFtE3Asg6dvAn9K4IdjMzGiup+1VwGHAMknX5mXHkSpr5+ZpqO8ADoI09bSk0amn1+Gpp618vgD8K2nY7r8CJwLvosmhvdCe1t5eKXMraVljK2tcZhV0B/AKSZuRhkfuTWo8e4z6DcFmZkYTlbaIuIL6hVnw1NNWQRFxz+hzSV8GLswvPbTXzKyDIuJKSecB15Aadn9JagDbgjoNwWZmlkxp9kizfjA6BCe//Avg+vzcQ3vNzDosIj4CfKRm8RM0aAg2MzNX2qzPSTqLNI30TEkrSQWFYUl7koY+rgDeCx7aa2ZmZmbl5Eqb9bWIeFudxadOsL2H9pqZmdk4kv4eeDep0XcZ8E7SvQbPAeaSGoIPzpObmbXV03odgJmZmZlZmUmaBXwAmBcRLwRmkO7tugi4NCJ2AS7Nr83azpU2MzMzM7PJbQBsKmkDUg/bXaT7Di7J65cAB/YmNOt3rrSZmZmZmU0gIlYB/0ma3XQ18HBEXAwMjU5ulv9u37sorZ/5mjYzMzMzswlI2pbUq7Yz8BDwTUlvn8L+RwJHAgwNDTEyMjJum7Vr19ZdPhUL91g35nWrx6vVjhg7rV9jdKXNzMzMzGxirwdui4h7ASR9G/hT4J7RWwlJ2gFYU2/niDiFdE9C5s2bF8PDw+O2GRkZod7yqViw6KIxr1cc2trxarUjxk7r1xg9PNLMrGIk/b2kGyRdL+ksSZtI2k7SJZJuzn+37XWcZmZ95A7gFZI2kyTSfQWXk+7xenje5nDggh7FZ33OPW1mZhVSmMFst4h4PN9b8BBgN9IMZoslLSLNYHZMD0M1q6S5tT0Vi/fvUSRWJhFxpaTzgGtI93L9JannbAvgXElHkCp2B/UuSutnrrSZmVXP6Axmf2D9DGbHkm4kD2kGsxFcaTMza5uI+AjwkZrFT5B63cw6ysMjzcwqxDOYmZmZDR73tJmZVUg3ZjAb2nTqM5B1esayUWWdFayscUG5YzMzs+a40mZmVi0dn8Hs5DMu4MRlY38eJpuBrNMzlo0q66xgZY0Lyh2bmZk1x8MjzcyqxTOYmZmZDRj3tJmZVYhnMDMzG1ye3XRwudJmZlYxnsHMzMxssHh4pJmZmZmZWYm50mZmZmZmZlZik1baJJ0maY2k6wvLjpe0StK1+bFfYd2xkm6RdJOkN3YqcDMzMzMzs0HQTE/b6cC+dZZ/KiL2zI/vAkjaDTgE2D3v83lJM9oVrJmZmVWbpG0knSfp15KWS3qlpO0kXSLp5vx3217HaWZWJpNW2iLicuCBJo83Hzg7Ip6IiNuAW4C9WojPzMzM+sunge9HxPOBF5FuWbEIuDQidgEuza/NzCxrZfbIoyS9A/gFsDAiHgRmAT8rbLMyLxtH0pHAkQBDQ0OMjIyM22ZoU1i4x7oxy+pt10tr164tXUy1HKOZmZWBpK2A1wALACLi98DvJc0HhvNmS4AR4JjuR2hmVk7TrbR9AfhXIPLfE4F3AaqzbdQ7QEScQrq3EPPmzYvh4eFx25x8xgWcuGxsiCsOHb9dL42MjFAv9jJxjGZmVhLPBu4FvirpRcDVwAeBoYhYDRARqyVtX2/n6TT41m4zWWNwtxuLq9ZoWbV4zfrFtCptEXHP6HNJXwYuzC9XAnMKm84G7pp2dGZmZtZPNgBeAvxdvlH8p5nCUMjpNPjWNvYuqL058RTXt1vVGi2rFq9Zv5jWlP+Sdii8/AtgdGbJpcAhkjaWtDOwC3BVayGamZlZn1gJrIyIK/Pr80iVuHtGyxb575oexWdmVkqT9rRJOos0znympJXAR4BhSXuShj6uAN4LEBE3SDoXuBFYB7w/Ip7sSORmZmZWKRFxt6Q7Je0aETcBe5PKDDcChwOL898LehimmVnpTFppi4i31Vl86gTbnwCc0EpQZmZm1rf+DjhD0kbAb4B3kkb+nCvpCOAO4KAexmdmVjqtzB5pZmZmNiURcS0wr86qvbscitmUSNoG+ArwQtJos3cBNwHnAHNJo88OzjOqm7XVtK5pMzMzMzMbML7HoPWMK21mZmZmZhMo3GPwVEj3GIyIh4D5pHsLkv8e2Iv4rP95eKT1NUmnAQcAayLihXnZdjQYyiDpWOAI4EngAxHxgx6EbWZmZuXS8XsMNnMPvF7fZ7AK9+nr1xhdabN+dzrwWeBrhWWjQxkWS1qUXx8jaTfgEGB3YEfgh5Ke5xlQrWx8XYWZWdd1/B6DzdwDr9X7DM6tXb94/wnfbzox9lq/xujhkdbXIuJy4IGaxY2GMswHzo6IJyLiNuAWYK9uxGk2Rb6uwsysu3yPQesp97TZIGo0lGEW8LPCdivzsnGaGeYwtOnYYQpl6aov87CBssZWprgK11UsgHRdBfB7SfNJ99SE1BgxAhzT/QjNzPqP7zFoveZKm9l6qrMs6m3YzDCHk8+4gBOXrf+K1Q5R6JUyDxsoa2wli6ul6yrMzGzafI9B6xlX2mwQ3SNph1ywLQ5lWAnMKWw3G7ir69GZTayl6yqm00sMk/cUd/ri91Fl6vUsKmtcUO7YzKrE9xi0XnKlzQbRUuoPZVgKnCnpk6SJSHYBrupJhGaN1buuYhGNGyPGmE4vMUzeUzzZxe/tUrJez6eUNS4od2xmZtYcT0RifU3SWcBPgV0lrczDFxYD+0i6GdgnvyYibgDOJY1P/z7wfs8caWUTEXcDd0raNS8ava5itDECfF2FmZlZX3FPm/W1iHhbg1V1hzJExAnACZ2LyKwtfF2FmZnZAHGlzcysYnxdhZmZ2WDx8EgzMzMzM7MSc6XNzMzMzMysxFxpMzMzMzMzKzFf02ZmZj03t/aWAYv371EkZmZm5eOeNjMzMzMzsxJzpc3MzMzMzKzEXGkzMzMzMzMrsUkrbZJOk7RG0vWFZdtJukTSzfnvtoV1x0q6RdJNkt7YqcDNzMysmiTNkPRLSRfm1w3LFWZm1lxP2+nAvjXLFgGXRsQuwKX5NZJ2Aw4Bds/7fF7SjLZFa2ZmZv3gg8Dywuu65QozM0smnT0yIi6XNLdm8XxgOD9fAowAx+TlZ0fEE8Btkm4B9gJ+2qZ4zfqWZ88zs0EgaTawP3AC8A95caNyhZmZMf0p/4ciYjVARKyWtH1ePgv4WWG7lXnZOJKOBI4EGBoaYmRkZPybbAoL91g3Zlm97Xpp7dq1pYuplmM0M7MSOQn4ELBlYVmjcoWZmdH++7SpzrKot2FEnAKcAjBv3rwYHh4et83JZ1zAicvGhrji0PHb9dLIyAj1Yi8Tx2hmZmUg6QBgTURcLWl4GvtPucG3dpvJGoO73VhctUbLqsVr1i+mW2m7R9IOuTVsB2BNXr4SmFPYbjZwVysBmpmZWd94FfBmSfsBmwBbSfoGjcsVY0ynwbe2sXdB7VD0Ka5vt6o1WlYtXrN+Md0p/5cCh+fnhwMXFJYfImljSTsDuwBXtRaimZmZ9YOIODYiZkfEXNLEZT+KiLfTuFxhViqe+dR6pZkp/88iTSSyq6SVko4AFgP7SLoZ2Ce/JiJuAM4FbgS+D7w/Ip7sVPBmZmbWF+qWK8xKyDOfWk80M3vk2xqs2rvB9ieQZoQyMzMzqysiRkizRBIR99OgXGFWFp751Hqp3RORmJlZF+R7YP4CWBURB0jaDjgHmAusAA6OiAd7F6GZWd85iWnOfNrMJDrNTPLS6kQ6rU60U4WJaPo1RlfazMyqaXSIzlb59egQncWSFuXXbu01M2uDVmc+bWYSnWYmeWl1Ip1WJ9qpwkQ0/RrjdCciMTOzHikM0flKYfF80tAc8t8DuxyWmVk/G535dAVwNvC64synABPNfGrWKve0mZlVz0l0cIhO7X2uYPIhNK0OuWl2/7IOeylrXFDu2Kpqbm1vxeL9exSJdUtEHAscC5B72v4xIt4u6f+RZjxdjGc+tQ5ypc3MrEK6MUSn9j5XMPkQmlaH3DS7f1mHvZQ1Lih3bGZ9YDFwbp5d/Q7goB7HY33KlTYzs2pp6ebEZmbWGs98ar3gSpuZWYV4iE59tcPVwEPWzMysf3giEjOz/uCbE5uZmfUp97SZmVWUh+iYmZkNBve0mZmZmZmZlZgrbWZmZmZmZiXm4ZE2sPINMh8FngTWRcQ8SdsB5wBzgRXAwRHxYK9iNDMzMzNzT5sNutdGxJ4RMS+/XgRcGhG7AJfm12ZmZmZmPeNKm9lY84El+fkS4MDehWJmZmZm5uGRNtgCuFhSAF+KiFOAoYhYDZBvUrx9vR0lHQkcCTA0NMTIyMi4bYY2hYV7rHvqdb1tiorbNrP9dK1du7Zjx25VWWMra1xmZmY2GFxps0H2qoi4K1fMLpH062Z3zBW8UwDmzZsXw8PD47Y5+YwLOHHZ+q/YikPHb1O0oObmwJNtP10jIyPUi7cMyhpbWeMyMzOzweDhkTawIuKu/HcNcD6wF3CPpB0A8t81vYvQzMzMzMw9bTagJG0OPC0iHs3P3wB8DFgKHA4szn8v6F2UZmZWRXNrR04s3r9HkZhZv3ClzQbVEHC+JEjfgzMj4vuSfg6cK+kI4A7goB7GaGZmZgNi2aqHx18q4Qq/ZS1V2nyfK6uqiPgN8KI6y+8H9u5+RO3h1l0zMzOz/tOOa9p8nyszMzOblKQ5ki6TtFzSDZI+mJdvJ+kSSTfnv9v2OlYzszLpxPDI+cBwfr4EGAGO6cD7mJmZWbWsAxZGxDWStgSulnQJsIDU4LtY0iJSg2/flh2KoyIW7rHuqUKTWa95xE55tVpp6+p9rqBz966arircv8kxmplZGeTywWgZ4VFJy4FZuMHXSk7SHOBrwDOBPwKnRMSnfVmQdUurlbau3ucKOnfvqumqwv2bHKOZmZWNpLnAi4Er6WCDb+02kzUGN9NY3OoxiuuHNi1fg/REBriR1b3EjJ8sxT1x3dNSpa14nytJY+5zlTNd3+fKzKyN3Npr/UDSFsC3gKMj4pE8k++kptPgW9vYO252vimub8cxFtQMjzy4Qo2Wg9rI6l5i67VpV9p8nyszs55wa69VmqQNSRW2MyLi23mxG3ytMrrVSwzt7yludf1kPdllUIXe4OnE2EpPm+9zZWbWZW7ttSpTKjScCiyPiE8WVrnB1yqhm73E0P6e4lbXT9aTXQZV6A2eTozTrrT1632uzMyqopetvbVanTSq2f0btU7W7j+dGFpR5pbdksX2KuAwYJmka/Oy40iVNTf4Wqm5l9h6qRNT/puZWYf1urW3VjPXAbVj/0atk7X7TyeGVpS5ZbdMsUXEFUCjxOoGXyst9xJbr7Xj5tpmZtZFE7X25vVu7TUza6/RXuLXSbo2P/YjVdb2kXQzsE9+bdZ27mkzM6sQt/aamXWfe4mt1ypfafOd281swPiaIDMzswFT+UqbmdkgcWuvmZnZ4PE1bWZmZmZmZiXW9z1tHj5pZmbN8O+FmZmVVd9X2syseS60mpmZmZWPh0eamZmZmZmVmCttZmZmZmZmJeZKm5mZmZmZWYn5mjYzMzMzM2sLXx/fGa60mZmZTUOxYLJwj3UM9y4UMzPrcx4eaWZmZmZmVmID39PmLlwzM+uF2t8f8G+QJS6bWD9z+p4e97SZmZmZmZmV2MD3tJmZmZmZWTUMak+dK21m1jaDmpGamZmZdZIrbZNwIdSsszwDn9n0+TfKzPqN87X6fE2bmZmZmZlZiXWs0iZpX0k3SbpF0qJOvU+vLVv1MHMXXfTUo57i+kbbWHkMStq1/uT0a1XltGtV5vRrndaR4ZGSZgCfA/YBVgI/l7Q0Im7sxPtVnbuBy8Np15pR1u+s069VldNu702Wr42uX7jHOhYsuqgn+Z7zXhtknbqmbS/gloj4DYCks4H5gBPvNDSbkTZav2zVwywobDPZ/vW2aTXGybY/fd/Np/R+HeS0a1Xm9GsTKmuhF6ddqzan3z7T7ryyHeVeRURLQdQ9qPQWYN+IeHd+fRjw8og4qrDNkcCR+eWuwE11DjUTuK/tAbaXY2yPRjHuFBHP6FYQzaTdvLzK6bescUF5Y5tuXKVLvxVPu1De2MoaF0wvttKl3by86um3HsfbfqVLv32Udh1je0y53NupnjbVWTamdhgRpwCnTHgQ6RcRMa+dgbWbY2yPEsU4adqFaqffssYF5Y2trHHV0fd5b1ljK2tcUO7YCvo+723E8faFvs97RznG9phOjJ2aiGQlMKfwejZwV4fey6ydnHatypx+raqcdq3KnH6t4zpVafs5sIuknSVtBBwCLO3Qe5m1k9OuVZnTr1WV065VmdOvdVxHhkdGxDpJRwE/AGYAp0XEDdM41ITdyCXhGNujFDG2Me1CSc6pjrLGBeWNraxxjTEgeW9ZYytrXFDu2ICByXsbcbwVNyB57yjH2B5TjrEjE5GYmZmZmZlZe3Ts5tpmZmZmZmbWOlfazMzMzMzMSqy0lTZJ+0q6SdItkhb1Op56JK2QtEzStZJ+0et4ACSdJmmNpOsLy7aTdImkm/PfbUsY4/GSVuXP8lpJ+/UyxqmYLK0q+Uxe/ytJL+lCTHMkXSZpuaQbJH2wzjbDkh4ufOb/0um48vtO+L3pxeeV33fXwmdxraRHJB1ds01PPrNOKWPaze/r9Du1mAYu7dZThXJDURnLEEVVKE/0kyqk3zKm2Sqk0wYxTr3cGxGle5Au4rwVeDawEXAdsFuv46oT5wpgZq/jqInpNcBLgOsLyz4BLMrPFwH/UcIYjwf+sdef3zTOZdK0CuwHfI90H5dXAFd2Ia4dgJfk51sC/1snrmHgwh58ZhN+b3rxeTX4v95Nusllzz+zDp5j6dJufl+n39b+r32ddic479KXG2piLl0Zoia+0pcn+uVRlfRbxjRbhXTaIMbjmWK5t6w9bXsBt0TEbyLi98DZwPwex1QJEXE58EDN4vnAkvx8CXBgN2Oq1SDGqmomrc4HvhbJz4BtJO3QyaAiYnVEXJOfPwosB2Z18j3bqOufVx17A7dGxO1dft9uKmXaBaffFg1C2q3H5YY2q0J5oo84/U5TFdJpu8q9Za20zQLuLLxeSTl/sAO4WNLVko7sdTATGIqI1ZAKQ8D2PY6nkaPycKLTet2VPQXNpNWepmdJc4EXA1fWWf1KSddJ+p6k3bsU0mTfmzJ8/w8BzmqwrhefWSeUPu2C0+80DELarafXn/t0VKUMUVSV8kTVVCX9ViXNViWdTqncW9ZKm+osK+O9CV4VES8B3gS8X9Jreh1QhX0BeA6wJ7AaOLGn0TSvmbTas/QsaQvgW8DREfFIzeprSEOoXgScDHynGzEx+femp99/pRujvhn4Zp3VvfrMOqHUaRecfqdqgNJuPVUpNxS5DGGjqpJ+nWbbZ8rl3rJW2lYCcwqvZwN39SiWhiLirvx3DXA+qXu7jO4ZHZ6T/67pcTzjRMQ9EfFkRPwR+DLl/SxrNZNWe5KeJW1IKvCeERHfrl0fEY9ExNr8/LvAhpJmdjquJr43vf7+vwm4JiLuqV3Rq8+sQ0qbdsHpd5oGJe3W0+t8Y8oqVIYoKn15oqIqkX4rlGZLn06nU+4ta6Xt58AuknbOLYeHAEt7HNMYkjaXtOXoc+ANwPUT79UzS4HD8/PDgQt6GEtdNdd8/AXl/SxrNZNWlwLvSJPK6RXAw6Pd9p0iScCpwPKI+GSDbZ6Zt0PSXqT84P4Ox9XM96brn1eNt9FgeFkvPrMOKmXaBaffFgxK2q2n9OWGooqVIYpKX56oqNKn34ql2dKn0+mUezfoXDjTFxHrJB0F/IA0o85pEXFDj8OqNQScn38DNwDOjIjv9zYkkHQWaZawmZJWAh8BFgPnSjoCuAM4qHcRNoxxWNKepOEAK4D39iq+qWiUViW9L6//IvBd0oxytwC/Bd7ZhdBeBRwGLJN0bV52HPCsQlxvAf5G0jrgceCQyFMadVDd700JPi8AJG0G7EMh/dXE1ovPrCNKnHbB6XfKBint1lORckNRKcsQRVUoT/SLiqTfUqbZKqTTdpV71Ud5tpmZmZmZWd8p6/BIMzMzMzMzw5U2MzMzMzOzUnOlzczMzMzMrMRcaTMzMzMzMysxV9rMzMzMzMxKzJU2MzMzMzOzEnOlzczMzMzMrMRcaTMzs4Ei6QZJwz143xFJ7+72+5qViaTvSTq813GYVY0rbV0i6XRJH29h/2n/2Ev6oqT/O933tsEkaYWkxyWtlXR3TsNb9Dou6w85XY0+/lhIa2slHdrJ946I3SNipMk4i9+DeyR91d+D/pf/76/vdRwTkTQsaWXNsuMl/SGn14ck/UTSK3sVYz0R8aaIWNLrOPqVpAWSrmiw7lBJFzd5nOMlfWOC9aX+jkh6Vv4ezOh1LO3iSlvBVBJg2RNrUUS8LyL+tddxWCX9n4jYAtgTeDFwbG/DsX4REVuMPoA7yGktP85o5hiSNmhmWRuMfg9eArwM+Oep7KzEv7fWLefk9DoTuAz4Zo/jsQ6Q9OpcKX9Y0gOS/kfSyybaJyLOiIg3dDHGPys0xj0mKWoa7J7VqfeOiDvy78mTnXqPbvOPyIDrUAHH+kxE3A38ANizQevuU40YuXXuXElfk/RoHoo2r7DtMZJW5XU3Sdq7u2djZSbpaZIWSbpV0v05LW2X183NP/pHSLoD+FFuVf4fSZ+S9ABwvKTnSPpR3v8+SWdI2qbwHk2n16KIWAV8D3ihpG0lXSjpXkkP5uezC+8xIukESf8D/BZ4ds157iDpV5L+Mb9eIOk3OYbbOt3baFMnaWNJJ0m6Kz9OkrRxXjcsaaWkhZLWSFot6Z2FfZ8u6b8kPSLp55I+XuwNkfR8SZfkwvdNkg4urNtP0o05bayS9I+SNielxR0LBeAdi/FGxDrgDGCWpGfkY41pcFahN6Xw/Tpc0h35u/PhJj6X4yV9U9I3cozLJD1P0rH5s7hT0hsK23uYcIskbQVcCJwMbAfMAj4KPNHLuGpFxH8XGud2z4u3KTTQ3dHMceqVVdVHPWjNcqUtk/R14FnAf+XM70OS3px/wB/KmcwLGm2bl39TaRjZw5Iul7R743dsGMd8SdfmjP1WSfsWVu+UCyePSrpY0szCfg3fW4WhmYUflmMk3Q18VdLMXOB4KP9g/LfcKmwFuTD6JuCWJnd5M3A2sA2wFPhsPs6uwFHAyyJiS+CNwIo2h2vV9gHgQODPgR2BB4HP1Wzz58ALSOkH4OXAb4DtgRMAAf+e938BMAc4foL3rJtea0maA+wH/JL0+/lVYCfS78HjdfY7DDgS2BK4vXCcucCPgc9GxH/mAvhngDfl78WfAtdOEK/1xoeBV5BGHrwI2Iuxva7PBLYmFaCPAD4nadu87nPAY3mbw/MDgPz/vwQ4k5SG3wZ8vvA7firw3pw2Xgj8KCIeI+XJdxUKwHcVg5W0EfAO4H7S96hZrwZ2BfYG/mW07DOJ/wN8HdiW9P34Aek7Mgv4GPClKby/Te55ABFxVkQ8GRGPR8TFEfGr2g0l/T9JV0jaWjVDJyV9OleqH5F0taQ/q9l9E0nn5HLnNZJeVC8YTdDY1kiO59TcwLEqN2TMyOvqNcadLukLkr4r6THgtZL2l/TLHP+dko4vHH+0EWKD/HpE0r82KkdPEOdE5etNJZ0o6fa8/gpJm052zOlywTyLiMMoDNEBvgOcBRwNPAP4LqmStlHtthHxiXyY7wG7kDLda0gtXE2TtBfwNeCfSIWH1zC2QPvXwDvz8TcC/rGwbirv/UxSy8xOpALFQmBlPs8h4DggphK79a3vSHoUuBNYA3ykyf2uiIjv5mEJXycVcACeBDYGdpO0YUSsiIhb2x61Vdl7gQ9HxMqIeIJU2XpLTUvr8RHxWEQ8nl/fFREnR8S6XHi5JSIuiYgnIuJe4JOkil4jjdLrqO9Iegi4glTZ+reIuD8ivhURv42IR0mVxdr3OD0ibshx/SEv2w0YAT4SEacUtv0jqQdv04hYHRE3TPpJWbcdCnwsItbkdPVRUsV81B/y+j9ExHeBtcCuuSD6V6T/+W8j4kageE3XAcCKiPhqTivXAN8C3lI47m6StoqIB/P6iRyc0+vjwHuAt+Ret2Z9NH+PrgOuY/z3oZ7/jogf5Pf5Jqk8sTin+7OBuSr0dlvL/hd4UtISSW8qNA48JVekvgz8CfCGiHi4znF+TmqE2I7UaPBNSZsU1s8n/T9H139H0oZ1jtNMY1utJcA64Lmkyy/eABR7YGsb4yCVg08gNYRdQWoIeQepzLw/8DeSDpzgPScqRzcyUfn6P4GXkhratgM+RMrLO8KVtsbeClyUf/j/QPrHbEr6x9QVEadFxKOFgsaLJG09hfc8Ajgtv+cfI2JVRPy6sP6rEfG/uaByLumLNp33/iPpx+OJfKw/ADsAO+Ufm/+OCFfaDODA3Lo7DDyfdI1EM+4uPP8tqbVug4i4hdQQcjywRtLZqhnSYwNvJ+D83PP/ELCcVNkfKmxzZ80+Y15L2j6nrVWSHgG+wcRpt256LSw7MCK2iYidIuJvI+JxSZtJ+lJuYX0EuBzYRmOH7NTGCangvwo4b3RB7jV5K/A+YLWkiyQ9f4J4rTd2pNBjmp8X86/7aypHvwW2IFVgNmBseig+3wl4+Wiaz+n+UFIDK6QK337A7ZJ+rMknFjk3IrYhfWeuJxUqp6L2+9DMxDv3FJ4/DtxXuJZotHHFE/i0SUQ8QuoRDeDLwL2SlkoazSc3JHU8bEfqYPhtg+N8IzdArYuIE0mNqrsWNrk6Is7L5eBPApuQeptrNdPY9pQc55uAo3MD3BrgU8Ahhc3GNMblZRdExP/kMvLvImIkIpbl17/K5zxRA13DcnQjjcrXeUTau4AP5vL6kxHxk7xdR7jS1tiYzDki/kjKZGfV21jSDEmLc9fwI6zvIWu2kAtpCM9EvQ51M9JpvPe9EfG7wuv/Rxr2drHSNRWLphCzDYCI+DFwOqnx4jFgs9F1uZD6jCkc68yIeDWpoBLAf7Q1WKu6O0nDBLcpPDaJdD3ZqNpGpdrX/56X/UlEbAW8nTRksp0Wkgo3L8/v8Zq8vPg+9Rq/jgfuA84sVvByL8U+pAa0X5MKYlYud5HyrVHPyssmcy+pR2F2YdmcwvM7gR/XpPktIuJvACLi5xExn9TS/x1SYRMmGRETEfeRCtPHS9ohLx6Tf7O+YmgVExHLI2JBRMwmDZvdETgpr34uqZfsoxHx+0bHULoGc3ke2vcQaXhvsez4VONCLgevZGxDxahmGttqt9+Q1Eg1us+XSGl83Hs3Wibp5ZIuU7q2+GFSw9dUGugmbEiYpHw9k1SJ7dpoIVfaxipmgGMyZ0kiZbKr6mwLqct1PvB6UqKfO7rrFN7/TuA5U9h+uu89JvbcgrAwIp5NGpf+D/LkEDbeScA+pB/8TfJY8g1J13Rs3MwBJO0q6XVKF+//jtQC2zczO1lbfBE4QdJOAJKeIWn+FI+xJWlo2kOSZpGGnLfblqT0+5DStRvNDh3+A3AQsDnw9TyEaUjpGurNSRMJrMXfizLYUNImow9SK/4/5zQ5E/gXUi/uhHKP07dJlafNci/qOwqbXAg8T9JhkjbMj5dJeoGkjZSmad8693Y8wvq0cQ/w9IlG9OTROj8gDduCdK3kIfk95rF+CKZVWP4/n06qvEGqNL0T+J7SteTjKF2/dgxwMLBt7p19mLFlxzmF7Z9Ganio11DRTGNb7fZPADML228VEcW5IOo1StQuO5N0HfKciNia9PvRzga6icrX95HKMdMpt0+LK21j3cP6Gb7OBfaXtHcumC4kJbCf1NkW0g/4E6QLfjcD/m0a738q8M78nk+TNKvJITItvbekAyQ9N1dMR38QXGCwMSJdw/E10tj1vwW+QmrEeIzU+taMjYHFpMzublKr2nFtD9aq7NOkH+GLla6n/Bnp2oap+Chpev6HgYtIBeZ2O4k0ZP4+Uozfb3bH3PL9l6T0fxpp6NxCUmHoAdLwnr9tb7g2Dd8lVcxHH5sAvwB+BSwjXd/S7P1XjyIV+u4mXTd5Fnmmv0jXRL6BNDTsrrzNf7C+MewwYEVu6X8fqed4tKB+FvCb3FvRaKj5/wOOlLQ98H9JhcwHSd+TM5uM30pEabbRhcoz1ipNkvQ2Ul4EpElKSL+vP5RUr2KxJakH+F5gA0n/AmxVs81LJf1lHuZ4NCnN/ozxptTYFhGrgYuBEyVtlcu8z5E00dDGerYEHoiI3ynNC/HXU9y/mePXLV/nnsfTgE9K2jH3yr0yN0p3RkT4kR+k2vQdwEOkixP/AriR9MP/Y2D3CbbdArgAeJQ0rPIdpBaB5+btTwc+3kQMf0H6QXiUNGTxjXn5CPDuwnYLSBfPM5X3Jl2btLLmPf+e1OU7Wvj+v73+X/jhhx9++OFHvz5IlbIlvY7Dj2o+SJfqnMv6htNVpOGFWxXLh3nb9+Sy4dyasuMMUmfBI8BqUm/sCuD1ef3xpGtvz8nly18CLykct7jt04B/AG7K295KmrCpGPPcXDbdIL/eGvhCLnc+nI9/SF435hzysnHlaFJP8e35PS8kzeD7jQbv17AcPcHnPFn5elNSA96qfA6XA5t26v+u/KZmZmZm1gF51MxGpB66l5F68d4dEd/pZVxmVh0eHmlmZmbWWVuShuk+RuohOZHUgl8Jkr6n9TfxLj48vN2sS9zT1mU5g6uXyf13RLyp2/GYmZmZmQ0iSYdS/+bvt8fYiVF6zpU2MzMzMzOzEqt707tumzlzZsydO3fc8scee4zNN9+8+wH1iM93vKuvvvq+iGj6HmBTIenvgXeTLipdRpoedzPSRbdzSRfZHhwRD050nHrpt2z/S8czuU7E1Mn02w6N8t6yKmO6aVbVYi972oVqlx0cY3s0irGV9JtnYvwa6R52fwROiYhP51t71C0fSDoWOII08/YHIuIHE71HldJu2WLq93gmTLu9ngEnInjpS18a9Vx22WV1l/crn+94wC+iczMv3Uae5Yd0jcEC4BPAorxsEfAfkx2rXvot2//S8UyuEzF1Kv2269Eo7y2rMqabZlUt9rKn3ah42cExtkejGFtJv6Qb3L8kP98S+F9gt0blg7zuOtItGnYmzZw4Y6L3qFLaLVtM/R7PRGnXE5HYINsA2DTff2Qz0v1x5gNL8volwIG9Cc3MzMy6LSJWR8Q1+fmjpBtVz6Jx+WA+cHZEPBERt5Fu17RXV4O2gdDS8EhJ25BusPtC0hCzd5Hu0TCl4WVm3RYRqyT9J+lee48DF0fExZKGIt30kYhYnW9GOo6kI4EjAYaGhhgZGRmzfu3ateOW9ZLjmVwZYzIzs96RNBd4MXAl0Kh8MIuxN5xemZfVHmvCcgOU83eobDENcjytXtP2aeD7EfEWSRuReiuOAy6NiMWSFpG6kI9p8X3M2krStqTWsZ1JN0j/pqS3N7t/RJwCnAIwb968GB4eHrN+ZGSE2mW95HgmV8aYzMysNyRtAXwLODoiHpHUcNM6y8bN8jdZuQHK+TtUtpgGOZ5pD4+UtBXwGtLd1ImI30fEQ3h4mVXD64HbIuLeiPgD6f45fwrcI2kHgPx3TQ9jNKtL0t9LukHS9ZLOkrSJpO0kXSLp5vx3217HaWZWRZI2JFXYzoiIb+fFjcoHK4E5hd1nky63MGurVq5pezZwL/BVSb+U9BVJm1PTfQzUHV5m1mN3AK+QtJlS89nepHHrS4HD8zaHU6Gbn9pgkDQL+AAwLyJeCMwADiGNarg0InYBLs2vzcxsCnKZ4FRgeUR8srCqUflgKXCIpI0l7QzsAlzVrXhtcLQyPHID4CXA30XElZI+zRQKCe0a27ts1cNjXu8xa+u2bt9NZRun22m9PN+cZs8DrgHWAb8kDVvYAjhX0hGkit1B7XrPuYsuGvN6xeL923VoGzyjk+j8gfWT6BwLDOf1S4ARpjk0vTatgtOrDS5/HwbOq4DDgGWSrs3LjgMWU6d8EBE3SDoXuJFUnnh/RDw5nTdetuphFrisYA20UmlbCayMiCvz6/NIlbZ7JO2QL9JsOLysXWN7xyXuQ9u7fTeVbZxup/X6fCPiI8BHahY/Qep1MyulTk+iA7Bwj3XjlpWhQanKDVtVjt1skETEFdS/Tg0alA8i4gTghI4FZUYLlbaIuFvSnZJ2jYibSAn5xvw4nNQi4eFlZmZt1OlJdGB84xaUo4Gr1w09rahy7GZm1nutzh75d8AZeebI3wDvJF0n15HhZWZmtn4SHQBJYybRmWyUg5mZmVVPS5W2iLgWmFdnlYeXmZl1xlOT6JCGR+4N/AJ4DI9yMDMz60ut9rSZmVkX9WISHTMzM+stV9rMzCrGk+iYmZkNFlfazMxsynwLCzMzs+5p5ebaZmZmZmZm1mGutJmZmZmZmZWYK21mZmZmZmYl5kqbmZmZmZlZibnSZmZmZmZmVmKutJmZmZmZmZWYK21mZmZmZmYl5kqbmZmZmZlZibnSZmZmZl0jaRtJ50n6taTlkl4paTtJl0i6Of/dttdxmpmViSttZmZm1k2fBr4fEc8HXgQsBxYBl0bELsCl+bWZmWWutJmZmVlXSNoKeA1wKkBE/D4iHgLmA0vyZkuAA3sRn5lZWW3Q6wDMzMxsYDwbuBf4qqQXAVcDHwSGImI1QESslrR9vZ0lHQkcCTA0NMTIyMi4bdauXVt3+XQt3GPduGWtHr/dMXaCYzQrF1fazMzMrFs2AF4C/F1EXCnp00xhKGREnAKcAjBv3rwYHh4et83IyAj1lk/XgkUXjVu24tDWjt/uGDvBMZqVi4dHmpmZWbesBFZGxJX59XmkStw9knYAyH/X9Cg+M7NScqXNzMzMuiIi7gbulLRrXrQ3cCOwFDg8LzscuKAH4ZmZlZaHR5qZmVk3/R1whqSNgN8A7yQ1Ip8r6QjgDuCgHsZnZlY6rrSZmZlZ10TEtcC8Oqv27nIoZmaV0XeVtrk1FwyvWLx/jyKxspO0DfAV4IVAAO8CbgLOAeYCK4CDI+LB3kRoZmZm3STpNOAAYE1EvDAvOx54D2nmU4DjIuK7ed2xwBHAk8AHIuIHXQ/aBoKvabNB5hu8mpmZWdHpwL51ln8qIvbMj9EK227AIcDueZ/PS5rRtUhtoLjSZgPJN3g1MzOzWhFxOfBAk5vPB86OiCci4jbgFmCvjgVnA63vhkeaNamlG7yamZnZQDlK0juAXwAL86UTs4CfFbZZmZeN08yN4Yc2HX8z917fPLxsNzAf5HhcabNB1dINXifLfOt9iXuZEQ9yJtesMsbUiK/HNDPrqi8A/0rKb/8VOJGU76rOtlHvAM3cGP7kMy7gxGVji+at3si9VWW7gfkgx+NKmw2qejd4XUS+wWvuZWt4g9fJMt96X+IFtZPkdDEjHuRMrllljGkCo9djviVPm74ZcBzpeszFkhaR0vMxvQzSzKwfRMQ9o88lfRm4ML9cCcwpbDobuKuLodkA8TVtNpB8g1erKl+PaWbWXbkRd9RfANfn50uBQyRtLGlnYBfgqm7HZ4PBPW02yHyDV6uilq7HbOa6itqhvDB+OG8vhvtWaQhrrSrHbjZIJJ0FDAMzJa0EPgIMS9qTNPRxBfBegIi4QdK5pEbfdcD7I+LJHoRtA8CVNhtYvsGrVVRL12M2c11F7VBeGD+ctxfDfSs2hHWMKsduNkgi4m11Fp86wfYnACd0LiKzxMMjzcyqpd71mC8hX48JTw3lqXs9ppmZmVWPK21mZhXi6zHNzMwGj4dHmplVj6/HNDMzGyCutJmZVYyvxzQzMxssLQ+PlDRD0i8lXZhfbyfpEkk357/bth6mmZmZmZnZYGrHNW0fBJYXXi8i3eB1F+BSpjCrmZmZmZmZmY3VUqVN0mxgf+ArhcW+wauZmZmZmVmbtHpN20nAh4AtC8vadoPXZm5GWu8msEVluCFsswbt5quDdr5mZmZmZtMx7UqbpAOANRFxtaThqe7fzA1em7kZab2bwBaV4YawzRq0m68O2vmamZmZmU1HKz1trwLeLGk/YBNgK0nfIN/gNfey+QavZmZmZmZmLZj2NW0RcWxEzI6IucAhwI8i4u34Bq9mZmZmZmZt047ZI2stBvaRdDOwT35tZmZmZmZm09CWm2tHxAgwkp/fj2/wasbcSa63NDMzMzNrRlsqbWZmZmZVUNugtmLx/j2KxMysea60mfWICw5mZmZm1oxOXNNmZmZmZmZmbdL3PW2+rsjMzMzMzKrMPW1mZmbWVZJmSPqlpAvz6+0kXSLp5vx3217HaGZWJq60mZmZWbd9EFheeL0IuDQidgEuza/NzCxzpc3MzMy6RtJsYH/gK4XF84El+fkS4MAuh2VmVmp9f02bmZmZlcpJwIeALQvLhiJiNUBErJa0fb0dJR0JHAkwNDTEyMjIuG3Wrl1bd/mohXusG/N6om3rbd/MPpOZLMYycIxm5eJKm5mZmXWFpAOANRFxtaThqe4fEacApwDMmzcvhofHH2JkZIR6y0ctqL3dyqETh1G7fTP7TGayGMvAMZqViyttZmZm1i2vAt4saT9gE2ArSd8A7pG0Q+5l2wFY09MozcxKxte02UDzDGZmnTF30UVjHmYAEXFsRMyOiLnAIcCPIuLtwFLg8LzZ4cAFPQrRBpyk0yStkXR9YVnDsoGkYyXdIukmSW/sTdQ2CFxps0HnGczMzHpvMbCPpJuBffJrs144Hdi3ZlndsoGk3UiND7vnfT4vaUb3QrVB4kqbDSzPYGZm1jsRMRIRB+Tn90fE3hGxS/77QK/js8EUEZcDtemvUdlgPnB2RDwREbcBtwB7dSNOGzy+pm0StcN6Vizev0eRWAecxDRnMDPrtdya+wtgVUQcIGk74BxgLrACODgiHuxdhGZmfaNR2WAW8LPCdivzsnGamfl0aNOpz27aaWWboXOQ43GlzQZSqzOYTZb5rl27loV7PDmlY3bySz/ImVyzyhjTJEaH9m6VX48O31ksaVF+fUyvgjMrC19TaR2kOsui3obNzHx68hkXcOKysUXzVmcqbVXZZugc5HhcabNB1dIMZpNlviMjI5x4xWNTCqiTGfMgZ3LNKmNMjRSG9p4A/ENePB8Yzs+XACO40mZm1g6NygYrgTmF7WYDd3U9OhsIrrTZQIqIY4FjAXJP2z9GxNsl/T/SzGWL8QxmVl4n0cGbEzdzM+HJhvB0YohPBXtDn1Ll2M3sqdlNa8sGS4EzJX0S2BHYBbiqJxFa33OlzWysxcC5ko4A7gAO6tYb+/pJa0Y3bk7czM2EJ7tB8VRvYNyMKvWG1qpy7GaDRNJZpFELMyWtBD5Cg7JBRNwg6VzgRmAd8P6ImNq1EWZNcqXNBl5EjJCGkhER9wN79zIes0n45sRmZh0SEW9rsKpu2SAiTiANVTfrKE/5b2ZWIb45sZmZ2eBxpc3MrD/45sRmZmZ9ysMjzcwqykN7zczMBoN72szMzMzMzErMlTYzMzMzM7MSc6XNzMzMzMysxFxpMzMzMzMzKzFX2szMzMzMzErMlTYzMzMzM7MSc6XNzMzMzMysxFxpMzMzMzMzKzHfXNvMzLpu7qKLxrxesXj/HkVi1n3LVj3MgsJ3wOnfzCbjnjYzMzMzM7MSc6XNzMzMzMysxKZdaZM0R9JlkpZLukHSB/Py7SRdIunm/Hfb9oVrZmZmZmY2WFq5pm0dsDAirpG0JXC1pEuABcClEbFY0iJgEXBM66F2R+11FmZmZmYT8TWaZtZp0660RcRqYHV+/qik5cAsYD4wnDdbAoxQoUqbWVm4EGBmZmZm0KbZIyXNBV4MXAkM5QodEbFa0vYN9jkSOBJgaGiIkZGRcdusXbu27vKihXusayFyxh1/suNNFk8rmjnffjJo52tmZmZmNh0tV9okbQF8Czg6Ih6R1NR+EXEKcArAvHnzYnh4eNw2IyMj1FtetKDF4YwrDh17/MmOV7t9OzVzvv1k0M7XzMzMzGw6Wpo9UtKGpArbGRHx7bz4Hkk75PU7AGtaC9HMzMzMzGxwtTJ7pIBTgeUR8cnCqqXA4fn54cAF0w/PzMzM+oVnnjYzm55WetpeBRwGvE7StfmxH7AY2EfSzcA++bWZmZnZ6MzTLwBeAbxf0m6kmaYvjYhdgEvzazMzy1qZPfIKoNEFbHtP97hmVl+921F4RkkzqxLPPG1mNj1tmT3SzMzMbCqmM/O0WS9JWgE8CjwJrIuIeZK2A84B5gIrgIMj4sFexWj9y5U2G0iS5gBfA54J/BE4JSI+7czXzKzzpjvz9HRuF9TqrXzq7T/Z7YImO+bQpmP3KePtb6pwW54exfjaiLiv8Hp0aO9iSYvya/cSW9sNfKWt3pAzGwij11VcI2lL4GpJlwALcOZrJeYGB6u6iWaezr1sDWeens7tglq9lU+9/Se7XdBkxzz5jAs4cdn6IlirtxOqLcu0Y+h8FW7LU5IYPbTXuqKlKf/NqioiVkfENfn5o0DxuoolebMlwIE9CdCsMU/kYJXlmaet4gK4WNLVudcXaob2Ah7aax0x8D1tZtO5rmKyITpr165l4R5PdjDqpNlhIWUb5lK2eKCcMdXjiRys4kZnnl4m6dq87DjSTNPnSjoCuAM4qDfhmU3oVRFxVy4bXCLp183u2MzQ3tphs9D7obNl+20c5HhcabOBNt3rKiYbojMyMsKJVzzW3mDraHZITUmGkDylbPFAOWOaTCcaHKA91/C0ur6esv1YT0WVY28nzzxtVRYRd+W/aySdD+xFG4f21g6bhdaHzraqbL+NgxyPK202sFq5rsKs1zrV4ADtuYan1fX1lO3HeiqqHLuZgaTNgaflEQ6bA28APsb6ob2L8dBe6yBf02YDyddVWJVN1OCQ17vBwcysvYaAKyRdB1wFXBQR3ydV1vaRdDOwT35t1nbuabNB5esqrJKaaHBwa69ZC8owq3QnZoO01kTEb4AX1Vl+Px7aa13gSpsNJF9XYRXmBgczM7MB40qbmVmFDGqDw9xFF7Fwj3VPXQvnngczMxskrrS1yEMYzMzMzMyskzwRiZmZmZmZWYm5p83MzMz6xrJVD9e9bYWZWZW50mZmZmZmVkK+DMdGeXikmZmZmZlZibnSZmZmZmZmVmKVGx5ZhptemplZudT7bfAwIjMz6xfuaTMzMzMzMysxV9rMzMzMzMxKrHLDI81sPc8qZWZmNjj8uz+4XGkz62OjmfvCPdbVvW+RM3szMzOz8vPwSDMzMzMzsxJzT9sUefZKKzOnTzMzM7P+40qbmZmZ2RS4gczMus2VtjbzvYLMzMyqoxMVsKlOFtGNSqAnsDCrNlfazAaYf8TNzMzMys+VNjMzGwhupLCqctq16XLa6R+utJVA7bTs/kJZVfjHwMzMrHf8Ozw4XGkzs6b54nszs8GwbNXDY+7v6cqAWW+VutJWm2GYmZl1i1uwzcysLEpdaTOz7nIh1ax5/r5Ys2rTysI9ehRIG/Ui/de+5+n7bt7x96yaqY6IcT5WHa609UCrX6jJVOELN3fRRU9dwwfViNnMzKwKPJTdGpksbUxWMXYlr3c6VmmTtC/waWAG8JWIWNyp9zJrJ6fd9fzDX1+Zf7ScfsujmE4W7rGO4d6FUglOu1Zl/Zp+falSeXSk0iZpBvA5YB9gJfBzSUsj4sZOvF/Zdbpnbar71xYwm7kh+GSF1DIXYqfCabe9GqXFMveyNvN9KCunX5tMWfNqp93u63RaaEejX1nS52Scfq0bOtXTthdwS0T8BkDS2cB8wInXys5p16rM6deqymnXqmxg028zlfPJKt9T6RgoNvo2qx2V/1YbOdrRSKKImPJOkx5Ueguwb0S8O78+DHh5RBxV2OZI4Mj8clfgpjqHmgnc1/YAy8vnO95OEfGMbgQDzaXdvHyy9Fu2/6XjmVwnYipd+m0y7y2rMqabZlUt9tKl3by8X8oOjrE9GsVYuvRb4bRbtpj6PZ6GabdTPW2qs2xM7TAiTgFOmfAg0i8iYl47Ayszn28pTJp2YfL0W7ZzczyTK2NM09CWvLesqvw/qnLsXdKWvBeq8Vk7xvYoUYx9W+4tW0yDHM/TOnTclcCcwuvZwF0dei+zdnLatSpz+rWqctq1KnP6tY7rVKXt58AuknaWtBFwCLC0Q+9l1k5Ou1ZlTr9WVU67VmVOv9ZxHRkeGRHrJB0F/IA09elpEXHDNA5VySE8LfD59lgfp13HM7kyxjQlbUy/ZVXl/1GVY++4NqfdKnzWjrE9ShFjH5cdoHwxDWw8HZmIxMzMzMzMzNqjU8MjzczMzMzMrA1caTMzMzMzMyux0lbaJO0r6SZJt0ha1Ot42k3SHEmXSVou6QZJH8zLt5N0iaSb899tex1ru0iaIemXki7Mr/vuXHuVbiWdJmmNpOsLyxp+vpKOzTHeJOmNHYhnyum7kzFJ2kTSVZKuy/F8tJfx2NRJWiFpmaRrJf2i1/FMZKrfR2uPspcbGuWLZVT7e102kraRdJ6kX+fP85W9jqlV3Uq/E/w+Hy9pVc5jr5W0X2Gfur+Hkl6a8+VbJH1GUr1bHzQT07j8fTq/z+2IR9Kuhc/gWkmPSDq6l5/PUyKidA/SRZy3As8GNgKuA3brdVxtPscdgJfk51sC/wvsBnwCWJSXLwL+o9extvGc/wE4E7gwv+6rc+1lugVeA7wEuL6wrO7nm9PZdcDGwM455hltjmdK6bvTMZHuobNFfr4hcCXwil5+Rn5M+X+4ApjZ6ziajLXp76MfbfvMS19uaJQv9jquBrGO+b0u2wNYArw7P98I2KbXMbV4Pl1LvxP8Ph8P/GOd7Rv+HgJXAa/Mv7HfA940zZjG5e/T+X1uVzw1/5e7gZ16+fmMPsra07YXcEtE/CYifg+cDczvcUxtFRGrI+Ka/PxRYDkwi3SeS/JmS4ADexJgm0maDewPfKWwuN/OtWfpNiIuBx6oWdzo850PnB0RT0TEbcAtpNjbGc9U03dHY4pkbX65YX5Er+Kx/jbF76O1R+nLDRPki6XS4Pe6NCRtRWoYORUgIn4fEQ/1NKjWdS39TiMd1v09lLQDsFVE/DRSDeVrtDdfm9Lvc4fi2Ru4NSJunyTOrsRT1krbLODOwuuVlDBjaxdJc4EXk1r/hyJiNaQvFrB9D0Nrp5OADwF/LCzrt3MtW7pt9Pl2Nc4m03fHY8rDfa4F1gCXRERP47EpC+BiSVdLOrLXwUxDv+V3ZVOp72xNvlg2JzH+97pMng3cC3w1D+H8iqTNex1Ui3qSfuukw6Mk/SoP8R4djtgotln5ee3y6aiXv0/197md8Yw6BDir8LpXnw9Q3kpbvTGffXlvAklbAN8Cjo6IR3odTydIOgBYExFX9zqWDqtKuu1anFNI3x2PKSKejIg9gdmkVrAX9jIem7JXRcRLgDcB75f0ml4HZKVSme9smX/3K/J7vQFp+PEXIuLFwGOk4XNV1vX0WycdfgF4DrAnsBo4cZLY2hnzVPL3bsSD0k3S3wx8My/q5ecDlLfSthKYU3g9G7irR7F0jKQNSV+YMyLi23nxPblLlfx3Ta/ia6NXAW+WtILU5f86Sd+g/861bOm20efblTinmL679tnlYTQjwL5liMeaExF35b9rgPOp3nDVfsvvyqYS39kG+WKZNPq9LpOVwMo8WgLgPFIlrsq6mn7rpcOIuCc3bv4R+DLr89hGsa3Mz1uOuUH+PtXf57bFk70JuCYi7smx9ezzGVXWStvPgV0k7ZxruocAS3scU1vlGWROBZZHxCcLq5YCh+fnhwMXdDu2douIYyNidkTMJf0vfxQRb6f/zrVs6bbR57sUOETSxpJ2BnYhXSzbNtNI3x2NSdIzJG2Tn28KvB74da/isamRtLmkLUefA28Arp94r9Lpt/yubMqW/44zQb5YGhP8XpdGRNwN3Clp17xob+DGHobUDl1Lv43S4WgFKfsL1uexdX8P85DFRyW9Ih/zHUwjX5sgf5/S73O74il4G4Whkb36fMZoZRaTTj6A/Ugz2twKfLjX8XTg/F5N6ib9FXBtfuwHPB24FLg5/92u17G2+byHWT97ZN+da6/Sbc5YVgN/ILXuHDHR5wt8OMd4Ey3OZtQgnimn707GBPwJ8Mscz/XAv0yWBjv9Gfkxpf/fs0mzc10H3FD234Spfh/9aNvnXupyQ6N8sddxTRDvU7/XZXuQhqj9In+W3wG27XVMbTinrqTfCX6fvw4sy8uXAjsU9qn7ewjMy7+ptwKfBTSNeOrm79P5fW5HPPk4mwH3A1sXlvXk8yk+lA9qZmZmZmZmJVTW4ZFmZmZmZmaGK21mZmZmZmal5kqbmZmZmZlZibnSZmZmZmZmVmKutJmZmZmZmZWYK21mZmZmZmYl5kqbmZmZmZlZibnSVhGSQtJzG6xbK+nZ3Y7J2kfS6ZI+3us4zMzMpkPSX0i6M5dJXjzJtgskXVF43bCMY90xlXJIWcosU4x5TJqror6rtEl6taSfSHpY0gOS/kfSy3oYz0jOjF5Us/w7eflwq+8REVtExG9aPY71L0nbSPqCpLsl/VbSMknv7NJ7D0ta2eZjjkh6d34uSZdL+peabQ6XdKukzdr53tbfJO0maWn+DXlU0mWS/rTXcZlNRNJGkk6UtDJXmm6T9Kkuh/GfwFG5TPLLLr+3TSD/Zj4oaeMOHHvMb7ykHXL5dqiw7MMNln2/3fH0s76qtEnaCrgQOBnYDpgFfBR4opdxAf8LvGP0haSnA68A7u1ZRDYwJG0E/BDYCXglsDXwT8BiSf/Qy9jaISICOAL4B0m7A0h6BqkA8e6I+G073kfSBu04jvXOZP9DSc8B/gdYBuwM7AicD1ws6ZWdj9D6VRfyj2OBecBewJbAa4FuV5x2Am7o8nvaJCTNBf4MCODNnX6/iFgN3AK8prD4NcCv6yy7vNPx9JO+qrQBzwOIiLMi4smIeDwiLo6IX8H6rlFJ/5lbHG6T9KbRnSXtmFtYH5B0i6T35OWbSHpc0sz8+p8lrcuVRCR9XNJJE8R1BvBWSTPy67eRCgK/L7z3XpJ+KukhSaslfTYXtsfJvYl3Snptfv3UsILcVfw5SRflVuIrc0FkdN83SLoptyJ/XtKPR3ssGpH0HEk/knS/pPsknSFpm8L6OZK+LenevM1nJzqegaQXS7om/4/OATbJy7eVdGH+LB/Mz2fndQdJurrmOAslfSc/30/SjfmYqyT9Y97sMOBZwEERcVtE/CEivg98APhYIR2vkHRsPsaDkr4qaZPCex0g6dqcRn8i6U8K61ZI+kdJv8pp65zivhN8DvtL+qWkR3KaPr6wbhNJ38hp6iFJP5c0JOkE0g/QZ5ValD8bETcDJwCnSnoa8BngWxFx2SRxL1LqjXs0n/dfFNYtUOqp/5SkB4CnYrP2k/RPkr5Vs+xkSSdJ2lrSqTlvXJXz3Bl5m8nypxWSjpH0K+AxSRvk16vy//0mSXvnzY8HfhoRH46IByLi0Yj4DPB14D/y8ebmPPdISXflmBYW3u9phXR1v6RzJW1Xs+/hku7I8X64gx+rNaleXiBp45xvvLCw3TOUygPb59eT5Yu1aW+iPGeGUm/ZfUrlk6Nyetkgr2/4PQBeBpwfEXdFsiIivlYTS8M8WtJ7lMo9DyiVg3bMyz8q6eT8fENJj0n6RH69qaTf5Xx5LTADuE7SrY0+0zb/26w57wB+BpwOHD66UA3KIXnduKGEqjOEVdLmwPeAHZV+j9fmtHM5uYKW0+iLgU/XLHtl3g5J75K0XKns8QNJOxXe4/mSLslp8yZJB9c7SUlbKo2M+IySp+e0/Iikq4Dn1Gz/aaVyxyOSrpb0Z3n5M5VGJD29sO1LlcplGzbxeXdORPTNA9gKuB9YArwJ2LZm/QLgD8B7SJnL3wB3Acrrfwx8npRw9yT1hO2d110O/FV+fjFwK/Cmwrq/aBDTCPDuvM/o9leREutKYDgveymp920DYC6wHDi6cJwAngu8EbgT2Kt2XX5+OvAAqbVtA1KF8ey8bibwCPCXed0H8+fx7kk+1+cC+wAbA8/I53tSXjcDuA74FLB5/uxe3eu0UOYHsBFwO/D3wIbAW/L/4ePA04G/AjYjtZZ+E/hO3m/j/L99QeFYvyyky9XAn+Xn2wIvyc/PBpbUiWMDYB3wxvx6BXA9MIfUU/0/wMfzupcAa4CX5//54Xn7jQv7XkXqmdgup9/35XXDwMoGn8UwsAepAelPgHuAA/O69wL/lT+LGfk7slXxe1VzrBnAlcC3gTvy5zdZ3AflmJ8GvBV4DNihkF+sA/4uf1ab9jrt9PMD2CF//tsU0uea/H//DvClnMdsn9Pae/N2DfOnQtq8NqfrTYFdSXnojnn9XOA5+fndwDvrxPZa4MmcFueS8tyzcjx7kH4rXp+3PZpUQJqdY/oScFbhvQL4co7lRaSRIC9o9+fpx5TTX928ADgNOKGw3fuB7+fnzeSLT6W9id4nr3sfcGNOO9uSRkgEsEFeP9H34J9J+d7f5jSpmvNbQeM8+nXAffl8NiaNVrq8sG5Zfv6npLLPlYV11xXe46mySBPnugC4otG+frQ1bd+S08VLSWWNISYoh9T7/9T+j0hlzdFth6n5jc/fhevy83mkfHmXmmWP5zgOzDG+gJTv/zPwk7zd5qT8+p153UtyWt29GAep7HTVaEx53dnAufkYLwRW1aS5t+f9NgAWkvL/TfK67wJ/U9j2U8DJPf9f9jqADiTOF+R/4kpSgWspMFRIhLcUtt0sJ8JnkjLVJ4EtC+v/HTg9P/9XUuv9Bvkf+0FgMamS8jgws0E8I6RK29tJP/K7Av+b1z1Vaauz39GkVrPil+XY/CXbY5Iv0lcK6/YDfp2fv4PUijy6TvnLMGGlrU5sBwK/zM9fSSqwbNDr/31VHqSWpqcaC/KynxQzm8LyPYEHC6+/QC5AALsDD7K+gHAHqaKzVc0xfggsbhDL3cCh+fkK8o94Ie3cWnjff63Z9ybgzwv7vr2w7hPAF/PzYRpU2urEcxLwqfz8Xflz+ZM6243US7f5MwlgfjNx19n/2sK+C4A7ep1eBulBarF9T35+AKkAO0Sq2Gxa2O5twGUNjvFU/pRfrwDeVXj9XFJB+/XAhjX7rgP2rXPM5+d0NYv1Fa/nF9Z/Ajg1P19ObuzLr3cgFYY2KOw7u7D+KuCQXn/2foz7n18LzM/p5DeF5f8DvCM/byZffFcz75Of/4hcCcuvX5/TywaTfQ9Ilcb35/ieIP3GHF7YdgWN8+hTgU8U1m2R0+xcUuPC70iF20XAcaSyyxaky08+U9hvwooX4/NXV9o6n45fnf+XM/PrX5MqahOWQ2r/P7X/IyavtM0llam3ze83Wm5ZVVg2mna/BxxR2PdpwG9Jw23fCvx3zbG/BHykEMdppAbnfypsMyOfdzGf/rfac6o57oPAi/LztwL/UzjW3RQ6S3r16LfhkUTE8ohYEBGzSTXrHUkFwVF3F7YdvdZli7zdAxHxaGHb20k/0pB64YZJtfxlwCXAn5N6x26JiPsmCe3bpFapvyMNtRlD0vOUhsLdLekRUuKaWbPZ0cC5EbFskve6u/D8t/n8IJ3jnaMrIqXGSSeIkLS9pLPzcIxHgG8UYpsD3B4R6yY7jj1lR2BV/vxH3Q4gaTNJX5J0e/6sLwe2KQyBWQL8tSSRhj2eGxGj12z+FamidbvSsNfRa3DuIxUcx8hDbmbm9aPuLDy/PccKKfNcmIcAPSTpIdL/fsfC9o3SXUOSXp6HM9wr6WFSS/No2vo68APgbKVhaJ+YbGhCRIxeTzH6d8K4Jb1D64c2PUTKM4rfu+LnYZ23hNTARf77ddL/cENgdeH/9CVST8Nk+dOoYr53CykvPR5Yk/cdTcd1vyt52R9JP+rjjsn478r5hViXkwovQ4Xtp/xdsc6aIC/4EbBpzqt2IjWknZ93ayZfHJOHTJLn7FizffH5hN+DSJeEfC4iXgVsQxoufpqkFxSOMVHZ4PbRFRGxljRqaVZEPA78glTeeQ2pLPQT4FV52Y9poIn81TrvcODi/9/evcfLVdb3Hv98DSiRewS2IUHjJVWRSNCIcLB2F0QjUENtoVC0SYsnbQ9UfDU9EmzrrbWNPcUDVVobEIkVlBTF5ECrxMgWaZFLEAwQMBQihIRE7gQrGvidP55nyOzJzN6z91zWmj3f9+s1r5n1zJpZv5l51pr1rOdWdY56WU5reB7SDhGxgXR++XZSvvl+fuqGqrRKf7ZXAudX5ZPHSJUK0/Jzb6vZx04jVbZUHE+6uPCFqrT9SRc7ao/TL1DqXrJOqbnwE6T+/pX8uQI4WGlk9mOBJyPiprF/E+014Qpt1SLiblIp/JBRVoV0xWGKpD2r0l5BuioA6SD1OuA3ge9FxF35+eMZ4aBVFcvPSFcT/pg6hTbSFbu7gZkRsRfpapZq1jkJOFHSh5v4PPVsJjW7ANKoe9XLI/hb0hWWN+XY3l8V24PAK+RBGsZiMzAtf/8Vr8j3i0j57G35u6502hVARPyA1BfyV4HfpSovRcTNETGP9Cf+TVKzAEg1be/Jbc+r/RbpiuwPqtIOqolpU378IOlK2T5Vt5dGxFfH9Ml3dhmpNvygiNibdNCtfNZfRsQnI+JgUrOcE9gxoE/Ue7M6GsadT8AuBM4EXhYR+5Cu1lX/Ls1ux9rjm8CblPoQnUBq3v0gKZ/uV/Ub7hURb8yvGen4VDHsd4yIyyLi7aQTgiD3VyPtKyfVietkUiuF6kFtRtpX3lOT53aLiIewUhrpWBARz5OOpaeSjrlXVV3cbea4GM1sJ68y7D+a4XlstP1gxwZTf/4LSBcZDm7iK9hE2hcqce5Oqlmr5NnvkS46HwbcnJffTeqGUXcgiSaPr9ZBkiaTjl2/lisEHibVcB3KyOchkJqyvrTqvaoLSbUa/U9+n3QOcyTpHLo67e3syDsPkmqYq/ejyRHxn/m579U8t0dE/HHVdi4EvgX8W9V5zk9JLSdqj9OVz/OrwNmk72ffnD+fZMf5x89J+/1ppAvk9c7bu25CFdqUOisu0o6BGw4iHWh/MPIrISIeJGWqv1UaAOFNpBHpLs3P/wxYQ2p+UCmk/SepOdqohbbso6RmExvqPLcnqb/ZNkmvJxXuam0CjgE+JOl/NbnNalcDsySdmAtZZzD8akUjewLbgCckTSONPFhxE2nnXyJp9/zdHTWO2PrJDaSDyYeUOqa/j/TnB+m7/m/Sdz0F+Hid138Z+DywPSKuhxeGez5N0t4R8UtSXnour/8vpCte/6o0EMKukt5Nau77iYh4suq9z5A0PW/7o8DlOf1C4I/y1Wbl3/r4moscI8p5o/qm/Hkfi4ifSzqcdFJUWf/XJc1SqmV8itTUofKZtgDNzE04Uty7k/5sfpq39/s0d4HHOiT/UV5BKszfFBEPRBqJ7BrgXEl7KQ308RpJv5ZfNtLxaSeSXifpaKWhr39O2t8q+eqTwP+Q9GlJU5Q6tv8J6WLB2TVv9ZdKNeNvJPW3qOwrXwA+nU9aKwNXzBv3l2LdMNqx4DJSc6nT8uOKsR4XR9vOcuAsSdOUBtN5Ic+Nth9I+rDS0OuT8//KfNK+8cMmPv9lwO9Lmp33i78h9VvbkJ//HmkfuCsifsGObh/3R0SjUbB9fC3eiaRj28GkGuLZpC5E38/PNToPgTRWwRtzntiNkQfi2gK8TNLeNenXkfLNpoh4Kqddn9P2Jp0LQTpmnqMdoz/vLaly8ewq4FckfSCfu+wq6a0aXoMM6eLAPcBVkiZHxHOkFm6fyMfpg6kahIW0b2wnd+9RmjJor5r3/DKpmeh7SS04CjehCm3A06QOwTdKeoZUWLuDVHvRjFNJ7XA3kZo/fDwiVlU9/z1S84Sbqpb3pMkhSyON6tRoYr8/I52wPk36I7i83koR8QCp4Ha2Rhn1sc5rHyFdRf47UtOHg0nNHkabEuGTpGahT5IKft+oes/ngN8g9RN5gFQ4+J2xxNVv8p/e+0gHg8dJ31flOz2PVM3/CCn/1pvD5F9If361V34+AGxQaiL2R+RmZrn55DtJV6xuJBWAPgv8eUT8n5r3uIx0YnBfvv11fo9bSAP4fD7HfG+Ov1nTSCfH1bfXkDpHf0rS08DH2FE7COmCwhU53nWk/a1y4Dwf+G2lkab+odFGR4o715afS/rj2ELqvP8fY/hM1hnLSL9Fdf7+PVKH9btIv+MV7GjG2PD41MBLSP2RHyE1FzuAdIGCSKOQvp10JXoD6YLUb5EG66nNG98j5afVwN9HxDU5/XxS7fE1OV//gPS/ZCU12rEgIm4k1TwcSGoxU0kf03GxiWPOhaTj749Iha1/I51YVi4qjLQf/Hd+74dJefsM0iBVo87hGhGrgb8Evk7K868BTqla5T9J/0uVc527SBc8Gp77+PhaCvOBL+WLXw9XbqT8eiqNz0OIiB8DnyK1PlhPKmzVlVu1fRW4T6kJY6V58PdIx9fq195GyktrKi0XIuJKUmuHr+XzlztIgwmSa7XfRcqPm0j5+zOk43h1DAEsJJ3nrMgFzTNJTYAfJrW6+1LVS75N2pd/TGo2+XNqmjLnY/7zwK0NKlu6rjJqovUhpaHRN5IGori26HisOUpNHraSRodc38b33UAa3OM77XpPs7GS9ApSU/GXV12dLQ2lOY/uJw1i4r681jFKUxJ9ISJeOerKZtZ2kr4LXBYRFxUdC0y8mjYbhaR3S9onN4Go9JsbtfmolcofAze3s8BmVgb5QtKfkqYpKV2BzayTctPG43JztWmk5vFXjvY6M2s/SW8lteKo2/KtCB48ov8cSWoCV2licWJE/LekL7Bj1LZqX4mIP+pmgNZYrg0TqT262YSh1IF8C6mpytyCwzErgkjNfS8nNXe8mtRs3My6SNIy0nnWWTF8VPlCuXmkmZmZmZlZibl5pJmZmZmZWYmVonnkfvvtFzNmzNgp/ZlnnmH33WunlipW2WKa6PGsWbPmkYjYv21v2AH18m/ZfpdaZY8PJkaMZc+/jY69E10v5K1OGMvnLnveheH5t4y/aRljgv6Iq+z5twzH3jLmA8c0St6NiMJvb3nLW6Kea6+9tm56kcoW00SPB7glSpBHR7rVy79l+11qlT2+iIkRY9nzb6Nj70TXC3mrE8byucued6Mm/5bxNy1jTBH9EVfZ828Zjr1lzAeOaeS86+aRZmZmZmZmJVaK5pFmZmbWH/IouE+TJo3eHhFzJE0hjZo4gzSx+ckR8XhRMZqZlc2oNW2SLpa0VdIdVWmfkPSQpNvy7biq586RdK+keyS9u1OBm5mZWc/69YiYHRFz8vJiYHVEzARW52UzM8uaaR55CfXnzPm/+YA7OyL+DUDSwcApwBvza/5R0qR2BWtmZiBpH0lXSLpb0jpJR0qaImmVpPX5ft+i4zQbg3nAsvy4MkeSmZlloxbaIuI64LEm328e8LWIeDYi7gfuBQ5vIT4zM9vZ+cC3IuL1wKHAOlxTYb0jgGskrZG0MKcNRMRmgHx/QGHRmZmVUCt92s6U9HvALcCi3PZ8GvCDqnU25rSd5AP1QoCBgQGGhoZ2WmfrY0/yuUtXDEubNW3vFkJu3bZt2+rGWhTHY+00Y/HVw5Y3LDm+oEisEUl7Ae8AFgBExC+AX0iaBwzm1ZYBQ8DZ3Y+wdzn/d81REbFJ0gHAKkl3N/vCRucOI/33rH3oyWHL3TqPKOv/oeOa2Hwcm7jGW2j7J+CvSFfL/go4F/gDQHXWjXpvEBFLgaUAc+bMicHBwZ3W+dylKzh37fAQN5y283rdNDQ0RL1Yi+J4zPrOq4GfAl+SdCiwBjiLmpqKfEJsVjoRsSnfb5V0JalFzhZJU3PenQpsbfDauucOI/33LKg9ie3SeURZ/w8dl1lvGlehLSK2VB5LuhC4Ki9uBA6qWnU6sGnc0Zl1WO5zeQvwUESc4BHMrAfsArwZ+JOIuFHS+YyhKWQzrRwmukZX9BfN2j5seaJ9N2WoyZC0O/CiiHg6P34X8ClgJTAfWJLvVzR+FzOz/jOuQlvlalhe/E2gMrLkSuAySZ8FDgRmAje1HKVZ55xF6g+0V16u9AtaImlxXp4wTcwqzSYWzdrOgsVXu9lEb9oIbIyIG/PyFaR82lJNRT9pdEW/qBqZbilJTcYAcKUkSOcgl0XEtyTdDCyXdDrwAHBSgTGaTVg+D+hdoxbaJH2V1E9iP0kbgY8Dg5Jmk5o+bgD+ECAi7pS0HLgL2A6cERHPdSRysxZJmg4cD3wa+NOc7H5BVmoR8bCkByW9LiLuAY4hHXPvwjUVVnIRcR9p8Jza9EdJednMzOoYtdAWEafWSf7iCOt/mnQSbFZ25wEfAfasSnO/IOsFfwJcKunFwH3A75NGA3ZNhZmZ2QTUyuiRZj1L0gnA1ohYI2lwHK8fsV9QGfqO1FPpszMwOT2ujbFMfXrK+h1WKyrGiLgNmFPnKddUmJmZTUAutFm/Ogp4r6TjgN2AvSR9hTb1CypJ35GdLKhqy37u2l126rNTpj49Zf0Oq/VCjGZmZtb7Rp1c22wiiohzImJ6RMwATgG+GxHvZ8cIZuB+QWZmZmZWAi60mQ23BDhW0nrg2LxsZmZmZlYYN4+0vhcRQ6RRIj2CmZmZmZmVjmvazMzMzMxGIGk3STdJul3SnZI+mdOnSFolaX2+37foWG1icqHNzMzMzGxkzwJHR8ShwGxgrqQjgMXA6oiYCazOy2Zt50KbmZmZmdkIItmWF3fNtwDmActy+jLgxO5HZ/3AfdrMzMzMzEYhaRKwBngtcEFE3ChpICI2A+Tpgg5o8NoR53dtl9HmWx1tvtYilXF+1jLF5EKbmZmZmdkoIuI5YLakfYArJR0yhteOOL9ru4w23+po87UWqYxzn5YpJjePNDMzMzNrUkQ8QRp1ei6wRdJUgHy/tbjIbCJzTZtZH5tRc0XOzMzMdiZpf+CXEfGEpMnAO4HPACuB+aR5XecDK4qL0iYyF9rMzMzMzEY2FViW+7W9CFgeEVdJugFYLul04AHgpCKDtInLhTYzMzMzsxFExI+Aw+qkPwoc0/2IrN+4T5uZmZmZmVmJudBmZmZmXSVpkqQfSroqL0+RtErS+ny/b9ExmpmViZtHmpmZWbedBawD9srLi4HVEbFE0uK8fHZRwZlNFB5wbOJwTZuZmZl1jaTpwPHARVXJ84Bl+fEy4MQuh2VmVmoutJmZmVk3nQd8BHi+Km0gIjYD5PsDCojLzKy03DzSzMzMukLSCcDWiFgjaXAcr18ILAQYGBhgaGgIgG3btr3wuNaiWduHLTdar91GiqlIjsusN7nQZmZmZt1yFPBeSccBuwF7SfoKsEXS1IjYLGkqsLXeiyNiKbAUYM6cOTE4OAikgljlca0FNX16NpxWf712GymmIjkus97k5pFmZmbWFRFxTkRMj4gZwCnAdyPi/cBKYH5ebT6woqAQzcxKyYU2MzMzK9oS4FhJ64Fj87KZmWVuHmlmZmZdFxFDwFB+/ChwTJHxmJmVmWvazMzMzMzMSsyFNjMzMzMzsxJzoc36kqTdJN0k6XZJd0r6ZE6fImmVpPX5ft+iYzUzMzOz/uZCm/WrZ4GjI+JQYDYwV9IRwGJgdUTMBFbnZTMzMzOzwrjQZn0pkm15cdd8C2AesCynLwNO7H50ZmZmZmY7ePRI61uSJgFrgNcCF0TEjZIGImIzQJ7k9YAGr10ILAQYGBhgaGho2PPbtm3bKa0MFs3aDsDA5B2PR1LkZyjrd1itF2I0MzOz3udCm/WtiHgOmC1pH+BKSYeM4bVLgaUAc+bMicHBwWHPDw0NUZtWBgsWXw2kAtu5a0ff/TecNtjhiBor63dYrRdiNDMzs97n5pHW9yLiCdJcQXOBLZKmAuT7rcVFZmZmZmbmQpv1KUn75xo2JE0G3gncDawE5ufV5gMrCgnQzMzMzCwbtdAm6WJJWyXdUZXWcFh0SedIulfSPZLe3anAzVo0FbhW0o+Am4FVEXEVsAQ4VtJ64Ni8bFY6kiZJ+qGkq/Kyp6swMzOboJrp03YJ8Hngy1VplWHRl0hanJfPlnQwcArwRuBA4DuSfiX3HTIrjYj4EXBYnfRHgWO6H5HZmJ0FrAP2yst1j8tFBWdmZuU3I/d1r9iw5PiCIrHRjFrTFhHXAY/VJDcaFn0e8LWIeDYi7gfuBQ5vT6hmZgYgaTpwPHBRVbKnqzAzM5ugxjt6ZKNh0acBP6hab2NO28loQ6ZD/WHJix5eu2xDfDses750HvARYM+qtKamqzAzM7Pe0+4h/1UnLeqtONqQ6QCfu3TFTsOSFzkEOZRviG/HY9ZfJJ0AbI2INZIGx/H6US+YTXSNLi6V7SJhu/mimplZ7xpvoW2LpKn5am71sOgbgYOq1psObGolQDMzG+Yo4L2SjgN2A/aS9BUaH5eHaeaC2UTX6OLSgtq+HQVfJGw3X1QzM+td4x3yv9Gw6CuBUyS9RNKrgJnATa2FaGZmFRFxTkRMj4gZpIGfvhsR78fTVZiZmU1YzQz5/1XgBuB1kjZKOp0Gw6JHxJ3AcuAu4FvAGR450sysKzxdhZWepN0k3STpdkl3SvpkTveUFWZmIxi1eWREnNrgqbrDokfEp4FPtxKUmZmNLiKGgKH82NNVWC94Fjg6IrZJ2hW4XtK/A+/DU1aYmTU03uaRZmZmZmMSyba8uGu+BZ6ywkpO0kGSrpW0LtcSn5XTXUtsXeFCm5mZmXWNpEmSbiMNlrMqIm6kZsoKwFNWWNlsBxZFxBuAI4AzJB1MqhVeHREzgdV52azt2j3kv5mZmVlDua/7bEn7AFdKOqTZ1zaasmKk6QyKmsqhrFMsOK7xyRcTKhcWnpa0jjQX8TxgMK+2jNRk3U17re1caDMzM7Oui4gnJA0Bc2lxyoqRpjMoaiqHsk6x4LhaJ2kGcBiwUy2xpLq1xN2aI7P2IkUjA5Prr1tkwbmMBfcyxeRCm5mZmXWFpP2BX+YC22TgncBn2DFlxRI8ZYWVmKQ9gK8DH46IpyQ19bpuzZFZe5GikUWztnPu2p2LAUXOT1nGgnuZYnKhzcyaNqP2ivWS4wuKxMx61FRgmaRJpH71yyPiKkk3AMvztEIPACcVGaRZPXnE068Dl0bEN3JyU7XEZq1yoc3MzMy6IiJ+RGpWVpvuKSus1JSq1L4IrIuIz1Y95Vpi6woX2szMzMzMRnYU8AFgbR79FOCjpMKaa4mt41xoM7OGaptDjva8m0uamdlEFBHXA406sLmW2DrOhTYzMzOzzBejzKyMPLm2mZmZmZlZibmmzczMrA7XuJhZvxmtW4SPg8VxTZuZmZmZmVmJudBmZmZmZmZWYm4eaX1J0kHAl4GXA88DSyPifElTgMuBGcAG4OSIeLyoOM3MbGxGa95lZu1Tb39zE8rOcE2b9avtwKKIeANwBHCGpIOBxcDqiJgJrM7LZmZmZmaFcaHN+lJEbI6IW/Pjp4F1wDRgHrAsr7YMOLGQAM3MzMzMMjePtL4naQZwGHAjMBARmyEV7CQd0OA1C4GFAAMDAwwNDQ17ftu2bTullcGiWdsBGJi843E7tfMzl/U7rNYLMZpZ7/HIpWZWy4U262uS9gC+Dnw4Ip6S1NTrImIpsBRgzpw5MTg4OOz5oaEhatPKYEE+EVg0azvnrm3/7r/htMG2vVdZv8NqvRCjmZlNHO6z2b9caLO+JWlXUoHt0oj4Rk7eImlqrmWbCmwtLkIz6ySf/JiZWa/ouUKbmwxYOyhVqX0RWBcRn616aiUwH1iS71cUEJ6ZmZmZ2Qt6rtBm1iZHAR8A1kq6Lad9lFRYWy7pdOAB4KRiwjMzMzMzS1xos74UEdcDjTqwHdPNWMzMrDjjaSbrVj9m1m0utJlNIO6jY9bbXBgwM7N6PE+bmZmZdYWkgyRdK2mdpDslnZXTp0haJWl9vt+36FjNzMrENW1mZmbWLduBRRFxq6Q9gTWSVgELgNURsUTSYmAxcHaBcZpZHc206HGLgc5wTZuZmZl1RURsjohb8+OngXXANGAesCyvtgw4sZAAzcxKyjVtZmZm1nWSZgCHATcCAxGxGVLBTtIBDV6zEFgIMDAwwNDQEADbtm174fGiWdtH3O7nLh0+k8uiWSPHWXnf4a/ZPuo61TGNVTPvP16txNVJZY3LrCxcaDMzM7OukrQH8HXgwxHxVJo6c3QRsRRYCjBnzpwYHBwEUqGm8nhBmwdk2nDa4E5ptduot051TGPVzPuPVytxdVJZ4zIrCzePNDMzs66RtCupwHZpRHwjJ2+RNDU/PxXYWlR8ZmZl5EKbmZmZdYVSldoXgXUR8dmqp1YC8/Pj+cCK2teamfUzN480MzOzbjkK+ACwVtJtOe2jwBJguaTTgQeAk4oJz8ysnFoqtEnaADwNPAdsj4g5kqYAlwMzgA3AyRHxeGthmpmZTSzNDJ090UTE9UCjDmzHdDMWM7Ne0o7mkb8eEbMjYk5eXkyaa2UmsDovm5lZG3hyYjMzs/7TieaR84DB/HgZMIQnyDQzaxdPTlwQTxhrZmZFabXQFsA1kgL45zwUb0tzrVQbmDz6fCvdntOjbPOIOB6z/pKPr5Vj7NOSqicnHsyr+YKZmZnZBNJqoe2oiNiUC2arJN3d7AsbzbVS7XOXruDctSOH2M65S5pRtnlEHI9Z/2rn5MQT0dqHnhy2PGva3sCOi0ujXRQcTavfXTPb74dJlc3MbHQtFdoiYlO+3yrpSuBw8lwr+aTBc62YmXVAuycnnogaTVBcubjU6iTMrV40bGb7/TCpcj9qd1NbN93tDkkXAycAWyPikJzmAfisK8Y9EImk3XN/CiTtDrwLuAPPtWLWt2YsvnrYzTrDkxObmRXiEmBuTZoH4LOuaGX0yAHgekm3AzcBV0fEt0hzrRwraT1wbF42M7M28OTEZmbFiIjrgMdqkueR+hGT70/sZkzWP8bdPDIi7gMOrZP+KJ5rxcysUzw5sZlZeXS1P3GrfXErmhnsr12a/axl7Hdbppg6MeS/mZl1iCcnNjPrPe3qT9xqX9yKRbO2jzrYX7s02ze3jP1uyxRTOybXNjMzMzPrR+5PbF3hQpuZmZmZ2fi4P7F1hQtt1pckXSxpq6Q7qtKmSFolaX2+37fIGM3MrDfNWHw1ax960iPpTjCSvgrcALxO0sbch9gD8FlXuNBm/eoSPGyvmZmZNSkiTo2IqRGxa0RMj4gvRsSjEXFMRMzM97WjS5q1hQcisb4UEddJmlGTPA8YzI+XAUPA2d2Lysx6mSc4NjOzTnGhzWyHpobthdGH7u3WELFrH3py2PKiWc29rltD/bbyHZRpmN1GeiFGM+s8N4G0dqiXjybCxR9f0GoPF9rMxmG0oXu7NUTseIf+7dZQv80O81tPmYbZbaQXYrQdKicOi2Ztb8uw2T5RNzOzbnGhzWyHLZKm5lo2D9trZtZmki4GTgC2RsQhOW0KcDkwA9gAnBwRjxcVYyeUoYBfe9HCtR1mvcUDkZjt4GF7zcw66xI8CJSZ2Zi50GZ9ycP2mpl1X0RcB9SOrjePNPgT+f7EbsZkZtYL3DzS+lJEnNrgqWO6GoiZtUUZmp/Vcuf7prU8CFT1oEDtHmTpc5fu3OiimUGfxjLgU+2ARrWvG23Ao2bWr6xTiatsgyh5YCezkbnQZtYjynhSambWTY0GgaoeFKgdg8y0w1gGfKodtKn2M4w2qFMz6y+o6tN27tpdWhooqhM8sJPZyHq+0OYrmWZmZj3Ng0CZmY2i5wttZmZm1tMqg0AtwYNAmQ3jVjZW4UKbmZm1zK0erBl5EKhBYD9JG4GPkwpry/OAUA8AJxUXoZlZObnQZmZmZl3hQaDMzMbHQ/6bmZmZmZmVmGvazMzMzGxM3CTarLtcaDMzs9LzCaKZmfUzN480MzMzMzMrMde0mVlXucbE2sHDYFs/6cRx08diK4sZVRO/L1h8tfNiA65pMzMzMzMzKzHXtJmZmZkVyDXHZjYaF9rMzKx0fBJrZma2g5tHmpmZmZmZlVjf1bS5462ZmZn1sm7URPt8yaxc+q7QZtYr+qV5mE8MzMzMzEY24QptPgE0MzMzMyunsV6UbvUi9kQpC7hPm5mZmZmZWYlNuJq2Wv3SxMx630TMqxPxM/WDer/bRLlS2WvcesTMzKAPCm1mZmZm1l2duODgixjWz1xoMzOzMRutFnWstaz9cPLlmmczs9G1+1jZzPvV/gdVXrNo1nYWLL664fOjvb7Z7TWjY4U2SXOB84FJwEURsaRT22qFr9pYrXblXZ+gjU/tgbJWNw6MoxntYF6kXjn2mtVy3i03/6eNzPnXOq0jhTZJk4ALgGOBjcDNklZGxF2d2J5ZuzjvWi/rZP7t9AmbTwjbY6xXf8tywcHHXutlzr/WDZ2qaTscuDci7gOQ9DVgHuDMS3n/NLupxN+B8671Mudf61XOu9bLnH+t4xQR7X9T6beBuRHxwbz8AeBtEXFm1ToLgYV58XXAPXXeaj/gkbYH2JqyxTTR43llROzfxvcbUTN5N6ePln/L9rvUKnt8MDFiLF3+bfLYO9H1Qt7qhLF87tLl3ZzeKP+W8TctY0zQH3GVLv+W8NhbxnzgmEbIu52qaVOdtGGlw4hYCiwd8U2kWyJiTjsDa1XZYnI8bTdq3oXR82/Zv4eyxweOcZzacuyd6Er4u3VFyT93S8feMn62MsYEjqtDeu7YW8bv2zGNrFOTa28EDqpang5s6tC2zNrJedd6mfOv9SrnXetlzr/WcZ0qtN0MzJT0KkkvBk4BVnZoW2bt5Lxrvcz513qV8671Mudf67iONI+MiO2SzgS+TRr69OKIuHMcb1WaauQqZYvJ8bTRBM+71coeHzjGMWtj/p3oSvW7dVFpP3cb8m4ZP1sZYwLH1XY9euwt4/ftmEbQkYFIzMzMzMzMrD061TzSzMzMzMzM2sCFNjMzMzMzsxIrbaFN0lxJ90i6V9LiDm7nYklbJd1RlTZF0ipJ6/P9vlXPnZNjukfSu6vS3yJpbX7uHyTVG/61mXgOknStpHWS7pR0VpExSdpN0k2Sbs/xfLLo76jMupVvm4ijLfm6g/G1LZ93MMa25X0rjqQN+bhzm6RbclrD37CXlX2/74SijrllP4ZJmiTph5KuKktckvaRdIWku/P3dmQZ4uoHZTkOlvEY1SCmT0h6KH9ft0k6rpsxNRQRpbuROnH+F/Bq4MXA7cDBHdrWO4A3A3dUpf0dsDg/Xgx8Jj8+OMfyEuBVOcZJ+bmbgCNJc3X8O/CeccYzFXhzfrwn8OO83UJiyq/dIz/eFbgROKLI76ist27m227l6w7G17Z83sEY25b3fSvuBmwA9qtJq/sb9vqt7Pt9Bz5vYcfcsh/DgD8FLgOuKks+AJYBH8yPXwzsU4a4+uFWluNgGY9RDWL6BPBnddYtNF+WtabtcODeiLgvIn4BfA2Y14kNRcR1wGM1yfNIBxfy/YlV6V+LiGcj4n7gXuBwSVOBvSLihki/6perXjPWeDZHxK358dPAOmBaUTFFsi0v7ppvUVQ8Jde1fDuaduTrDsfXlnze4Rjbkvc7GaONW6PfsKeVfb/vgMKOuWU+hkmaDhwPXFSVXGhckvYinRx/ESAifhERTxQdV5/r+nGwjMeoBjE1Umi+LGuhbRrwYNXyxpzWLQMRsRnSgRk4YJS4puXHtektkTQDOIx0hb+wmHIzi9uArcCqiCg0nhIrOt+OZqy/WVe0mM87HVs78r4VK4BrJK2RtDCnNfoNJ6KJnF9L8RlKeAw7D/gI8HxVWtFxvRr4KfCl3GzzIkm7lyCuflHm42BZ88CZkn6Um09WmmwWGlNZC231+jqVYW6CRnG1PV5JewBfBz4cEU8VGVNEPBcRs4HppFqzQ4qMp8R69TMWFncb8nlHtSnvW7GOiog3A+8BzpD0jqIDKomJkF8L/wxlO4ZJOgHYGhFrmn1JnbROfIe7kJqg/VNEHAY8Q2oKV3Rc/aIXj4NF5oF/Al4DzAY2A+eWIKbSFto2AgdVLU8HNnVx+1tycz7y/dZR4tqYH9emj4ukXUl/ApdGxDfKEBNAbsowBMwtQzwlVHS+Hc1Yf7OOalM+74oW874VKCI25futwJWkpiyNfsOJaCLn10I/Q0mPYUcB75W0gdRc9GhJXylBXBuBjbm1AsAVpEJc0XH1hZIfB0uXByJiS75o+zxwITuaQBaaL8taaLsZmCnpVZJeDJwCrOzi9lcC8/Pj+cCKqvRTJL1E0quAmcBNuTr3aUlHSBLwe1WvGZP8+i8C6yLis0XHJGl/Sfvkx5OBdwJ3FxVPyRWdb0czpt+sk4G0K593OMa25P1Oxmgjk7S7pD0rj4F3AXfQ+DeciCZyfi3smFvWY1hEnBMR0yNiBun7+G5EvL8EcT0MPCjpdTnpGOCuouPqBz1wHCxdHqgUIrPfJH1fhcYElHP0yEgjtBxHGo3pv4A/7+B2vkqq+vwlqQR9OvAyYDWwPt9PqVr/z3NM91A1+iEwh/Sj/hfweUDjjOftpKrWHwG35dtxRcUEvAn4YY7nDuBjOb2w76jMt27l227l6w7G17Z83sEY25b3fSvmRupHc3u+3VnZJ0f6DXv5Vvb9vkOfuZBjbo8cwwbZMXpk4XGRmprdkr+zbwL7liGuiX4r03GwjMeoBjH9C7A259WVwNQy5EvlAMzMzMzMzKyEyto80szMzMzMzHChzczMzMzMrNRcaDMzMzMzMysxF9rMzMzMzMxKzIU2MzMzMzOzEnOhzczMzMzMrMRcaDMzMzMzMysxF9oakHSJpL9u97qd1K04JA1J+mCnt2M7k/Srku4pQRylyPPW+yRtk/TqJtcNSa9t03Zn5Pfbpc5zr8hxTcrL/y5pfju2a2ZmNh59WWjLhY7HJb2kA+89KGlj1fLUfGIwUJX25w3SvtXueGxiiYjvR8TrWn2fNp/8Dkp6Pp/kbpO0UdJySW9tx/uPsm1J+t+S1kv6b0kPSFrSiX3bxkfSBklbJO1elfZBSUMAEbFHRNzXhu0skHR9Tdp0SV+X9IikJyWtlbRgtPeKiAdyXM/l5fdExLJWYzQzMxuvviu0SZoB/CoQwHs7vb2I2AzcC7yjKvkdwN110q7rdDxWbvWu+veITRGxB7AncAQpf39f0jEd3u4/AAuB38vbfg9wNLC8w9u1sdkFOKuA7f4L8CDwSuBlpHyypYA4zMzMWtJ3hTbSn/YPgEuAF5q7SDpM0q2SnpZ0ObBb1XP1ruDuVFORryT/O3BgVa3DgaTC2DvyOpOAw4Dza9KOzOsh6Q8krcu1gd+W9Mqqbbxe0ipJj0m6R9LJ9T6kpD0lXSvpH3JtRMPX5aZuF0i6On/+GyW9pur5YyXdna9Ufx5Q09+2AS/UNpwj6a78u35J0m6VmllJZ0t6GPiSpJdIOk/Spnw7r1JzVKcm98Bck/BTSfdL+lDVc5MkfVTSf+XfdY2kgyRVLg7cnvPo7+T1T5B0m6QnJP2npDdVvVfD/aNaJBsj4mPARcBnqt7jfEkPSnoqx/KrOf3lkn4m6WVV674lf6ZdJb1W0vdy/nskbx9JM4H/BZwWETdExPaIuBP4LWCupKPzepdI+kLO/0/n92pqnxpt37Cm/R/gzyTtU/tE9bFU0ssk/b+cR26W9NeqOfYC71SqWX08/zaS9AbgC8CROU8/kdd9K3BJRDyT88cPI+Lf6wUo6bfyfnqIappOqqpJuPL/gaS/zzHcL+k9Ve/zKknX5fzynRzjV0b7giT9q6SHcz6/TtIbq56bLOlcST/Jz18vafJo72lmZhNHvxbaLs23d0sakPRi4Jukq7JTgH8lnfiNSUQ8Q7rSvyk3rdkjIjZRVWgjFdjuBlbXpO0K3CTpROCjwPuA/YHvA1+FFwqFq4DLgAOAU4F/rP5zz+u9LL//f0TEh4CXNvG6U4FPAvuSagY/nd9rP+DrwF8A+wH/BRw11u/GADgNeDfwGuBXSN8pwMtJ+e6VpFqjPyfVVs0GDgUOr1r3BZJeBPw/4HZgGnAM8GFJ786r/Cnpdz0O2Av4A+BnEVHJd4fmPHq5pDcDFwN/SKqR+GdgpVIBcrz7xzeAN2tHs7ib82eaQsqL/yppt4h4GBgCqi9AvB/4WkT8Evgr4BpS3pwOfC6vcwywMSJuqt5oRDxIujBzbFXyafl99gNuI+3/ze5TdfcNG5NbSL/xn42y3gXAM6R9Yj5VF9aqnEAqjB1KyjPvjoh1wB8BN+Q8vU9e9wfABZJOkfSKRhuV9PukCwzvjIg7mvg8bwPuIeWnvwO+KKlyMesy4CbSfvQJ4ANNvB+kC34zSfnwVnIezf4eeAvwP0j7z0eA55t8XzMzmwD6qtAm6e2kE+PlEbGGVAD5XdIJ8q7AeRHxy4i4gnSC2S7fAw6RtC+paeb3I2I9sF9V2g8i4hekk+a/jYh1EbEd+Btgdq4ZOAHYEBFfyleNbyUVqH67alsH5u39a0RUTvSbed03IuKmvM1LSSfXkE7474qIK/IJ9HnAw238bvrJ5yPiwYh4jHTif2pOfx74eEQ8GxH/TSpgfCoitkbET0kFhnonfm8F9o+IT0XEL3K/oAuBU/LzHwT+IiLuyTVgt0fEow1i+5/AP0fEjRHxXO6/8yxp3xjv/rGJVCu7D0BEfCUiHs158FzgJUClf94yUkGtUvN8KqmQCPBL0n57YET8PCIqNS/7AZsbbHtzfr7i6oi4LiKeJRWKj5R0EK3tGzY2HwP+RNL+9Z7Mv/tvkfaFn0XEXaR8UWtJRDwREQ8A1zLy73ES6cLXXwL3K9Uk1/a1/DDwv4HBiLi3yc/yk4i4MPd5WwZMBQZywfCtwMfyPnk9sLKZN4yIiyPi6ZxHPwEcKmnvfHHmD4CzIuKhvH/+Z17PzMz6RF8V2khXba+JiEfy8mU57UDgoYiIqnV/0q6NRsQGYCPwdlLt2vfzUzdUpVWarL0SOF+pidoTwGOkE99p+bm3VZ7Lz59GuipdcTwwmdRUiKr3HO111QWxnwF75McHkvqEVD5LVC/bmFR/bz8hfbcAP42In1c9dyDD81/1utVeSWqKW/27fhSoDHBzEOnCRDNeCSyqea+D8nbHu39MI/UdfQJA0iKlZr9P5vffmx0FqxXAwUqjCB4LPFlVg/YR0j5wk6Q7Jf1BTn+EdLJcz9T8fEV1Ht5G2q8OpLV9w8Yg12BdBSxusMr+pL5v1ftJvWNN079HRDweEYsj4o2k/eI24JtVtWKQCmwXRMTGeu/RwAsxRMTP8sM9SHnqsaq0Rp9hGKWmzEuUmjI/BWzIT+2Xb7vR/L5sZmYTUK8OejBmuf3/ycAkpb5DkK7070O6Kj9NkqpOTF/Bjj/JZ0hNDCvvVX1CVysapH+fVDg7kh1Nfippbwc+n9MeBD4dEZfWvkGubfteRBxb+1yVC0nNuP5N0tzcZPPBJl7XyGbSyXslBlUv25hUf2+vINVEwc55ZhOpMHFnnXWrPQjcHxEzG2zvQVJTzGaae1Xy3U5N/yT9GiPvH438JnBrRDyj1H/tbFKTxjsj4nlJj5P7R0bEzyUtJxWYXs+OWjZy88n/mWN5O/AdpX553yU1ZTy8uolkrkE7gtQcsqI6D+9BamK2idb2DRu7j5Oa/p1b57mfAttJTWB/nNPGcqxpdOxNT0Y8IunvScffKVVPvQv4lqSHI+LrY9hePZuBKZJeWlVwa+Yz/C4wD3gnqcC2N1DZPx4Bfk7al29vMT4zM+tR/VTTdiLwHHAwqTnNbOANpILTiaSThQ9J2kXS+0j9iCpuB94oabak3UhNVxrZArxM0t416deR+tNtioinctr1OW1vUq0bpBqycyp9anLzmJPyc1cBvyLpA0oDNOwq6a1KnfCrnUnqb3FVLqw2+7p6rs6f/X1KnfI/xPBaCGveGUpDkE8h1Yhd3mC9rwJ/IWn/3KfwY0C9gQxuAp5SGsRkcr5af0hV86+LgL+SNFPJm7RjsI8tQPXcWBcCfyTpbXnd3SUdL2lPUt4caf94QX7tNEkfJzXP/Gh+as/8Hj8FdpH0MVI/u2pfBhaQRnV94fNKOknS9Lz4OOnk/LmI+DFpf7lU0hH587+R1LzxOxHxnar3Pk7S25X65/0VcGPu+9bKvmFjlJsfXk46jtQ+9xypH+QnJL1U0utJx8dmbQGm598YAEmfyfvELjkv/zFwb00z4TuBuaS+by2NKBwRPyH13/uEpBdLOhL4jSZeuiepOfKjpAuEf1P1ns+T+pt+VmngoUmSjpSntTAz6yv9VGibD3wp0vw7D1dupBquU0kDfywgnRT+DunkAYB8cvgp4DvAelJhq66IuJt00n1fbm5Vadb2PVIH8+rX3kZqyrimclU2Iq4kdYj/Wm4mcwdpcBMi4mnSVeFTSLUED+d1h/1559qQhaRahBWkPkGjvq7B53mE1C9kCemEYibwH6O9zuq6jDSgxn351mhy6r8mnfj9CFhLqpnYad18kvsbpAsQ95OuyF9EuggA8FnS0PfXAE8BXyTlN0gXHpblPHpyRNxCqs36PGkfuJe0PxCpr2XD/SM7UNI2YBupv9ssUh+ha/Lz3yYNtPBjUtPKn1PTbCwi/oPUv+/W3KS44q3Ajfn9V5L69tyfnzszf+av5G1/izTgRe1AKZeRankeIw3ocFreZlP7lLXVp4DdGzx3Jin/Pkyqbf0qqTDTjO+SCmAPS6o0jX0pcCWpie59pBrsnQpmEXE7qX/jhaoaCXKcTiO1qHiUtN9ezuif4cuk/eIh4C7SACrV/ox0LLiZlIc/Q3/9f5uZ9T0N76ZiZp0gaQPwwZran/G8z9HARRHx6lFX7kGSvgtcFhEXtfE9LyGNMrnTCJxWbpI+A7w8IuqNItkTlKaouDsiPl50LGZm1rt8pc6stxxCqlWbcHKzzjfTuNmoTXBKc+a9KTezPRw4nVRT1jNy89rXSHqRpLmkvmrfLDgsMzPrcX0zEIlZr5N0PqlpV8/WOjQiaRmpb+lZucmi9ac9SU0iDwS2kgYsWVFoRGP3clLz4ZeRRg3+44j4oaTTSPMf1vpJHt3SzMysITePNDMzMzMzKzE3jzQzMzMzMyuxUjSP3G+//WLGjBmFbPuZZ55h990bDWRWHMeVrFmz5pGI2L9rGxyHIvNvI2XNPyPptZibibfs+bdR3i3rb+G4xqaVuMqed83M+k0pCm0zZszglltuKWTbQ0NDDA4OFrLtkTiuRNJPuraxcSoy/zZS1vwzkl6LuZl4y55/G+Xdsv4WjmtsWomr7HnXzKzfuHmkmZmZmZlZibnQZmZmZmZmVmIutJmZmZmZmZWYC21mZmZmZmYl1tJAJJI2AE8DzwHbI2KOpCnA5cAMYANwckQ83lqYZmZmZmZm/akdo0f+ekQ8UrW8GFgdEUskLc7LZ7dhO20xY/HVw5YvmVu+YZrNxquSvxfN2s6CxVezYcnxBUdkE0XtsdN5y8zMrHs60TxyHrAsP14GnNiBbZiZmZmZmfWFVmvaArhGUgD/HBFLgYGI2AwQEZslHVDvhZIWAgsBBgYGGBoaajGU5iyatX3Y8rZt27q27bFwXN0haRJwC/BQRJzg5r1mZmZmVjatFtqOiohNuWC2StLdzb4wF/CWAsyZMye6NTHpgjrNIyfapKidVNa4WnAWsA7YKy+XunmvmZmZmfWflppHRsSmfL8VuBI4HNgiaSpAvt/aapBmnSBpOnA8cFFVspv3mpmZmVmpjLvQJml3SXtWHgPvAu4AVgLz82rzgRWtBmnWIecBHwGer0ob1rwXqNu818zMzMysW1ppHjkAXCmp8j6XRcS3JN0MLJd0OvAAcFLrYZq1l6QTgK0RsUbS4DheX0ifzNFU+mwOTE6PyxJXM3qtv2SvxWtmZma9a9yFtoi4Dzi0TvqjwDGtBGXWBUcB75V0HLAbsJekr5Cb9+ZBdBo27y2qT+ZoFlQN+X/u2l3YcNpgsQGNQa/1l+y1eM3MzKx3dWLIf7PSi4hzImJ6RMwATgG+GxHvx817rUdImiTph5KuystTJK2StD7f71t0jGZmZtYeLrSZDbcEOFbSeuDYvGxWRpWRTysqI5/OBFbnZTMzM5sAXGizvhcRQxFxQn78aEQcExEz8/1jRcdnVssjn5qZmfWXVudpMzOz7juPNPLpnlVpw0Y+zfNn7qSZQXTqDbJSGeSmoohBWMo6+IvjMjOzTnOhzcysh7Q68mkzg+jUG2SlMshNRRGD3JR18BfHZWZmneZCm5lZb2lp5FMzMzPrPe7TZmbWQzzyqZmZWf9xoc3MbGLwyKdmZmYTlJtHmpn1qIgYAoby40eBY4qMx8zMzDrDNW1mZmZmZmYl5kKbmZmZmZlZibnQZmZmZmZmVmIutJmZmZmZmZWYC21mZmZmZmYl5kKbmZmZmZlZibVcaJM0SdIPJV2Vl6dIWiVpfb7ft/UwzczMzMzM+lM7atrOAtZVLS8GVkfETGB1XjYzMzMzM7NxaKnQJmk6cDxwUVXyPGBZfrwMOLGVbZiZmZmZmfWzXVp8/XnAR4A9q9IGImIzQERslnRAi9swszaZsfjqEZ/fsOT4LkViZmZmZs0ad6FN0gnA1ohYI2lwHK9fCCwEGBgYYGhoaLyhjMmiWduHLW/btq1r2x4Lx2VmZmZmZtBaTdtRwHslHQfsBuwl6SvAFklTcy3bVGBrvRdHxFJgKcCcOXNicHCwhVCat6CmpuGSubvTrW2PxdDQkOMyMzMzM7Px92mLiHMiYnpEzABOAb4bEe8HVgLz82rzgRUtR2lmZmZmZtanOjFP2xLgWEnrgWPzspmZmZmZmY1DqwORABARQ8BQfvwocEw73tfMzMzMzKzfdaKmzaz0JO0m6SZJt0u6U9Inc7onhzczMzOzUnGhzfrVs8DREXEoMBuYK+kIPDm8mZmZmZVMW5pHTiS181h53qqJKSIC2JYXd823IE0OP5jTl5Ga/Z7d5fDMzMzMzF7gQpv1LUmTgDXAa4ELIuJGSU1NDl/UPIOjqcxDODA5Pf7cpStqnh/59UV+jl6bA7DX4jUzM7Pe5UKb9a2IeA6YLWkf4EpJh4zhtYXMMziayjyEi2Zt59y1Y9+9N5w22OaImtdrcwAWFa+k3YDrgJeQjuFXRMTHJU0BLgdmABuAkyPi8a4HaGZmZm3nPm3W9yLiCVIzyLnkyeEBRpoc3qxA7o9pZmbWZ1xos74kaf9cw4akycA7gbvx5PBWcpE06o+5LKcvA07sfnRmZmbWCW4eaf1qKrAs92t7EbA8Iq6SdAOwXNLpwAPASUUGaVZPp/tj1uuvV+kvWVFEf76y9iN0XGZm1mkutFlfiogfAYfVSffk8FZ6ne6PWa+/3oLakXUL6P9Y1n6PjsvMzDrNhTYze0HtlBe1PAVGuUTEE5KGqOqPmWvZ3B/TzMxsAnGhzcysh0jaH/hlLrBV+mN+hh39MZdQgv6YnvPSzMysfVxoMzPrLe6PaWZm1mdcaDMz6yHuj2lmZtZ/POS/mZmZmZlZibnQZmZmZmZmVmIutJmZmZmZmZXYuAttknaTdJOk2yXdKemTOX2KpFWS1uf7fdsXrpmZmZmZWX9ppabtWeDoiDgUmA3MlXQEsBhYHREzgdV52czMzMzMzMZh3IW2SLblxV3zLYB5wLKcvgw4sZUAzczMzMzM+llLQ/7neYLWAK8FLoiIGyUNRMRmgIjYLOmABq9dCCwEGBgYYGhoqJVQmrZo1vZhy9u2bRu27drnuxVXrdq4yqKscZmZmZmZTVQtFdoi4jlgtqR9gCslHTKG1y4FlgLMmTMnBgcHWwmlaQsWXz1s+ZK5u1O97drnN5w2SBGGhobo1ncyFmWNy8zMzMxsomrL6JER8QQwBMwFtkiaCpDvt7ZjG2ZmZmZmZv2oldEj9881bEiaDLwTuBtYCczPq80HVrQYo5mZmZmZWd9qpXnkVGBZ7tf2ImB5RFwl6QZguaTTgQeAk9oQp5mZmZmZWV8ad6EtIn4EHFYn/VHgmFaCMrNymlHb53PJ8QVFYmZmZtY/2tKnzczMzMzMzDrDhTYzMzMzM7MSa2nIfzMz609uKmtmZtY9rmkzMzMzMzMrMRfazMzMzMzMSszNI60vSToI+DLwcuB5YGlEnC9pCnA5MAPYAJwcEY8XFedoapuomZmZmdnE45o261fbgUUR8QbgCOAMSQcDi4HVETETWJ2XzczMzMwK40Kb9aWI2BwRt+bHTwPrgGnAPGBZXm0ZcGIhAZqZmZmZZW4eaX1P0gzSRPE3AgMRsRlSwU7SAQ1esxBYCDAwMMDQ0FB3gq2xaNb2uukDkxs/107t/Nzbtm0r7Hscj6LiLWvTXjfVNTMz6xwX2qyvSdoD+Drw4Yh4SlJTr4uIpcBSgDlz5sTg4GDHYhzJggYnyotmbefctZ3fvTecNti29xoaGqKo73E8Coy30rT3Vkl7AmskrQIWkJr2LpG0mNS09+wiAjQzM7P2cvNI61uSdiUV2C6NiG/k5C2SpubnpwJbi4rPrB437TUzM+s/rmmzvqRUpfZFYF1EfLbqqZXAfGBJvl9RQHhmTelU0956TT9bbW7bjqakZW1C67jMzKzTXGizfnUU8AFgraTbctpHSYW15ZJOBx4ATiomPLORdbJpb72mn42a4jarHU1py9qE1nGZmVmnudBmfSkirgcaneUe081YzMZqpKa9uZbNTXvNzMwmEBfaRlE7ItqGJccXFImZWXea9q596MmWa9bMzMysfcY9EImkgyRdK2mdpDslnZXTp0haJWl9vt+3feGamfW9StPeoyXdlm/HkQprx0paDxybl83MzGwCaKWmrS+HnR6t5q3eXEWunTOzdnHTXjMzs/4z7po2DzttZmZmZmbWeW2Zp22kYaeBusNOm5mZmZmZ2ehaHohkvMNONzNXUDusfejJYcuLZg1/vnYem7HORdTMXEbj+WxlnV+nrHGZmZmZmU1ULRXaWhl2upm5gtphtBHQLpm7+7B5bMY6Ylrt3EP1Xj+e+YnKOr9OWeMyMzMzM5uoWhk9crRhp6HFYafNzMzMzMz6XSs1bZVhp9dKui2nfZQ0zPRySacDDwAntRShmZmZmZlZHxt3oc3DTpuZmZmZmXVeywOR9Lt687KZmZmZmZm1S1uG/DczMzMzM7POcKHNzMzMzMysxFxoMzMzMzMzKzEX2szMzMzMzErMhTYzMzMzM7MSc6HNzMzMzMysxFxoMzMzMzMzKzEX2szMzMzMzErMk2sXoHZC7g1Lji8oEjMzMzMzKzvXtJmZmZmZmZWYC23WlyRdLGmrpDuq0qZIWiVpfb7ft8gYzczMzMzAhTbWPvQkMxZf/cLN+sYlwNyatMXA6oiYCazOy2al44sOZmZm/aXvC23WnyLiOuCxmuR5wLL8eBlwYjdjMhuDS/BFBzMzs77hgUjMdhiIiM0AEbFZ0gGNVpS0EFgIMDAwwNDQUHcirLFo1va66QOTGz/XTu383Nu2bSvsexyPIuONiOskzahJngcM5sfLgCHg7O5FZWZmZp3iQpvZOETEUmApwJw5c2JwcLCQOBY0aNK7aNZ2zl3b+d17w2mDbXuvoaEhivoex6OE8TZ10aGZCw6dKPTXbmftQ08OW541be9R36OsBXvHZWZmndbSWZ2ki4ETgK0RcUhOmwJcDswANgAnR8TjrYVp1hVbJE3NJ7xTga1FB2TWbs1ccPjcpSvaXuivLeDXXnBo5gJACQvKgOMyM7POa/Vf+RLg88CXq9Iq/SqWSFqcl7vWRKeMg4mUMSarayUwH1iS71cUG47ZmPiig5mZ2QTVUqHN/SqsV0n6Kimf7idpI/BxUmFtuaTTgQeAk4qL0GzMSn3RwRevzMzMxq8TnV7a1q9iPMbaD6NbAzaMpN5nL2tfhLLGNVYRcWqDp47paiBm4+CLDmZmZv2lsIFIOjWQQ6OBGRrp1oANI6nXl6OsfRHKGtdEVFszsWHJ8QVF0lgvxDgR+aKDmZlZf+lEacX9KszMbEx8AcDMzKyxTkyuXelXASXsV2FmZmZmZtZLWh3y3/0qzLrEAzmYmZmZ9adWR490vwozM+u4GYuvZtGs7S/0W3bzSTMz6yedaB5pZmZmZmZmbVLssIlmNqHVa9LpGhIzMzOzsXFNm5mZmZmZWYm50GZmZmZmZlZiPd88ciKOqOcO92ZmZmZmVuGaNjMzMzMzsxJzoc3MzMzMzKzEer555ETQahPP2te7OWVvmohNfc3MzMysda5pMzMzMzMzK7FS17R5jiczMzMzM+t3pS60mU0kbsZq1rxONBf2PmhmZr3KzSPNzMzMzMxKzIU2MzMzMzOzEnPzSLMO6cfRIPvxM1s5uA+0mZlNZD1XaPNJ4dh1ox+H+4qYmZmZmXWGm0eamZmZmZmVWMdq2iTNBc4HJgEXRcSSTm1romt37WIz79fumrLRtlmmmrlu5d1+rTVu9LkXzdrOgsVXjzkvFFHLO2Px1S/E261tNsvH3ua1mncqr2+Ud8fz/mM9Loy0zUWztjM4yvuXKe+amVljHalpkzQJuAB4D3AwcKqkgzuxLbN2ct61Xub8a2ZmNjF1qnnk4cC9EXFfRPwC+Bowr0PbMmsn513rZc6/ZmZmE5Aiov1vKv02MDciPpiXPwC8LSLOrFpnIbAwL74OuKftgTRnP+CRgrY9EseVvDIi9u/WxprJuzm9LPm3kbLmn5H0WszNxFu6/Ntk3i3rb+G4xqaVuLqad83MbGSd6tOmOmnDSocRsRRY2qHtN03SLRExp+g4ajmuwoyad6E8+beRXvydei3mksbblmNvST+b4xqjssZlZmZj16nmkRuBg6qWpwObOrQts3Zy3rVe5vxrZmY2AXWq0HYzMFPSqyS9GDgFWNmhbZm1k/Ou9TLnXzMzswmoI80jI2K7pDOBb5OGnb44Iu7sxLbaoKxN3BxXAXos746kF3+nXou5dPG2Mf+W7rNljmtsyhqXmZmNUUcGIjEzMzMzM7P26FTzSDMzMzMzM2sDF9rMzMzMzMxKrO8KbZI2SFor6TZJt+S0KZJWSVqf7/ftQhwXS9oq6Y6qtIZxSDpH0r2S7pH07i7H9QlJD+Xv7DZJx3U7LhuurPlnhHgPknStpHWS7pR0Vg/EvJukmyTdnmP+ZNljbgdJc3P890pa3MXtljqPSJok6YeSripLXJL2kXSFpLvz93ZkGeIyM7P267tCW/brETG7av6axcDqiJgJrM7LnXYJMLcmrW4ckg4mjQL3xvyaf5Q0qYtxAfzf/J3Njoh/KyAuG+4Sypl/GtkOLIqINwBHAGfkuMoc87PA0RFxKDAbmCvpiJLH3JIc7wXAe4CDgVPz5+qGsueRs4B1VctliOt84FsR8Xrg0BxfGeIyM7M269dCW615wLL8eBlwYqc3GBHXAY81Gcc84GsR8WxE3A/cCxzexbga6VpcNlxZ808jEbE5Im7Nj58mnVxOK3nMERHb8uKu+RaUOOY2OBy4NyLui4hfAF8jfa6OK3MekTQdOB64qCq50Lgk7QW8A/giQET8IiKeKDouMzPrjH4stAVwjaQ1khbmtIGI2AzpxAE4oKDYGsUxDXiwar2NOa2bzpT0o9wsr9Lcpgxx2Q5lzj8vkDQDOAy4kZLHnJvE3QZsBVZFROljblEpPkMJ88h5wEeA56vSio7r1cBPgS/lZpsXSdq9BHGZmVkH9GOh7aiIeDOp+c8Zkt5RdEBNUJ20bs7V8E/Aa0hNxDYD5+b0ouOy5pTmd5K0B/B14MMR8dRIq9ZJ63rMEfFcRMwGpgOHSzpkhNVLEXOLCv8MZcsjkk4AtkbEmmZfUietE9/hLsCbgX+KiMOAZxi5aX/hv62ZmY1f3xXaImJTvt8KXElqHrJF0lSAfL+1oPAaxbEROKhqvenApm4FFRFb8snr88CF7GhSU2hctpNS5p8KSbuSTsYvjYhv5ORSx1yRm50NkfoC9UTM41ToZyhpHjkKeK+kDaTmokdL+koJ4toIbMy1vwBXkApxRcdlZmYd0FeFNkm7S9qz8hh4F3AHsBKYn1ebD6woJsKGcawETpH0EkmvAmYCN3UrqMoJQPabpO+s8LhsJ6XMPwCSROp7sy4iPlv1VJlj3l/SPvnxZOCdwN1ljrkNbgZmSnqVpBeTBq5Y2Y0NlzWPRMQ5ETE9ImaQvo/vRsT7SxDXw8CDkl6Xk44B7io6LjMz64xdig6gywaAK9O5AbsAl0XEtyTdDCyXdDrwAHBSpwOR9FVgENhP0kbg48CSenFExJ2SlpP+kLcDZ0TEc12Ma1DSbFJTmg3AH3Y7LhuurPlnBEcBHwDW5j5iAB8tecxTgWV5hL0XAcsj4ipJN5Q45pZExHZJZwLfBiYBF0fEnV3afK/lkTLE9SfApbmAfR/w++S8WsLvy8zMWqAIN2k3MzMzMzMrq75qHmlmZmZmZtZrXGgzMzMzMzMrMRfazMzMzMzMSsyFNjMzMzMzsxJzoc3MzMzMzKzEXGgzMzMzMzMrMRfazMzMzMzMSuz/A7noFe+3J2puAAAAAElFTkSuQmCC\n",
      "text/plain": [
       "<Figure size 1080x1080 with 25 Axes>"
      ]
     },
     "metadata": {
      "needs_background": "light"
     },
     "output_type": "display_data"
    }
   ],
   "source": [
    "#Code task 26#\n",
    "#Call the hist method on 'yearsOpen' after filtering for values under 1000\n",
    "#Pass the argument bins=30 to hist(), but feel free to explore other values\n",
    "ski_data.loc[ski_data.yearsOpen < 1000].hist(bins=30,figsize=(15,15))\n",
    "plt.xlabel('Years open')\n",
    "plt.ylabel('Count')\n",
    "plt.title('Distribution of years open excluding 2019');"
   ]
  },
  {
   "cell_type": "markdown",
   "metadata": {},
   "source": [
    "The above distribution of years seems entirely plausible, including the 104 year value. You can certainly state that no resort will have been open for 2019 years! It likely means the resort opened in 2019. It could also mean the resort is due to open in 2019. You don't know when these data were gathered!"
   ]
  },
  {
   "cell_type": "markdown",
   "metadata": {},
   "source": [
    "Let's review the summary statistics for the years under 1000."
   ]
  },
  {
   "cell_type": "code",
   "execution_count": 44,
   "metadata": {},
   "outputs": [
    {
     "data": {
      "text/plain": [
       "count    328.000000\n",
       "mean      57.695122\n",
       "std       16.841182\n",
       "min        6.000000\n",
       "25%       50.000000\n",
       "50%       58.000000\n",
       "75%       68.250000\n",
       "max      104.000000\n",
       "Name: yearsOpen, dtype: float64"
      ]
     },
     "execution_count": 44,
     "metadata": {},
     "output_type": "execute_result"
    }
   ],
   "source": [
    "ski_data.yearsOpen[ski_data.yearsOpen < 1000].describe()"
   ]
  },
  {
   "cell_type": "markdown",
   "metadata": {},
   "source": [
    "The smallest number of years open otherwise is 6. You can't be sure whether this resort in question has been open zero years or one year and even whether the numbers are projections or actual. In any case, you would be adding a new youngest resort so it feels best to simply drop this row."
   ]
  },
  {
   "cell_type": "code",
   "execution_count": 45,
   "metadata": {},
   "outputs": [],
   "source": [
    "ski_data = ski_data[ski_data.yearsOpen < 1000]"
   ]
  },
  {
   "cell_type": "markdown",
   "metadata": {},
   "source": [
    "##### 2.6.4.2.4 fastSixes and Trams<a id='2.6.4.2.4_fastSixes_and_Trams'></a>"
   ]
  },
  {
   "cell_type": "markdown",
   "metadata": {},
   "source": [
    "The other features you had mild concern over, you will not investigate further. Perhaps take some care when using these features."
   ]
  },
  {
   "cell_type": "markdown",
   "metadata": {},
   "source": [
    "## 2.7 Derive State-wide Summary Statistics For Our Market Segment<a id='2.7_Derive_State-wide_Summary_Statistics_For_Our_Market_Segment'></a>"
   ]
  },
  {
   "cell_type": "markdown",
   "metadata": {},
   "source": [
    "You have, by this point removed one row, but it was for a resort that may not have opened yet, or perhaps in its first season. Using your business knowledge, you know that state-wide supply and demand of certain skiing resources may well factor into pricing strategies. Does a resort dominate the available night skiing in a state? Or does it account for a large proportion of the total skiable terrain or days open?\n",
    "\n",
    "If you want to add any features to your data that captures the state-wide market size, you should do this now, before dropping any more rows. In the next section, you'll drop rows with missing price information. Although you don't know what those resorts charge for their tickets, you do know the resorts exists and have been open for at least six years. Thus, you'll now calculate some state-wide summary statistics for later use."
   ]
  },
  {
   "cell_type": "markdown",
   "metadata": {},
   "source": [
    "Many features in your data pertain to chairlifts, that is for getting people around each resort. These aren't relevant, nor are the features relating to altitudes. Features that you may be interested in are:\n",
    "\n",
    "* TerrainParks\n",
    "* SkiableTerrain_ac\n",
    "* daysOpenLastYear\n",
    "* NightSkiing_ac\n",
    "\n",
    "When you think about it, these are features it makes sense to sum: the total number of terrain parks, the total skiable area, the total number of days open, and the total area available for night skiing. You might consider the total number of ski runs, but understand that the skiable area is more informative than just a number of runs."
   ]
  },
  {
   "cell_type": "markdown",
   "metadata": {},
   "source": [
    "A fairly new groupby behaviour is [named aggregation](https://pandas-docs.github.io/pandas-docs-travis/whatsnew/v0.25.0.html). This allows us to clearly perform the aggregations you want whilst also creating informative output column names."
   ]
  },
  {
   "cell_type": "code",
   "execution_count": 46,
   "metadata": {},
   "outputs": [
    {
     "data": {
      "text/html": [
       "<div>\n",
       "<style scoped>\n",
       "    .dataframe tbody tr th:only-of-type {\n",
       "        vertical-align: middle;\n",
       "    }\n",
       "\n",
       "    .dataframe tbody tr th {\n",
       "        vertical-align: top;\n",
       "    }\n",
       "\n",
       "    .dataframe thead th {\n",
       "        text-align: right;\n",
       "    }\n",
       "</style>\n",
       "<table border=\"1\" class=\"dataframe\">\n",
       "  <thead>\n",
       "    <tr style=\"text-align: right;\">\n",
       "      <th></th>\n",
       "      <th>state</th>\n",
       "      <th>resorts_per_state</th>\n",
       "      <th>state_total_skiable_area_ac</th>\n",
       "      <th>state_total_days_open</th>\n",
       "      <th>state_total_terrain_parks</th>\n",
       "      <th>state_total_nightskiing_ac</th>\n",
       "    </tr>\n",
       "  </thead>\n",
       "  <tbody>\n",
       "    <tr>\n",
       "      <th>0</th>\n",
       "      <td>Alaska</td>\n",
       "      <td>3</td>\n",
       "      <td>2280.0</td>\n",
       "      <td>345.0</td>\n",
       "      <td>4.0</td>\n",
       "      <td>580.0</td>\n",
       "    </tr>\n",
       "    <tr>\n",
       "      <th>1</th>\n",
       "      <td>Arizona</td>\n",
       "      <td>2</td>\n",
       "      <td>1577.0</td>\n",
       "      <td>237.0</td>\n",
       "      <td>6.0</td>\n",
       "      <td>80.0</td>\n",
       "    </tr>\n",
       "    <tr>\n",
       "      <th>2</th>\n",
       "      <td>California</td>\n",
       "      <td>21</td>\n",
       "      <td>25948.0</td>\n",
       "      <td>2738.0</td>\n",
       "      <td>81.0</td>\n",
       "      <td>587.0</td>\n",
       "    </tr>\n",
       "    <tr>\n",
       "      <th>3</th>\n",
       "      <td>Colorado</td>\n",
       "      <td>22</td>\n",
       "      <td>43682.0</td>\n",
       "      <td>3258.0</td>\n",
       "      <td>74.0</td>\n",
       "      <td>428.0</td>\n",
       "    </tr>\n",
       "    <tr>\n",
       "      <th>4</th>\n",
       "      <td>Connecticut</td>\n",
       "      <td>5</td>\n",
       "      <td>358.0</td>\n",
       "      <td>353.0</td>\n",
       "      <td>10.0</td>\n",
       "      <td>256.0</td>\n",
       "    </tr>\n",
       "  </tbody>\n",
       "</table>\n",
       "</div>"
      ],
      "text/plain": [
       "         state  resorts_per_state  state_total_skiable_area_ac  \\\n",
       "0       Alaska                  3                       2280.0   \n",
       "1      Arizona                  2                       1577.0   \n",
       "2   California                 21                      25948.0   \n",
       "3     Colorado                 22                      43682.0   \n",
       "4  Connecticut                  5                        358.0   \n",
       "\n",
       "   state_total_days_open  state_total_terrain_parks  \\\n",
       "0                  345.0                        4.0   \n",
       "1                  237.0                        6.0   \n",
       "2                 2738.0                       81.0   \n",
       "3                 3258.0                       74.0   \n",
       "4                  353.0                       10.0   \n",
       "\n",
       "   state_total_nightskiing_ac  \n",
       "0                       580.0  \n",
       "1                        80.0  \n",
       "2                       587.0  \n",
       "3                       428.0  \n",
       "4                       256.0  "
      ]
     },
     "execution_count": 46,
     "metadata": {},
     "output_type": "execute_result"
    }
   ],
   "source": [
    "#Code task 27#\n",
    "#Add named aggregations for the sum of 'daysOpenLastYear', 'TerrainParks', and 'NightSkiing_ac'\n",
    "#call them 'state_total_days_open', 'state_total_terrain_parks', and 'state_total_nightskiing_ac',\n",
    "#respectively\n",
    "#Finally, add a call to the reset_index() method (we recommend you experiment with and without this to see\n",
    "#what it does)\n",
    "state_summary = ski_data.groupby('state').agg(\n",
    "    resorts_per_state=pd.NamedAgg(column='Name', aggfunc='size'), #could pick any column here\n",
    "    state_total_skiable_area_ac=pd.NamedAgg(column='SkiableTerrain_ac', aggfunc='sum'),\n",
    "    state_total_days_open=pd.NamedAgg(column='daysOpenLastYear', aggfunc='sum'),\n",
    "    state_total_terrain_parks=pd.NamedAgg(column='TerrainParks', aggfunc='sum'),\n",
    "    state_total_nightskiing_ac=pd.NamedAgg(column='NightSkiing_ac', aggfunc='sum')\n",
    ").reset_index()\n",
    "state_summary.head()"
   ]
  },
  {
   "cell_type": "markdown",
   "metadata": {},
   "source": [
    "## 2.8 Drop Rows With No Price Data<a id='2.8_Drop_Rows_With_No_Price_Data'></a>"
   ]
  },
  {
   "cell_type": "markdown",
   "metadata": {},
   "source": [
    "You know there are two columns that refer to price: 'AdultWeekend' and 'AdultWeekday'. You can calculate the number of price values missing per row. This will obviously have to be either 0, 1, or 2, where 0 denotes no price values are missing and 2 denotes that both are missing."
   ]
  },
  {
   "cell_type": "code",
   "execution_count": 47,
   "metadata": {},
   "outputs": [
    {
     "data": {
      "text/plain": [
       "0    82.317073\n",
       "2    14.329268\n",
       "1     3.353659\n",
       "dtype: float64"
      ]
     },
     "execution_count": 47,
     "metadata": {},
     "output_type": "execute_result"
    }
   ],
   "source": [
    "missing_price = ski_data[['AdultWeekend', 'AdultWeekday']].isnull().sum(axis=1)\n",
    "missing_price.value_counts()/len(missing_price) * 100"
   ]
  },
  {
   "cell_type": "markdown",
   "metadata": {},
   "source": [
    "About 14% of the rows have no price data. As the price is your target, these rows are of no use. Time to lose them."
   ]
  },
  {
   "cell_type": "code",
   "execution_count": 48,
   "metadata": {},
   "outputs": [],
   "source": [
    "#Code task 28#\n",
    "#Use `missing_price` to remove rows from ski_data where both price values are missing\n",
    "ski_data = ski_data[missing_price != 2]"
   ]
  },
  {
   "cell_type": "markdown",
   "metadata": {},
   "source": [
    "## 2.9 Review distributions<a id='2.9_Review_distributions'></a>"
   ]
  },
  {
   "cell_type": "code",
   "execution_count": 49,
   "metadata": {},
   "outputs": [
    {
     "data": {
      "image/png": "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\n",
      "text/plain": [
       "<Figure size 1080x720 with 25 Axes>"
      ]
     },
     "metadata": {
      "needs_background": "light"
     },
     "output_type": "display_data"
    }
   ],
   "source": [
    "ski_data.hist(figsize=(15, 10))\n",
    "plt.subplots_adjust(hspace=0.5);"
   ]
  },
  {
   "cell_type": "markdown",
   "metadata": {},
   "source": [
    "These distributions are much better. There are clearly some skewed distributions, so keep an eye on `fastQuads`, `fastSixes`, and perhaps `trams`. These lack much variance away from 0 and may have a small number of relatively extreme values.  Models failing to rate a feature as important when domain knowledge tells you it should be is an issue to look out for, as is a model being overly influenced by some extreme values. If you build a good machine learning pipeline, hopefully it will be robust to such issues, but you may also wish to consider nonlinear transformations of features."
   ]
  },
  {
   "cell_type": "markdown",
   "metadata": {},
   "source": [
    "## 2.10 Population data<a id='2.10_Population_data'></a>"
   ]
  },
  {
   "cell_type": "markdown",
   "metadata": {},
   "source": [
    "Population and area data for the US states can be obtained from [wikipedia](https://simple.wikipedia.org/wiki/List_of_U.S._states). Listen, you should have a healthy concern about using data you \"found on the Internet\". Make sure it comes from a reputable source. This table of data is useful because it allows you to easily pull and incorporate an external data set. It also allows you to proceed with an analysis that includes state sizes and populations for your 'first cut' model. Be explicit about your source (we documented it here in this workflow) and ensure it is open to inspection. All steps are subject to review, and it may be that a client has a specific source of data they trust that you should use to rerun the analysis."
   ]
  },
  {
   "cell_type": "code",
   "execution_count": 50,
   "metadata": {},
   "outputs": [],
   "source": [
    "#Code task 29#\n",
    "#Use pandas' `read_html` method to read the table from the URL below\n",
    "states_url = 'https://simple.wikipedia.org/w/index.php?title=List_of_U.S._states&oldid=7168473'\n",
    "usa_states = pd.read_html(states_url)"
   ]
  },
  {
   "cell_type": "code",
   "execution_count": 51,
   "metadata": {},
   "outputs": [
    {
     "data": {
      "text/plain": [
       "list"
      ]
     },
     "execution_count": 51,
     "metadata": {},
     "output_type": "execute_result"
    }
   ],
   "source": [
    "type(usa_states)"
   ]
  },
  {
   "cell_type": "code",
   "execution_count": 52,
   "metadata": {},
   "outputs": [
    {
     "data": {
      "text/plain": [
       "1"
      ]
     },
     "execution_count": 52,
     "metadata": {},
     "output_type": "execute_result"
    }
   ],
   "source": [
    "len(usa_states)"
   ]
  },
  {
   "cell_type": "code",
   "execution_count": 53,
   "metadata": {},
   "outputs": [
    {
     "data": {
      "text/html": [
       "<div>\n",
       "<style scoped>\n",
       "    .dataframe tbody tr th:only-of-type {\n",
       "        vertical-align: middle;\n",
       "    }\n",
       "\n",
       "    .dataframe tbody tr th {\n",
       "        vertical-align: top;\n",
       "    }\n",
       "\n",
       "    .dataframe thead tr th {\n",
       "        text-align: left;\n",
       "    }\n",
       "</style>\n",
       "<table border=\"1\" class=\"dataframe\">\n",
       "  <thead>\n",
       "    <tr>\n",
       "      <th></th>\n",
       "      <th colspan=\"2\" halign=\"left\">Name &amp;postal abbs. [1]</th>\n",
       "      <th colspan=\"2\" halign=\"left\">Cities</th>\n",
       "      <th>Established[A]</th>\n",
       "      <th>Population[B][3]</th>\n",
       "      <th colspan=\"2\" halign=\"left\">Total area[4]</th>\n",
       "      <th colspan=\"2\" halign=\"left\">Land area[4]</th>\n",
       "      <th colspan=\"2\" halign=\"left\">Water area[4]</th>\n",
       "      <th>Numberof Reps.</th>\n",
       "    </tr>\n",
       "    <tr>\n",
       "      <th></th>\n",
       "      <th>Name &amp;postal abbs. [1]</th>\n",
       "      <th>Name &amp;postal abbs. [1].1</th>\n",
       "      <th>Capital</th>\n",
       "      <th>Largest[5]</th>\n",
       "      <th>Established[A]</th>\n",
       "      <th>Population[B][3]</th>\n",
       "      <th>mi2</th>\n",
       "      <th>km2</th>\n",
       "      <th>mi2</th>\n",
       "      <th>km2</th>\n",
       "      <th>mi2</th>\n",
       "      <th>km2</th>\n",
       "      <th>Numberof Reps.</th>\n",
       "    </tr>\n",
       "  </thead>\n",
       "  <tbody>\n",
       "    <tr>\n",
       "      <th>0</th>\n",
       "      <td>Alabama</td>\n",
       "      <td>AL</td>\n",
       "      <td>Montgomery</td>\n",
       "      <td>Birmingham</td>\n",
       "      <td>Dec 14, 1819</td>\n",
       "      <td>4903185</td>\n",
       "      <td>52420</td>\n",
       "      <td>135767</td>\n",
       "      <td>50645</td>\n",
       "      <td>131171</td>\n",
       "      <td>1775</td>\n",
       "      <td>4597</td>\n",
       "      <td>7</td>\n",
       "    </tr>\n",
       "    <tr>\n",
       "      <th>1</th>\n",
       "      <td>Alaska</td>\n",
       "      <td>AK</td>\n",
       "      <td>Juneau</td>\n",
       "      <td>Anchorage</td>\n",
       "      <td>Jan 3, 1959</td>\n",
       "      <td>731545</td>\n",
       "      <td>665384</td>\n",
       "      <td>1723337</td>\n",
       "      <td>570641</td>\n",
       "      <td>1477953</td>\n",
       "      <td>94743</td>\n",
       "      <td>245384</td>\n",
       "      <td>1</td>\n",
       "    </tr>\n",
       "    <tr>\n",
       "      <th>2</th>\n",
       "      <td>Arizona</td>\n",
       "      <td>AZ</td>\n",
       "      <td>Phoenix</td>\n",
       "      <td>Phoenix</td>\n",
       "      <td>Feb 14, 1912</td>\n",
       "      <td>7278717</td>\n",
       "      <td>113990</td>\n",
       "      <td>295234</td>\n",
       "      <td>113594</td>\n",
       "      <td>294207</td>\n",
       "      <td>396</td>\n",
       "      <td>1026</td>\n",
       "      <td>9</td>\n",
       "    </tr>\n",
       "    <tr>\n",
       "      <th>3</th>\n",
       "      <td>Arkansas</td>\n",
       "      <td>AR</td>\n",
       "      <td>Little Rock</td>\n",
       "      <td>Little Rock</td>\n",
       "      <td>Jun 15, 1836</td>\n",
       "      <td>3017804</td>\n",
       "      <td>53179</td>\n",
       "      <td>137732</td>\n",
       "      <td>52035</td>\n",
       "      <td>134771</td>\n",
       "      <td>1143</td>\n",
       "      <td>2961</td>\n",
       "      <td>4</td>\n",
       "    </tr>\n",
       "    <tr>\n",
       "      <th>4</th>\n",
       "      <td>California</td>\n",
       "      <td>CA</td>\n",
       "      <td>Sacramento</td>\n",
       "      <td>Los Angeles</td>\n",
       "      <td>Sep 9, 1850</td>\n",
       "      <td>39512223</td>\n",
       "      <td>163695</td>\n",
       "      <td>423967</td>\n",
       "      <td>155779</td>\n",
       "      <td>403466</td>\n",
       "      <td>7916</td>\n",
       "      <td>20501</td>\n",
       "      <td>53</td>\n",
       "    </tr>\n",
       "  </tbody>\n",
       "</table>\n",
       "</div>"
      ],
      "text/plain": [
       "  Name &postal abbs. [1]                                Cities               \\\n",
       "  Name &postal abbs. [1] Name &postal abbs. [1].1      Capital   Largest[5]   \n",
       "0                Alabama                       AL   Montgomery   Birmingham   \n",
       "1                 Alaska                       AK       Juneau    Anchorage   \n",
       "2                Arizona                       AZ      Phoenix      Phoenix   \n",
       "3               Arkansas                       AR  Little Rock  Little Rock   \n",
       "4             California                       CA   Sacramento  Los Angeles   \n",
       "\n",
       "  Established[A] Population[B][3] Total area[4]          Land area[4]  \\\n",
       "  Established[A] Population[B][3]           mi2      km2          mi2   \n",
       "0   Dec 14, 1819          4903185         52420   135767        50645   \n",
       "1    Jan 3, 1959           731545        665384  1723337       570641   \n",
       "2   Feb 14, 1912          7278717        113990   295234       113594   \n",
       "3   Jun 15, 1836          3017804         53179   137732        52035   \n",
       "4    Sep 9, 1850         39512223        163695   423967       155779   \n",
       "\n",
       "           Water area[4]         Numberof Reps.  \n",
       "       km2           mi2     km2 Numberof Reps.  \n",
       "0   131171          1775    4597              7  \n",
       "1  1477953         94743  245384              1  \n",
       "2   294207           396    1026              9  \n",
       "3   134771          1143    2961              4  \n",
       "4   403466          7916   20501             53  "
      ]
     },
     "execution_count": 53,
     "metadata": {},
     "output_type": "execute_result"
    }
   ],
   "source": [
    "usa_states = usa_states[0]\n",
    "usa_states.head()"
   ]
  },
  {
   "cell_type": "markdown",
   "metadata": {},
   "source": [
    "Note, in even the last year, the capability of `pd.read_html()` has improved. The merged cells you see in the web table are now handled much more conveniently, with 'Phoenix' now being duplicated so the subsequent columns remain aligned. But check this anyway. If you extract the established date column, you should just get dates. Recall previously you used the `.loc` accessor, because you were using labels. Now you want to refer to a column by its index position and so use `.iloc`. For a discussion on the difference use cases of `.loc` and `.iloc` refer to the [pandas documentation](https://pandas.pydata.org/pandas-docs/stable/user_guide/indexing.html)."
   ]
  },
  {
   "cell_type": "code",
   "execution_count": 54,
   "metadata": {},
   "outputs": [],
   "source": [
    "#Code task 30#\n",
    "#Use the iloc accessor to get the pandas Series for column number 4 from `usa_states`\n",
    "#It should be a column of dates\n",
    "established = usa_states.iloc[:, 4]"
   ]
  },
  {
   "cell_type": "code",
   "execution_count": 55,
   "metadata": {},
   "outputs": [
    {
     "data": {
      "text/plain": [
       "0     Dec 14, 1819\n",
       "1      Jan 3, 1959\n",
       "2     Feb 14, 1912\n",
       "3     Jun 15, 1836\n",
       "4      Sep 9, 1850\n",
       "5      Aug 1, 1876\n",
       "6      Jan 9, 1788\n",
       "7      Dec 7, 1787\n",
       "8      Mar 3, 1845\n",
       "9      Jan 2, 1788\n",
       "10    Aug 21, 1959\n",
       "11     Jul 3, 1890\n",
       "12     Dec 3, 1818\n",
       "13    Dec 11, 1816\n",
       "14    Dec 28, 1846\n",
       "15    Jan 29, 1861\n",
       "16     Jun 1, 1792\n",
       "17    Apr 30, 1812\n",
       "18    Mar 15, 1820\n",
       "19    Apr 28, 1788\n",
       "20     Feb 6, 1788\n",
       "21    Jan 26, 1837\n",
       "22    May 11, 1858\n",
       "23    Dec 10, 1817\n",
       "24    Aug 10, 1821\n",
       "25     Nov 8, 1889\n",
       "26     Mar 1, 1867\n",
       "27    Oct 31, 1864\n",
       "28    Jun 21, 1788\n",
       "29    Dec 18, 1787\n",
       "30     Jan 6, 1912\n",
       "31    Jul 26, 1788\n",
       "32    Nov 21, 1789\n",
       "33     Nov 2, 1889\n",
       "34     Mar 1, 1803\n",
       "35    Nov 16, 1907\n",
       "36    Feb 14, 1859\n",
       "37    Dec 12, 1787\n",
       "38    May 29, 1790\n",
       "39    May 23, 1788\n",
       "40     Nov 2, 1889\n",
       "41     Jun 1, 1796\n",
       "42    Dec 29, 1845\n",
       "43     Jan 4, 1896\n",
       "44     Mar 4, 1791\n",
       "45    Jun 25, 1788\n",
       "46    Nov 11, 1889\n",
       "47    Jun 20, 1863\n",
       "48    May 29, 1848\n",
       "49    Jul 10, 1890\n",
       "Name: (Established[A], Established[A]), dtype: object"
      ]
     },
     "execution_count": 55,
     "metadata": {},
     "output_type": "execute_result"
    }
   ],
   "source": [
    "established"
   ]
  },
  {
   "cell_type": "markdown",
   "metadata": {},
   "source": [
    "Extract the state name, population, and total area (square miles) columns."
   ]
  },
  {
   "cell_type": "code",
   "execution_count": 56,
   "metadata": {},
   "outputs": [
    {
     "data": {
      "text/html": [
       "<div>\n",
       "<style scoped>\n",
       "    .dataframe tbody tr th:only-of-type {\n",
       "        vertical-align: middle;\n",
       "    }\n",
       "\n",
       "    .dataframe tbody tr th {\n",
       "        vertical-align: top;\n",
       "    }\n",
       "\n",
       "    .dataframe thead th {\n",
       "        text-align: right;\n",
       "    }\n",
       "</style>\n",
       "<table border=\"1\" class=\"dataframe\">\n",
       "  <thead>\n",
       "    <tr style=\"text-align: right;\">\n",
       "      <th></th>\n",
       "      <th>state</th>\n",
       "      <th>state_population</th>\n",
       "      <th>state_area_sq_miles</th>\n",
       "    </tr>\n",
       "  </thead>\n",
       "  <tbody>\n",
       "    <tr>\n",
       "      <th>0</th>\n",
       "      <td>Alabama</td>\n",
       "      <td>4903185</td>\n",
       "      <td>52420</td>\n",
       "    </tr>\n",
       "    <tr>\n",
       "      <th>1</th>\n",
       "      <td>Alaska</td>\n",
       "      <td>731545</td>\n",
       "      <td>665384</td>\n",
       "    </tr>\n",
       "    <tr>\n",
       "      <th>2</th>\n",
       "      <td>Arizona</td>\n",
       "      <td>7278717</td>\n",
       "      <td>113990</td>\n",
       "    </tr>\n",
       "    <tr>\n",
       "      <th>3</th>\n",
       "      <td>Arkansas</td>\n",
       "      <td>3017804</td>\n",
       "      <td>53179</td>\n",
       "    </tr>\n",
       "    <tr>\n",
       "      <th>4</th>\n",
       "      <td>California</td>\n",
       "      <td>39512223</td>\n",
       "      <td>163695</td>\n",
       "    </tr>\n",
       "  </tbody>\n",
       "</table>\n",
       "</div>"
      ],
      "text/plain": [
       "        state  state_population  state_area_sq_miles\n",
       "0     Alabama           4903185                52420\n",
       "1      Alaska            731545               665384\n",
       "2     Arizona           7278717               113990\n",
       "3    Arkansas           3017804                53179\n",
       "4  California          39512223               163695"
      ]
     },
     "execution_count": 56,
     "metadata": {},
     "output_type": "execute_result"
    }
   ],
   "source": [
    "#Code task 31#\n",
    "#Now use the iloc accessor again to extract columns 0, 5, and 6 and the dataframe's `copy()` method\n",
    "#Set the names of these extracted columns to 'state', 'state_population', and 'state_area_sq_miles',\n",
    "#respectively.\n",
    "usa_states_sub = usa_states.iloc[:, [0,5,6]].copy()\n",
    "usa_states_sub.columns = ['state', 'state_population', 'state_area_sq_miles']\n",
    "usa_states_sub.head()"
   ]
  },
  {
   "cell_type": "markdown",
   "metadata": {},
   "source": [
    "Do you have all the ski data states accounted for?"
   ]
  },
  {
   "cell_type": "code",
   "execution_count": 57,
   "metadata": {},
   "outputs": [
    {
     "data": {
      "text/plain": [
       "{'Massachusetts', 'Pennsylvania', 'Rhode Island', 'Virginia'}"
      ]
     },
     "execution_count": 57,
     "metadata": {},
     "output_type": "execute_result"
    }
   ],
   "source": [
    "#Code task 32#\n",
    "#Find the states in `state_summary` that are not in `usa_states_sub`\n",
    "#Hint: set(list1) - set(list2) is an easy way to get items in list1 that are not in list2\n",
    "missing_states = set(state_summary.state) - set(usa_states_sub.state)\n",
    "missing_states"
   ]
  },
  {
   "cell_type": "markdown",
   "metadata": {},
   "source": [
    "No?? "
   ]
  },
  {
   "cell_type": "markdown",
   "metadata": {},
   "source": [
    "If you look at the table on the web, you can perhaps start to guess what the problem is. You can confirm your suspicion by pulling out state names that _contain_ 'Massachusetts', 'Pennsylvania', or 'Virginia' from usa_states_sub:"
   ]
  },
  {
   "cell_type": "code",
   "execution_count": 58,
   "metadata": {},
   "outputs": [
    {
     "data": {
      "text/plain": [
       "20    Massachusetts[C]\n",
       "37     Pennsylvania[C]\n",
       "38     Rhode Island[D]\n",
       "45         Virginia[C]\n",
       "47       West Virginia\n",
       "Name: state, dtype: object"
      ]
     },
     "execution_count": 58,
     "metadata": {},
     "output_type": "execute_result"
    }
   ],
   "source": [
    "usa_states_sub.state[usa_states_sub.state.str.contains('Massachusetts|Pennsylvania|Rhode Island|Virginia')]"
   ]
  },
  {
   "cell_type": "markdown",
   "metadata": {},
   "source": [
    "Delete square brackets and their contents and try again:"
   ]
  },
  {
   "cell_type": "code",
   "execution_count": 59,
   "metadata": {},
   "outputs": [
    {
     "data": {
      "text/plain": [
       "20    Massachusetts\n",
       "37     Pennsylvania\n",
       "38     Rhode Island\n",
       "45         Virginia\n",
       "47    West Virginia\n",
       "Name: state, dtype: object"
      ]
     },
     "execution_count": 59,
     "metadata": {},
     "output_type": "execute_result"
    }
   ],
   "source": [
    "#Code task 33#\n",
    "#Use pandas' Series' `replace()` method to replace anything within square brackets (including the brackets)\n",
    "#with the empty string. Do this inplace, so you need to specify the arguments:\n",
    "#to_replace='\\[.*\\]' #literal square bracket followed by anything or nothing followed by literal closing bracket\n",
    "#value='' #empty string as replacement\n",
    "#regex=True #we used a regex in our `to_replace` argument\n",
    "#inplace=True #Do this \"in place\"\n",
    "usa_states_sub.state.replace(to_replace='\\[.*\\]', value='', regex=True, inplace=True)\n",
    "usa_states_sub.state[usa_states_sub.state.str.contains('Massachusetts|Pennsylvania|Rhode Island|Virginia')]"
   ]
  },
  {
   "cell_type": "code",
   "execution_count": 60,
   "metadata": {},
   "outputs": [
    {
     "data": {
      "text/plain": [
       "set()"
      ]
     },
     "execution_count": 60,
     "metadata": {},
     "output_type": "execute_result"
    }
   ],
   "source": [
    "#Code task 34#\n",
    "#And now verify none of our states are missing by checking that there are no states in\n",
    "#state_summary that are not in usa_states_sub (as earlier using `set()`)\n",
    "missing_states = set(state_summary.state) - set(usa_states_sub.state)\n",
    "missing_states"
   ]
  },
  {
   "cell_type": "markdown",
   "metadata": {},
   "source": [
    "Better! You have an empty set for missing states now. You can confidently add the population and state area columns to the ski resort data."
   ]
  },
  {
   "cell_type": "code",
   "execution_count": 61,
<<<<<<< HEAD
   "metadata": {
    "scrolled": true
   },
=======
   "metadata": {},
>>>>>>> ba43fb82e0ac7821fcf70292cfa5d87ac7f15ac4
   "outputs": [
    {
     "data": {
      "text/html": [
       "<div>\n",
       "<style scoped>\n",
       "    .dataframe tbody tr th:only-of-type {\n",
       "        vertical-align: middle;\n",
       "    }\n",
       "\n",
       "    .dataframe tbody tr th {\n",
       "        vertical-align: top;\n",
       "    }\n",
       "\n",
       "    .dataframe thead th {\n",
       "        text-align: right;\n",
       "    }\n",
       "</style>\n",
       "<table border=\"1\" class=\"dataframe\">\n",
       "  <thead>\n",
       "    <tr style=\"text-align: right;\">\n",
       "      <th></th>\n",
       "      <th>state</th>\n",
       "      <th>resorts_per_state</th>\n",
       "      <th>state_total_skiable_area_ac</th>\n",
       "      <th>state_total_days_open</th>\n",
       "      <th>state_total_terrain_parks</th>\n",
       "      <th>state_total_nightskiing_ac</th>\n",
       "      <th>state_population</th>\n",
       "      <th>state_area_sq_miles</th>\n",
       "    </tr>\n",
       "  </thead>\n",
       "  <tbody>\n",
       "    <tr>\n",
       "      <th>0</th>\n",
       "      <td>Alaska</td>\n",
       "      <td>3</td>\n",
       "      <td>2280.0</td>\n",
       "      <td>345.0</td>\n",
       "      <td>4.0</td>\n",
       "      <td>580.0</td>\n",
       "      <td>731545</td>\n",
       "      <td>665384</td>\n",
       "    </tr>\n",
       "    <tr>\n",
       "      <th>1</th>\n",
       "      <td>Arizona</td>\n",
       "      <td>2</td>\n",
       "      <td>1577.0</td>\n",
       "      <td>237.0</td>\n",
       "      <td>6.0</td>\n",
       "      <td>80.0</td>\n",
       "      <td>7278717</td>\n",
       "      <td>113990</td>\n",
       "    </tr>\n",
       "    <tr>\n",
       "      <th>2</th>\n",
       "      <td>California</td>\n",
       "      <td>21</td>\n",
       "      <td>25948.0</td>\n",
       "      <td>2738.0</td>\n",
       "      <td>81.0</td>\n",
       "      <td>587.0</td>\n",
       "      <td>39512223</td>\n",
       "      <td>163695</td>\n",
       "    </tr>\n",
       "    <tr>\n",
       "      <th>3</th>\n",
       "      <td>Colorado</td>\n",
       "      <td>22</td>\n",
       "      <td>43682.0</td>\n",
       "      <td>3258.0</td>\n",
       "      <td>74.0</td>\n",
       "      <td>428.0</td>\n",
       "      <td>5758736</td>\n",
       "      <td>104094</td>\n",
       "    </tr>\n",
       "    <tr>\n",
       "      <th>4</th>\n",
       "      <td>Connecticut</td>\n",
       "      <td>5</td>\n",
       "      <td>358.0</td>\n",
       "      <td>353.0</td>\n",
       "      <td>10.0</td>\n",
       "      <td>256.0</td>\n",
       "      <td>3565278</td>\n",
       "      <td>5543</td>\n",
       "    </tr>\n",
       "  </tbody>\n",
       "</table>\n",
       "</div>"
      ],
      "text/plain": [
       "         state  resorts_per_state  state_total_skiable_area_ac  \\\n",
       "0       Alaska                  3                       2280.0   \n",
       "1      Arizona                  2                       1577.0   \n",
       "2   California                 21                      25948.0   \n",
       "3     Colorado                 22                      43682.0   \n",
       "4  Connecticut                  5                        358.0   \n",
       "\n",
       "   state_total_days_open  state_total_terrain_parks  \\\n",
       "0                  345.0                        4.0   \n",
       "1                  237.0                        6.0   \n",
       "2                 2738.0                       81.0   \n",
       "3                 3258.0                       74.0   \n",
       "4                  353.0                       10.0   \n",
       "\n",
       "   state_total_nightskiing_ac  state_population  state_area_sq_miles  \n",
       "0                       580.0            731545               665384  \n",
       "1                        80.0           7278717               113990  \n",
       "2                       587.0          39512223               163695  \n",
       "3                       428.0           5758736               104094  \n",
       "4                       256.0           3565278                 5543  "
      ]
     },
     "execution_count": 61,
     "metadata": {},
     "output_type": "execute_result"
    }
   ],
   "source": [
    "#Code task 35#\n",
    "#Use 'state_summary's `merge()` method to combine our new data in 'usa_states_sub'\n",
    "#specify the arguments how='left' and on='state'\n",
    "state_summary = state_summary.merge(usa_states_sub, how='left', on='state')\n",
    "state_summary.head()"
   ]
  },
  {
   "cell_type": "markdown",
   "metadata": {},
   "source": [
    "Having created this data frame of summary statistics for various states, it would seem obvious to join this with the ski resort data to augment it with this additional data. You will do this, but not now. In the next notebook you will be exploring the data, including the relationships between the states. For that you want a separate row for each state, as you have here, and joining the data this soon means you'd need to separate and eliminate redundances in the state data when you wanted it."
   ]
  },
  {
   "cell_type": "markdown",
   "metadata": {},
   "source": [
    "## 2.11 Target Feature<a id='2.11_Target_Feature'></a>"
   ]
  },
  {
   "cell_type": "markdown",
   "metadata": {},
   "source": [
    "Finally, what will your target be when modelling ticket price? What relationship is there between weekday and weekend prices?"
   ]
  },
  {
   "cell_type": "code",
   "execution_count": 62,
   "metadata": {},
   "outputs": [
    {
     "data": {
      "image/png": "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\n",
      "text/plain": [
       "<Figure size 432x288 with 1 Axes>"
      ]
     },
     "metadata": {
      "needs_background": "light"
     },
     "output_type": "display_data"
    }
   ],
   "source": [
    "#Code task 36#\n",
    "#Use ski_data's `plot()` method to create a scatterplot (kind='scatter') with 'AdultWeekday' on the x-axis and\n",
    "#'AdultWeekend' on the y-axis\n",
    "ski_data.plot(x='AdultWeekday', y='AdultWeekend', kind='scatter');"
   ]
  },
  {
   "cell_type": "markdown",
   "metadata": {},
   "source": [
    "A couple of observations can be made. Firstly, there is a clear line where weekend and weekday prices are equal. Weekend prices being higher than weekday prices seem restricted to sub $100 resorts. Recall from the boxplot earlier that the distribution for weekday and weekend prices in Montana seemed equal. Is this confirmed in the actual data for each resort? Big Mountain resort is in Montana, so the relationship between these quantities in this state are particularly relevant."
   ]
  },
  {
   "cell_type": "code",
   "execution_count": 63,
   "metadata": {},
   "outputs": [
    {
     "data": {
      "text/html": [
       "<div>\n",
       "<style scoped>\n",
       "    .dataframe tbody tr th:only-of-type {\n",
       "        vertical-align: middle;\n",
       "    }\n",
       "\n",
       "    .dataframe tbody tr th {\n",
       "        vertical-align: top;\n",
       "    }\n",
       "\n",
       "    .dataframe thead th {\n",
       "        text-align: right;\n",
       "    }\n",
       "</style>\n",
       "<table border=\"1\" class=\"dataframe\">\n",
       "  <thead>\n",
       "    <tr style=\"text-align: right;\">\n",
       "      <th></th>\n",
       "      <th>AdultWeekend</th>\n",
       "      <th>AdultWeekday</th>\n",
       "    </tr>\n",
       "  </thead>\n",
       "  <tbody>\n",
       "    <tr>\n",
       "      <th>141</th>\n",
       "      <td>42.0</td>\n",
       "      <td>42.0</td>\n",
       "    </tr>\n",
       "    <tr>\n",
       "      <th>142</th>\n",
       "      <td>63.0</td>\n",
       "      <td>63.0</td>\n",
       "    </tr>\n",
       "    <tr>\n",
       "      <th>143</th>\n",
       "      <td>49.0</td>\n",
       "      <td>49.0</td>\n",
       "    </tr>\n",
       "    <tr>\n",
       "      <th>144</th>\n",
       "      <td>48.0</td>\n",
       "      <td>48.0</td>\n",
       "    </tr>\n",
       "    <tr>\n",
       "      <th>145</th>\n",
       "      <td>46.0</td>\n",
       "      <td>46.0</td>\n",
       "    </tr>\n",
       "    <tr>\n",
       "      <th>146</th>\n",
       "      <td>39.0</td>\n",
       "      <td>39.0</td>\n",
       "    </tr>\n",
       "    <tr>\n",
       "      <th>147</th>\n",
       "      <td>50.0</td>\n",
       "      <td>50.0</td>\n",
       "    </tr>\n",
       "    <tr>\n",
       "      <th>148</th>\n",
       "      <td>67.0</td>\n",
       "      <td>67.0</td>\n",
       "    </tr>\n",
       "    <tr>\n",
       "      <th>149</th>\n",
       "      <td>47.0</td>\n",
       "      <td>47.0</td>\n",
       "    </tr>\n",
       "    <tr>\n",
       "      <th>150</th>\n",
       "      <td>39.0</td>\n",
       "      <td>39.0</td>\n",
       "    </tr>\n",
       "    <tr>\n",
       "      <th>151</th>\n",
       "      <td>81.0</td>\n",
       "      <td>81.0</td>\n",
       "    </tr>\n",
       "  </tbody>\n",
       "</table>\n",
       "</div>"
      ],
      "text/plain": [
       "     AdultWeekend  AdultWeekday\n",
       "141          42.0          42.0\n",
       "142          63.0          63.0\n",
       "143          49.0          49.0\n",
       "144          48.0          48.0\n",
       "145          46.0          46.0\n",
       "146          39.0          39.0\n",
       "147          50.0          50.0\n",
       "148          67.0          67.0\n",
       "149          47.0          47.0\n",
       "150          39.0          39.0\n",
       "151          81.0          81.0"
      ]
     },
     "execution_count": 63,
     "metadata": {},
     "output_type": "execute_result"
    }
   ],
   "source": [
    "#Code task 37#\n",
    "#Use the loc accessor on ski_data to print the 'AdultWeekend' and 'AdultWeekday' columns for Montana only\n",
    "ski_data.loc[ski_data.state == 'Montana', ['AdultWeekend' , 'AdultWeekday']]"
   ]
  },
  {
   "cell_type": "markdown",
   "metadata": {},
   "source": [
    "Is there any reason to prefer weekend or weekday prices? Which is missing the least?"
   ]
  },
  {
   "cell_type": "code",
   "execution_count": 64,
   "metadata": {},
   "outputs": [
    {
     "data": {
      "text/plain": [
       "AdultWeekend    4\n",
       "AdultWeekday    7\n",
       "dtype: int64"
      ]
     },
     "execution_count": 64,
     "metadata": {},
     "output_type": "execute_result"
    }
   ],
   "source": [
    "ski_data[['AdultWeekend', 'AdultWeekday']].isnull().sum()"
   ]
  },
  {
   "cell_type": "code",
   "execution_count": 65,
   "metadata": {},
   "outputs": [
    {
     "data": {
      "text/html": [
       "<div>\n",
       "<style scoped>\n",
       "    .dataframe tbody tr th:only-of-type {\n",
       "        vertical-align: middle;\n",
       "    }\n",
       "\n",
       "    .dataframe tbody tr th {\n",
       "        vertical-align: top;\n",
       "    }\n",
       "\n",
       "    .dataframe thead th {\n",
       "        text-align: right;\n",
       "    }\n",
       "</style>\n",
       "<table border=\"1\" class=\"dataframe\">\n",
       "  <thead>\n",
       "    <tr style=\"text-align: right;\">\n",
       "      <th></th>\n",
       "      <th>Name</th>\n",
       "      <th>Region</th>\n",
       "      <th>state</th>\n",
       "      <th>summit_elev</th>\n",
       "      <th>vertical_drop</th>\n",
       "      <th>base_elev</th>\n",
       "      <th>trams</th>\n",
       "      <th>fastSixes</th>\n",
       "      <th>fastQuads</th>\n",
       "      <th>quad</th>\n",
       "      <th>...</th>\n",
       "      <th>LongestRun_mi</th>\n",
       "      <th>SkiableTerrain_ac</th>\n",
       "      <th>Snow Making_ac</th>\n",
       "      <th>daysOpenLastYear</th>\n",
       "      <th>yearsOpen</th>\n",
       "      <th>averageSnowfall</th>\n",
       "      <th>AdultWeekday</th>\n",
       "      <th>AdultWeekend</th>\n",
       "      <th>projectedDaysOpen</th>\n",
       "      <th>NightSkiing_ac</th>\n",
       "    </tr>\n",
       "  </thead>\n",
       "  <tbody>\n",
       "    <tr>\n",
       "      <th>0</th>\n",
       "      <td>Alyeska Resort</td>\n",
       "      <td>Alaska</td>\n",
       "      <td>Alaska</td>\n",
       "      <td>3939</td>\n",
       "      <td>2500</td>\n",
       "      <td>250</td>\n",
       "      <td>1</td>\n",
       "      <td>0</td>\n",
       "      <td>2</td>\n",
       "      <td>2</td>\n",
       "      <td>...</td>\n",
       "      <td>1.0</td>\n",
       "      <td>1610.0</td>\n",
       "      <td>113.0</td>\n",
       "      <td>150.0</td>\n",
       "      <td>60.0</td>\n",
       "      <td>669.0</td>\n",
       "      <td>65.0</td>\n",
       "      <td>85.0</td>\n",
       "      <td>150.0</td>\n",
       "      <td>550.0</td>\n",
       "    </tr>\n",
       "    <tr>\n",
       "      <th>1</th>\n",
       "      <td>Eaglecrest Ski Area</td>\n",
       "      <td>Alaska</td>\n",
       "      <td>Alaska</td>\n",
       "      <td>2600</td>\n",
       "      <td>1540</td>\n",
       "      <td>1200</td>\n",
       "      <td>0</td>\n",
       "      <td>0</td>\n",
       "      <td>0</td>\n",
       "      <td>0</td>\n",
       "      <td>...</td>\n",
       "      <td>2.0</td>\n",
       "      <td>640.0</td>\n",
       "      <td>60.0</td>\n",
       "      <td>45.0</td>\n",
       "      <td>44.0</td>\n",
       "      <td>350.0</td>\n",
       "      <td>47.0</td>\n",
       "      <td>53.0</td>\n",
       "      <td>90.0</td>\n",
       "      <td>NaN</td>\n",
       "    </tr>\n",
       "    <tr>\n",
       "      <th>2</th>\n",
       "      <td>Hilltop Ski Area</td>\n",
       "      <td>Alaska</td>\n",
       "      <td>Alaska</td>\n",
       "      <td>2090</td>\n",
       "      <td>294</td>\n",
       "      <td>1796</td>\n",
       "      <td>0</td>\n",
       "      <td>0</td>\n",
       "      <td>0</td>\n",
       "      <td>0</td>\n",
       "      <td>...</td>\n",
       "      <td>1.0</td>\n",
       "      <td>30.0</td>\n",
       "      <td>30.0</td>\n",
       "      <td>150.0</td>\n",
       "      <td>36.0</td>\n",
       "      <td>69.0</td>\n",
       "      <td>30.0</td>\n",
       "      <td>34.0</td>\n",
       "      <td>152.0</td>\n",
       "      <td>30.0</td>\n",
       "    </tr>\n",
       "    <tr>\n",
       "      <th>3</th>\n",
       "      <td>Arizona Snowbowl</td>\n",
       "      <td>Arizona</td>\n",
       "      <td>Arizona</td>\n",
       "      <td>11500</td>\n",
       "      <td>2300</td>\n",
       "      <td>9200</td>\n",
       "      <td>0</td>\n",
       "      <td>1</td>\n",
       "      <td>0</td>\n",
       "      <td>2</td>\n",
       "      <td>...</td>\n",
       "      <td>2.0</td>\n",
       "      <td>777.0</td>\n",
       "      <td>104.0</td>\n",
       "      <td>122.0</td>\n",
       "      <td>81.0</td>\n",
       "      <td>260.0</td>\n",
       "      <td>89.0</td>\n",
       "      <td>89.0</td>\n",
       "      <td>122.0</td>\n",
       "      <td>NaN</td>\n",
       "    </tr>\n",
       "    <tr>\n",
       "      <th>4</th>\n",
       "      <td>Sunrise Park Resort</td>\n",
       "      <td>Arizona</td>\n",
       "      <td>Arizona</td>\n",
       "      <td>11100</td>\n",
       "      <td>1800</td>\n",
       "      <td>9200</td>\n",
       "      <td>0</td>\n",
       "      <td>0</td>\n",
       "      <td>1</td>\n",
       "      <td>2</td>\n",
       "      <td>...</td>\n",
       "      <td>1.2</td>\n",
       "      <td>800.0</td>\n",
       "      <td>80.0</td>\n",
       "      <td>115.0</td>\n",
       "      <td>49.0</td>\n",
       "      <td>250.0</td>\n",
       "      <td>74.0</td>\n",
       "      <td>78.0</td>\n",
       "      <td>104.0</td>\n",
       "      <td>80.0</td>\n",
       "    </tr>\n",
       "  </tbody>\n",
       "</table>\n",
       "<p>5 rows × 26 columns</p>\n",
       "</div>"
      ],
      "text/plain": [
       "                  Name   Region    state  summit_elev  vertical_drop  \\\n",
       "0       Alyeska Resort   Alaska   Alaska         3939           2500   \n",
       "1  Eaglecrest Ski Area   Alaska   Alaska         2600           1540   \n",
       "2     Hilltop Ski Area   Alaska   Alaska         2090            294   \n",
       "3     Arizona Snowbowl  Arizona  Arizona        11500           2300   \n",
       "4  Sunrise Park Resort  Arizona  Arizona        11100           1800   \n",
       "\n",
       "   base_elev  trams  fastSixes  fastQuads  quad  ...  LongestRun_mi  \\\n",
       "0        250      1          0          2     2  ...            1.0   \n",
       "1       1200      0          0          0     0  ...            2.0   \n",
       "2       1796      0          0          0     0  ...            1.0   \n",
       "3       9200      0          1          0     2  ...            2.0   \n",
       "4       9200      0          0          1     2  ...            1.2   \n",
       "\n",
       "   SkiableTerrain_ac  Snow Making_ac  daysOpenLastYear  yearsOpen  \\\n",
       "0             1610.0           113.0             150.0       60.0   \n",
       "1              640.0            60.0              45.0       44.0   \n",
       "2               30.0            30.0             150.0       36.0   \n",
       "3              777.0           104.0             122.0       81.0   \n",
       "4              800.0            80.0             115.0       49.0   \n",
       "\n",
       "   averageSnowfall  AdultWeekday  AdultWeekend  projectedDaysOpen  \\\n",
       "0            669.0          65.0          85.0              150.0   \n",
       "1            350.0          47.0          53.0               90.0   \n",
       "2             69.0          30.0          34.0              152.0   \n",
       "3            260.0          89.0          89.0              122.0   \n",
       "4            250.0          74.0          78.0              104.0   \n",
       "\n",
       "   NightSkiing_ac  \n",
       "0           550.0  \n",
       "1             NaN  \n",
       "2            30.0  \n",
       "3             NaN  \n",
       "4            80.0  \n",
       "\n",
       "[5 rows x 26 columns]"
      ]
     },
     "execution_count": 65,
     "metadata": {},
     "output_type": "execute_result"
    }
   ],
   "source": [
    "ski_data.head()"
   ]
  },
  {
   "cell_type": "markdown",
   "metadata": {},
   "source": [
    "Weekend prices have the least missing values of the two, so drop the weekday prices and then keep just the rows that have weekend price."
   ]
  },
  {
   "cell_type": "code",
   "execution_count": 66,
   "metadata": {},
   "outputs": [],
   "source": [
    "\n",
    "ski_data.dropna(subset=['AdultWeekend'], inplace=True)\n",
    "ski_data.drop(columns=['AdultWeekday'], inplace=True)\n"
   ]
  },
  {
   "cell_type": "code",
   "execution_count": 67,
   "metadata": {},
   "outputs": [
    {
     "data": {
      "text/plain": [
       "(277, 25)"
      ]
     },
     "execution_count": 67,
     "metadata": {},
     "output_type": "execute_result"
    }
   ],
   "source": [
    "ski_data.shape"
   ]
  },
  {
   "cell_type": "markdown",
   "metadata": {},
   "source": [
    "Perform a final quick check on the data."
   ]
  },
  {
   "cell_type": "code",
   "execution_count": 68,
   "metadata": {},
   "outputs": [
    {
     "data": {
      "text/html": [
       "<div>\n",
       "<style scoped>\n",
       "    .dataframe tbody tr th:only-of-type {\n",
       "        vertical-align: middle;\n",
       "    }\n",
       "\n",
       "    .dataframe tbody tr th {\n",
       "        vertical-align: top;\n",
       "    }\n",
       "\n",
       "    .dataframe thead th {\n",
       "        text-align: right;\n",
       "    }\n",
       "</style>\n",
       "<table border=\"1\" class=\"dataframe\">\n",
       "  <thead>\n",
       "    <tr style=\"text-align: right;\">\n",
       "      <th></th>\n",
       "      <th>Name</th>\n",
       "      <th>Region</th>\n",
       "      <th>state</th>\n",
       "      <th>summit_elev</th>\n",
       "      <th>vertical_drop</th>\n",
       "      <th>base_elev</th>\n",
       "      <th>trams</th>\n",
       "      <th>fastSixes</th>\n",
       "      <th>fastQuads</th>\n",
       "      <th>quad</th>\n",
       "      <th>...</th>\n",
       "      <th>TerrainParks</th>\n",
       "      <th>LongestRun_mi</th>\n",
       "      <th>SkiableTerrain_ac</th>\n",
       "      <th>Snow Making_ac</th>\n",
       "      <th>daysOpenLastYear</th>\n",
       "      <th>yearsOpen</th>\n",
       "      <th>averageSnowfall</th>\n",
       "      <th>AdultWeekend</th>\n",
       "      <th>projectedDaysOpen</th>\n",
       "      <th>NightSkiing_ac</th>\n",
       "    </tr>\n",
       "  </thead>\n",
       "  <tbody>\n",
       "    <tr>\n",
       "      <th>0</th>\n",
       "      <td>Alyeska Resort</td>\n",
       "      <td>Alaska</td>\n",
       "      <td>Alaska</td>\n",
       "      <td>3939</td>\n",
       "      <td>2500</td>\n",
       "      <td>250</td>\n",
       "      <td>1</td>\n",
       "      <td>0</td>\n",
       "      <td>2</td>\n",
       "      <td>2</td>\n",
       "      <td>...</td>\n",
       "      <td>2.0</td>\n",
       "      <td>1.0</td>\n",
       "      <td>1610.0</td>\n",
       "      <td>113.0</td>\n",
       "      <td>150.0</td>\n",
       "      <td>60.0</td>\n",
       "      <td>669.0</td>\n",
       "      <td>85.0</td>\n",
       "      <td>150.0</td>\n",
       "      <td>550.0</td>\n",
       "    </tr>\n",
       "    <tr>\n",
       "      <th>1</th>\n",
       "      <td>Eaglecrest Ski Area</td>\n",
       "      <td>Alaska</td>\n",
       "      <td>Alaska</td>\n",
       "      <td>2600</td>\n",
       "      <td>1540</td>\n",
       "      <td>1200</td>\n",
       "      <td>0</td>\n",
       "      <td>0</td>\n",
       "      <td>0</td>\n",
       "      <td>0</td>\n",
       "      <td>...</td>\n",
       "      <td>1.0</td>\n",
       "      <td>2.0</td>\n",
       "      <td>640.0</td>\n",
       "      <td>60.0</td>\n",
       "      <td>45.0</td>\n",
       "      <td>44.0</td>\n",
       "      <td>350.0</td>\n",
       "      <td>53.0</td>\n",
       "      <td>90.0</td>\n",
       "      <td>NaN</td>\n",
       "    </tr>\n",
       "    <tr>\n",
       "      <th>2</th>\n",
       "      <td>Hilltop Ski Area</td>\n",
       "      <td>Alaska</td>\n",
       "      <td>Alaska</td>\n",
       "      <td>2090</td>\n",
       "      <td>294</td>\n",
       "      <td>1796</td>\n",
       "      <td>0</td>\n",
       "      <td>0</td>\n",
       "      <td>0</td>\n",
       "      <td>0</td>\n",
       "      <td>...</td>\n",
       "      <td>1.0</td>\n",
       "      <td>1.0</td>\n",
       "      <td>30.0</td>\n",
       "      <td>30.0</td>\n",
       "      <td>150.0</td>\n",
       "      <td>36.0</td>\n",
       "      <td>69.0</td>\n",
       "      <td>34.0</td>\n",
       "      <td>152.0</td>\n",
       "      <td>30.0</td>\n",
       "    </tr>\n",
       "    <tr>\n",
       "      <th>3</th>\n",
       "      <td>Arizona Snowbowl</td>\n",
       "      <td>Arizona</td>\n",
       "      <td>Arizona</td>\n",
       "      <td>11500</td>\n",
       "      <td>2300</td>\n",
       "      <td>9200</td>\n",
       "      <td>0</td>\n",
       "      <td>1</td>\n",
       "      <td>0</td>\n",
       "      <td>2</td>\n",
       "      <td>...</td>\n",
       "      <td>4.0</td>\n",
       "      <td>2.0</td>\n",
       "      <td>777.0</td>\n",
       "      <td>104.0</td>\n",
       "      <td>122.0</td>\n",
       "      <td>81.0</td>\n",
       "      <td>260.0</td>\n",
       "      <td>89.0</td>\n",
       "      <td>122.0</td>\n",
       "      <td>NaN</td>\n",
       "    </tr>\n",
       "    <tr>\n",
       "      <th>4</th>\n",
       "      <td>Sunrise Park Resort</td>\n",
       "      <td>Arizona</td>\n",
       "      <td>Arizona</td>\n",
       "      <td>11100</td>\n",
       "      <td>1800</td>\n",
       "      <td>9200</td>\n",
       "      <td>0</td>\n",
       "      <td>0</td>\n",
       "      <td>1</td>\n",
       "      <td>2</td>\n",
       "      <td>...</td>\n",
       "      <td>2.0</td>\n",
       "      <td>1.2</td>\n",
       "      <td>800.0</td>\n",
       "      <td>80.0</td>\n",
       "      <td>115.0</td>\n",
       "      <td>49.0</td>\n",
       "      <td>250.0</td>\n",
       "      <td>78.0</td>\n",
       "      <td>104.0</td>\n",
       "      <td>80.0</td>\n",
       "    </tr>\n",
       "  </tbody>\n",
       "</table>\n",
       "<p>5 rows × 25 columns</p>\n",
       "</div>"
      ],
      "text/plain": [
       "                  Name   Region    state  summit_elev  vertical_drop  \\\n",
       "0       Alyeska Resort   Alaska   Alaska         3939           2500   \n",
       "1  Eaglecrest Ski Area   Alaska   Alaska         2600           1540   \n",
       "2     Hilltop Ski Area   Alaska   Alaska         2090            294   \n",
       "3     Arizona Snowbowl  Arizona  Arizona        11500           2300   \n",
       "4  Sunrise Park Resort  Arizona  Arizona        11100           1800   \n",
       "\n",
       "   base_elev  trams  fastSixes  fastQuads  quad  ...  TerrainParks  \\\n",
       "0        250      1          0          2     2  ...           2.0   \n",
       "1       1200      0          0          0     0  ...           1.0   \n",
       "2       1796      0          0          0     0  ...           1.0   \n",
       "3       9200      0          1          0     2  ...           4.0   \n",
       "4       9200      0          0          1     2  ...           2.0   \n",
       "\n",
       "   LongestRun_mi  SkiableTerrain_ac  Snow Making_ac  daysOpenLastYear  \\\n",
       "0            1.0             1610.0           113.0             150.0   \n",
       "1            2.0              640.0            60.0              45.0   \n",
       "2            1.0               30.0            30.0             150.0   \n",
       "3            2.0              777.0           104.0             122.0   \n",
       "4            1.2              800.0            80.0             115.0   \n",
       "\n",
       "   yearsOpen  averageSnowfall  AdultWeekend  projectedDaysOpen  NightSkiing_ac  \n",
       "0       60.0            669.0          85.0              150.0           550.0  \n",
       "1       44.0            350.0          53.0               90.0             NaN  \n",
       "2       36.0             69.0          34.0              152.0            30.0  \n",
       "3       81.0            260.0          89.0              122.0             NaN  \n",
       "4       49.0            250.0          78.0              104.0            80.0  \n",
       "\n",
       "[5 rows x 25 columns]"
      ]
     },
     "execution_count": 68,
     "metadata": {},
     "output_type": "execute_result"
    }
   ],
   "source": [
    "ski_data.head(5)"
   ]
  },
  {
   "cell_type": "markdown",
   "metadata": {},
   "source": [
    "### 2.11.1 Number Of Missing Values By Row - Resort<a id='2.11.1_Number_Of_Missing_Values_By_Row_-_Resort'></a>"
   ]
  },
  {
   "cell_type": "markdown",
   "metadata": {},
   "source": [
    "Having dropped rows missing the desired target ticket price, what degree of missingness do you have for the remaining rows?"
   ]
  },
  {
   "cell_type": "code",
   "execution_count": 69,
   "metadata": {},
   "outputs": [
    {
     "data": {
      "text/html": [
       "<div>\n",
       "<style scoped>\n",
       "    .dataframe tbody tr th:only-of-type {\n",
       "        vertical-align: middle;\n",
       "    }\n",
       "\n",
       "    .dataframe tbody tr th {\n",
       "        vertical-align: top;\n",
       "    }\n",
       "\n",
       "    .dataframe thead th {\n",
       "        text-align: right;\n",
       "    }\n",
       "</style>\n",
       "<table border=\"1\" class=\"dataframe\">\n",
       "  <thead>\n",
       "    <tr style=\"text-align: right;\">\n",
       "      <th></th>\n",
       "      <th>count</th>\n",
       "      <th>%</th>\n",
       "    </tr>\n",
       "  </thead>\n",
       "  <tbody>\n",
       "    <tr>\n",
       "      <th>329</th>\n",
       "      <td>5</td>\n",
       "      <td>20.0</td>\n",
       "    </tr>\n",
       "    <tr>\n",
       "      <th>62</th>\n",
       "      <td>5</td>\n",
       "      <td>20.0</td>\n",
       "    </tr>\n",
       "    <tr>\n",
       "      <th>141</th>\n",
       "      <td>5</td>\n",
       "      <td>20.0</td>\n",
       "    </tr>\n",
       "    <tr>\n",
       "      <th>86</th>\n",
       "      <td>5</td>\n",
       "      <td>20.0</td>\n",
       "    </tr>\n",
       "    <tr>\n",
       "      <th>74</th>\n",
       "      <td>5</td>\n",
       "      <td>20.0</td>\n",
       "    </tr>\n",
       "    <tr>\n",
       "      <th>146</th>\n",
       "      <td>5</td>\n",
       "      <td>20.0</td>\n",
       "    </tr>\n",
       "    <tr>\n",
       "      <th>184</th>\n",
       "      <td>4</td>\n",
       "      <td>16.0</td>\n",
       "    </tr>\n",
       "    <tr>\n",
       "      <th>108</th>\n",
       "      <td>4</td>\n",
       "      <td>16.0</td>\n",
       "    </tr>\n",
       "    <tr>\n",
       "      <th>198</th>\n",
       "      <td>4</td>\n",
       "      <td>16.0</td>\n",
       "    </tr>\n",
       "    <tr>\n",
       "      <th>39</th>\n",
       "      <td>4</td>\n",
       "      <td>16.0</td>\n",
       "    </tr>\n",
       "  </tbody>\n",
       "</table>\n",
       "</div>"
      ],
      "text/plain": [
       "     count     %\n",
       "329      5  20.0\n",
       "62       5  20.0\n",
       "141      5  20.0\n",
       "86       5  20.0\n",
       "74       5  20.0\n",
       "146      5  20.0\n",
       "184      4  16.0\n",
       "108      4  16.0\n",
       "198      4  16.0\n",
       "39       4  16.0"
      ]
     },
     "execution_count": 69,
     "metadata": {},
     "output_type": "execute_result"
    }
   ],
   "source": [
    "missing = pd.concat([ski_data.isnull().sum(axis=1), 100 * ski_data.isnull().mean(axis=1)], axis=1)\n",
    "missing.columns=['count', '%']\n",
    "missing.sort_values(by='count', ascending=False).head(10)"
   ]
  },
  {
   "cell_type": "markdown",
   "metadata": {},
   "source": [
    "These seem possibly curiously quantized..."
   ]
  },
  {
   "cell_type": "code",
   "execution_count": 70,
   "metadata": {},
   "outputs": [
    {
     "data": {
      "text/plain": [
       "array([ 0.,  4.,  8., 12., 16., 20.])"
      ]
     },
     "execution_count": 70,
     "metadata": {},
     "output_type": "execute_result"
    }
   ],
   "source": [
    "missing['%'].unique()"
   ]
  },
  {
   "cell_type": "markdown",
   "metadata": {},
   "source": [
    "Yes, the percentage of missing values per row appear in multiples of 4."
   ]
  },
  {
   "cell_type": "code",
   "execution_count": 71,
   "metadata": {},
   "outputs": [
    {
     "data": {
      "text/plain": [
       "0.0     107\n",
       "4.0      94\n",
       "8.0      45\n",
       "12.0     15\n",
       "16.0     10\n",
       "20.0      6\n",
       "Name: %, dtype: int64"
      ]
     },
     "execution_count": 71,
     "metadata": {},
     "output_type": "execute_result"
    }
   ],
   "source": [
    "missing['%'].value_counts()"
   ]
  },
  {
   "cell_type": "markdown",
   "metadata": {},
   "source": [
    "This is almost as if values have been removed artificially... Nevertheless, what you don't know is how useful the missing features are in predicting ticket price. You shouldn't just drop rows that are missing several useless features."
   ]
  },
  {
   "cell_type": "code",
   "execution_count": 72,
   "metadata": {},
   "outputs": [
    {
     "name": "stdout",
     "output_type": "stream",
     "text": [
      "<class 'pandas.core.frame.DataFrame'>\n",
      "Int64Index: 277 entries, 0 to 329\n",
      "Data columns (total 25 columns):\n",
      " #   Column             Non-Null Count  Dtype  \n",
      "---  ------             --------------  -----  \n",
      " 0   Name               277 non-null    object \n",
      " 1   Region             277 non-null    object \n",
      " 2   state              277 non-null    object \n",
      " 3   summit_elev        277 non-null    int64  \n",
      " 4   vertical_drop      277 non-null    int64  \n",
      " 5   base_elev          277 non-null    int64  \n",
      " 6   trams              277 non-null    int64  \n",
      " 7   fastSixes          277 non-null    int64  \n",
      " 8   fastQuads          277 non-null    int64  \n",
      " 9   quad               277 non-null    int64  \n",
      " 10  triple             277 non-null    int64  \n",
      " 11  double             277 non-null    int64  \n",
      " 12  surface            277 non-null    int64  \n",
      " 13  total_chairs       277 non-null    int64  \n",
      " 14  Runs               274 non-null    float64\n",
      " 15  TerrainParks       233 non-null    float64\n",
      " 16  LongestRun_mi      272 non-null    float64\n",
      " 17  SkiableTerrain_ac  275 non-null    float64\n",
      " 18  Snow Making_ac     240 non-null    float64\n",
      " 19  daysOpenLastYear   233 non-null    float64\n",
      " 20  yearsOpen          277 non-null    float64\n",
      " 21  averageSnowfall    268 non-null    float64\n",
      " 22  AdultWeekend       277 non-null    float64\n",
      " 23  projectedDaysOpen  236 non-null    float64\n",
      " 24  NightSkiing_ac     163 non-null    float64\n",
      "dtypes: float64(11), int64(11), object(3)\n",
      "memory usage: 56.3+ KB\n"
     ]
    }
   ],
   "source": [
    "ski_data.info()"
   ]
  },
  {
   "cell_type": "markdown",
   "metadata": {},
   "source": [
    "There are still some missing values, and it's good to be aware of this, but leave them as is for now."
   ]
  },
  {
   "cell_type": "markdown",
   "metadata": {},
   "source": [
    "## 2.12 Save data<a id='2.12_Save_data'></a>"
   ]
  },
  {
   "cell_type": "code",
   "execution_count": 73,
   "metadata": {},
   "outputs": [
    {
     "data": {
      "text/plain": [
       "(277, 25)"
      ]
     },
     "execution_count": 73,
     "metadata": {},
     "output_type": "execute_result"
    }
   ],
   "source": [
    "ski_data.shape"
   ]
  },
  {
   "cell_type": "markdown",
   "metadata": {},
   "source": [
    "Save this to your data directory, separately. Note that you were provided with the data in `raw_data` and you should saving derived data in a separate location. This guards against overwriting our original data."
   ]
  },
  {
   "cell_type": "code",
   "execution_count": 74,
   "metadata": {},
   "outputs": [
    {
     "name": "stdout",
     "output_type": "stream",
     "text": [
      "A file already exists with this name.\n",
      "\n",
      "Do you want to overwrite? (Y/N)Y\n",
      "Writing file.  \"../data/ski_data_cleaned.csv\"\n"
     ]
    }
   ],
   "source": [
    "# save the data to a new csv file\n",
    "datapath = '../data'\n",
    "save_file(ski_data, 'ski_data_cleaned.csv', datapath)"
   ]
  },
  {
   "cell_type": "code",
   "execution_count": 75,
   "metadata": {},
   "outputs": [
    {
     "name": "stdout",
     "output_type": "stream",
     "text": [
      "A file already exists with this name.\n",
      "\n",
      "Do you want to overwrite? (Y/N)Y\n",
      "Writing file.  \"../data/state_summary.csv\"\n"
     ]
    }
   ],
   "source": [
    "# save the state_summary separately.\n",
    "datapath = '../data'\n",
    "save_file(state_summary, 'state_summary.csv', datapath)"
   ]
  },
  {
   "cell_type": "markdown",
   "metadata": {},
   "source": [
    "## 2.13 Summary<a id='2.13_Summary'></a>"
   ]
  },
  {
   "cell_type": "markdown",
   "metadata": {},
   "source": [
    "**Q: 3** Write a summary statement that highlights the key processes and findings from this notebook. This should include information such as the original number of rows in the data, whether our own resort was actually present etc. What columns, if any, have been removed? Any rows? Summarise the reasons why. Were any other issues found? What remedial actions did you take? State where you are in the project. Can you confirm what the target feature is for your desire to predict ticket price? How many rows were left in the data? Hint: this is a great opportunity to reread your notebook, check all cells have been executed in order and from a \"blank slate\" (restarting the kernel will do this), and that your workflow makes sense and follows a logical pattern. As you do this you can pull out salient information for inclusion in this summary. Thus, this section will provide an important overview of \"what\" and \"why\" without having to dive into the \"how\" or any unproductive or inconclusive steps along the way."
   ]
  },
  {
   "cell_type": "markdown",
   "metadata": {},
   "source": [
    "**A: 3** Your answer here  \n",
    "=====================\n",
    "The ski resort data was loaded from a CSV file and examined using the info() method, revealing that there are 330 rows and 27 columns. Some columns have missing values. To handle this, the fastEight, TerrainParks, and Snow Making_ac columns, which had excessive missing values, were dropped. A spot check was done to ensure the data's accuracy and was cross-referenced with an external source. Any discrepancies found were corrected.\n",
    "Duplicates and missing values in the remaining rows were then addressed. Missing values in the Runs and LongestRun_mi columns were filled with median values. Rows with incomplete price data were removed.\n",
    "Population data for the US was extracted from a Wikipedia table, underwent data cleaning, and was merged with the ski resort data. This combined dataset was then utilized for further analysis and saved as \"state_summary.csv\" in a subsequent notebook.\n",
    "Upon analyzing pricing features, it was noted that the difference between AdultWeekday and AdultWeekend prices wasn't significant. As the AdultWeekday column had more missing values, the decision was made to retain only the AdultWeekend column. The final dataset consisted of 277 rows and 25 columns and was saved as \"ski_data_cleaned.csv\" file, although some missing value issues still remained."
   ]
  }
 ],
 "metadata": {
  "kernelspec": {
   "display_name": "Python 3 (ipykernel)",
   "language": "python",
   "name": "python3"
  },
  "language_info": {
   "codemirror_mode": {
    "name": "ipython",
    "version": 3
   },
   "file_extension": ".py",
   "mimetype": "text/x-python",
   "name": "python",
   "nbconvert_exporter": "python",
   "pygments_lexer": "ipython3",
   "version": "3.9.7"
  },
  "toc": {
   "base_numbering": 1,
   "nav_menu": {},
   "number_sections": true,
   "sideBar": true,
   "skip_h1_title": false,
   "title_cell": "Table of Contents",
   "title_sidebar": "Contents",
   "toc_cell": false,
   "toc_position": {},
   "toc_section_display": true,
   "toc_window_display": true
  },
  "varInspector": {
   "cols": {
    "lenName": 16,
    "lenType": 16,
    "lenVar": 40
   },
   "kernels_config": {
    "python": {
     "delete_cmd_postfix": "",
     "delete_cmd_prefix": "del ",
     "library": "var_list.py",
     "varRefreshCmd": "print(var_dic_list())"
    },
    "r": {
     "delete_cmd_postfix": ") ",
     "delete_cmd_prefix": "rm(",
     "library": "var_list.r",
     "varRefreshCmd": "cat(var_dic_list()) "
    }
   },
   "types_to_exclude": [
    "module",
    "function",
    "builtin_function_or_method",
    "instance",
    "_Feature"
   ],
   "window_display": false
  }
 },
 "nbformat": 4,
 "nbformat_minor": 4
}
